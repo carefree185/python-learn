{
 "cells": [
  {
   "cell_type": "markdown",
   "metadata": {},
   "source": [
    "- 什么是requests模块？\n",
    "    - Python中封装好的一个基于网络请求的模块。\n",
    "- requests模块的作用？\n",
    "    - 用来模拟浏览器发请求\n",
    "- requests模块的环境安装：\n",
    "    - pip install requests\n",
    "- requests模块的编码流程：\n",
    "    - 1.指定url\n",
    "    - 2.发起请求\n",
    "    - 3.获取响应数据\n",
    "    - 4.持久化存储"
   ]
  },
  {
   "cell_type": "code",
   "execution_count": 1,
   "metadata": {},
   "outputs": [],
   "source": [
    "#爬取搜狗首页的页面源码数据\n",
    "import requests\n",
    "#1.指定url\n",
    "url = 'https://www.sogou.com/'\n",
    "#2.请求发送get:get返回值是一个响应对象\n",
    "response = requests.get(url=url)\n",
    "#3.获取响应数据\n",
    "page_text = response.text #返回的是字符串形式的响应数据\n",
    "#4.持久化存储\n",
    "with open('sogou.html','w',encoding='utf-8') as fp:\n",
    "    fp.write(page_text)\n"
   ]
  },
  {
   "cell_type": "code",
   "execution_count": 4,
   "metadata": {},
   "outputs": [
    {
     "name": "stdout",
     "output_type": "stream",
     "text": [
      "enter a key:jay\n"
     ]
    }
   ],
   "source": [
    "#实现一个简易的网页采集器\n",
    "#需要让url携带的参数动态化\n",
    "url = 'https://www.sogou.com/web'\n",
    "#实现参数动态化\n",
    "wd = input('enter a key:')\n",
    "params = {\n",
    "    'query':wd\n",
    "}\n",
    "#在请求中需要将请求参数对应的字典作用到params这个get方法的参数中\n",
    "response = requests.get(url=url,params=params)\n",
    "\n",
    "page_text = response.text\n",
    "fileName = wd+'.html'\n",
    "with open(fileName,'w',encoding='utf-8') as fp:\n",
    "    fp.write(page_text)"
   ]
  },
  {
   "cell_type": "markdown",
   "metadata": {},
   "source": [
    "- 上述代码执行后发现：\n",
    "    - 1.出现了乱码\n",
    "    - 2.数据量级不对"
   ]
  },
  {
   "cell_type": "code",
   "execution_count": 5,
   "metadata": {},
   "outputs": [
    {
     "name": "stdout",
     "output_type": "stream",
     "text": [
      "enter a key:jay\n"
     ]
    }
   ],
   "source": [
    "#解决乱码\n",
    "\n",
    "url = 'https://www.sogou.com/web'\n",
    "#实现参数动态化\n",
    "wd = input('enter a key:')\n",
    "params = {\n",
    "    'query':wd\n",
    "}\n",
    "#在请求中需要将请求参数对应的字典作用到params这个get方法的参数中\n",
    "response = requests.get(url=url,params=params)\n",
    "response.encoding = 'utf-8' #修改响应数据的编码格式\n",
    "page_text = response.text\n",
    "fileName = wd+'.html'\n",
    "with open(fileName,'w',encoding='utf-8') as fp:\n",
    "    fp.write(page_text)"
   ]
  },
  {
   "cell_type": "markdown",
   "metadata": {},
   "source": [
    "- UA检测：门户网站通过检测请求载体的身份标识判定改请求是否为爬虫发起的请求\n",
    "- UA伪装：Mozilla/5.0 (Windows NT 10.0; Win64; x64) AppleWebKit/537.36 (KHTML, like Gecko) Chrome/76.0.3809.132 Safari/537.36"
   ]
  },
  {
   "cell_type": "code",
   "execution_count": 2,
   "metadata": {},
   "outputs": [
    {
     "name": "stdout",
     "output_type": "stream",
     "text": [
      "enter a key:111\n"
     ]
    }
   ],
   "source": [
    "#解决UA检测\n",
    "url = 'https://www.sogou.com/web'\n",
    "#实现参数动态化\n",
    "wd = input('enter a key:')\n",
    "params = {\n",
    "    'query':wd\n",
    "}\n",
    "headers = {\n",
    "    'User-Agent':'Mozilla/5.0 (Windows NT 10.0; Win64; x64) AppleWebKit/537.36 (KHTML, like Gecko) Chrome/76.0.3809.132 Safari/537.36'\n",
    "}\n",
    "#在请求中需要将请求参数对应的字典作用到params这个get方法的参数中\n",
    "response = requests.get(url=url,params=params,headers=headers)\n",
    "response.encoding = 'utf-8' #修改响应数据的编码格式\n",
    "page_text = response.text\n",
    "fileName = wd+'.html'\n",
    "with open(fileName,'w',encoding='utf-8') as fp:\n",
    "    fp.write(page_text)"
   ]
  },
  {
   "cell_type": "code",
   "execution_count": null,
   "metadata": {},
   "outputs": [],
   "source": [
    "#爬取的是豆瓣电影中电影的详情数据https://movie.douban.com/typerank?type_name=%E7%88%B1%E6%83%85&type=13&interval_id=100:90&action=\n",
    "#分析：当滚动条被滑动到页面底部的时候，当前页面发生了局部刷新（ajax的请求）"
   ]
  },
  {
   "cell_type": "markdown",
   "metadata": {},
   "source": [
    "- 动态加载的页面数据\n",
    "    - 是通过另一个单独的请求请求到的数据"
   ]
  },
  {
   "cell_type": "code",
   "execution_count": 3,
   "metadata": {
    "collapsed": true
   },
   "outputs": [
    {
     "name": "stdout",
     "output_type": "stream",
     "text": [
      "您想从第几部电影开始获取:0\n",
      "您想获取多少电影数据:100\n",
      "霸王别姬:9.6\n",
      "阿甘正传:9.5\n",
      "美丽人生:9.5\n",
      "泰坦尼克号:9.4\n",
      "泰坦尼克号 3D版:9.4\n",
      "灿烂人生:9.4\n",
      "巴黎圣母院:9.4\n",
      "罗密欧与朱丽叶:9.4\n",
      "机器人总动员:9.3\n",
      "乱世佳人:9.3\n",
      "摩登时代:9.3\n",
      "城市之光:9.3\n",
      "狐妖小红娘剧场版：月红篇:9.3\n",
      "三傻大闹宝莱坞:9.2\n",
      "大话西游之大圣娶亲:9.2\n",
      "天堂电影院:9.2\n",
      "生活多美好:9.2\n",
      "南海十三郎:9.2\n",
      "哀乐中年:9.2\n",
      "狐妖小红娘剧场版：王权富贵:9.2\n",
      "芙蓉镇:9.1\n",
      "沉静如海:9.1\n",
      "淘金记:9.1\n",
      "马戏团:9.1\n",
      "情迷意乱:9.1\n",
      "士兵之歌:9.1\n",
      "战争与和平:9.1\n",
      "怦然心动:9.0\n",
      "大话西游之月光宝盒:9.0\n",
      "罗马假日:9.0\n",
      "音乐之声:9.0\n",
      "一一:9.0\n",
      "雨中曲:9.0\n",
      "我爱你:9.0\n",
      "莫娣:9.0\n",
      "卡比利亚之夜:9.0\n",
      "婚姻生活:9.0\n",
      "本杰明·巴顿奇事:8.9\n",
      "情书:8.9\n",
      "春光乍泄:8.9\n",
      "侧耳倾听:8.9\n",
      "喜宴:8.9\n",
      "佛兰德斯的狗:8.9\n",
      "歌厅:8.9\n",
      "哭泣的草原:8.9\n",
      "断背山:8.8\n",
      "阳光灿烂的日子:8.8\n",
      "请以你的名字呼唤我:8.8\n",
      "爱在黎明破晓前:8.8\n",
      "甜蜜蜜:8.8\n",
      "爱在日落黄昏时:8.8\n",
      "萤火之森:8.8\n",
      "燃情岁月:8.8\n",
      "爱在午夜降临前:8.8\n",
      "魂断蓝桥:8.8\n",
      "横道世之介:8.8\n",
      "莫里斯:8.8\n",
      "同级生:8.8\n",
      "巴里·林登:8.8\n",
      "爱情短片:8.8\n",
      "办公室的故事:8.8\n",
      "邮差:8.8\n",
      "豹:8.8\n",
      "夜:8.8\n",
      "日出:8.8\n",
      "安全至下:8.8\n",
      "七次机会:8.8\n",
      "天鹅湖:8.8\n",
      "鹳鸟踟蹰:8.8\n",
      "金玫瑰洞:8.8\n",
      "儿子:8.8\n",
      "剪刀手爱德华:8.7\n",
      "天使爱美丽:8.7\n",
      "喜剧之王:8.7\n",
      "重庆森林:8.7\n",
      "倩女幽魂:8.7\n",
      "幸福终点站:8.7\n",
      "时空恋旅人:8.7\n",
      "千年女优:8.7\n",
      "碧海蓝天:8.7\n",
      "东邪西毒：终极版:8.7\n",
      "蓝白红三部曲之红:8.7\n",
      "弗里达:8.7\n",
      "面子:8.7\n",
      "野草莓:8.7\n",
      "一夜风流:8.7\n",
      "西伯利亚的理发师:8.7\n",
      "桃色公寓:8.7\n",
      "黄昏的清兵卫:8.7\n",
      "开罗紫玫瑰:8.7\n",
      "呼喊与细语:8.7\n",
      "罗密欧与朱丽叶:8.7\n",
      "街角的商店:8.7\n",
      "党同伐异:8.7\n",
      "一九零零:8.7\n",
      "铁达尼号沉没记:8.7\n",
      "生命是个奇迹:8.7\n",
      "天堂的孩子:8.7\n",
      "舞台春秋:8.7\n",
      "解放:8.7\n"
     ]
    }
   ],
   "source": [
    "url = 'https://movie.douban.com/j/chart/top_list'\n",
    "start = input('您想从第几部电影开始获取:')\n",
    "limit = input('您想获取多少电影数据:')\n",
    "dic = {\n",
    "    'type': '13',\n",
    "    'interval_id': '100:90',\n",
    "    'action': '',\n",
    "    'start': start,\n",
    "    'limit': limit,\n",
    "}\n",
    "response = requests.get(url=url,params=dic,headers=headers)\n",
    "page_text = response.json() #json()返回的是序列化好的实例对象\n",
    "for dic in page_text:\n",
    "    print(dic['title']+':'+dic['score'])"
   ]
  },
  {
   "cell_type": "code",
   "execution_count": 9,
   "metadata": {
    "collapsed": true
   },
   "outputs": [
    {
     "name": "stdout",
     "output_type": "stream",
     "text": [
      "{'Table': [{'rowcount': 33}], 'Table1': [{'rownum': 1, 'storeName': '东大街（西安）', 'addressDetail': '东大街53号', 'pro': '24小时,Wi-Fi,点唱机,礼品卡', 'provinceName': '青海省', 'cityName': '西宁市'}, {'rownum': 2, 'storeName': '同安', 'addressDetail': '同安区西安路西安广场一层二层', 'pro': '24小时,Wi-Fi,点唱机,礼品卡,生日餐会', 'provinceName': '福建省', 'cityName': '厦门市'}, {'rownum': 3, 'storeName': '成义', 'addressDetail': '西安路60号民勇大厦一楼', 'pro': '24小时,Wi-Fi,点唱机,店内参观,礼品卡', 'provinceName': '辽宁省', 'cityName': '大连市'}, {'rownum': 4, 'storeName': '罗斯福', 'addressDetail': '西安路139号1号', 'pro': 'Wi-Fi,点唱机,店内参观,礼品卡', 'provinceName': '辽宁省', 'cityName': '大连市'}, {'rownum': 5, 'storeName': '贺兰山（西安）', 'addressDetail': '游艺东街6号一层', 'pro': '24小时,Wi-Fi,店内参观,礼品卡,生日餐会', 'provinceName': '宁夏', 'cityName': '石嘴山市'}, {'rownum': 6, 'storeName': '站前', 'addressDetail': '西八路19号西安汽车站售票大厅东墙以东站内房产一二层', 'pro': '24小时,Wi-Fi,礼品卡', 'provinceName': '陕西省', 'cityName': '西安市'}, {'rownum': 7, 'storeName': '西安北客站', 'addressDetail': '文景路北口北客站内(仅限站内旅客购买029-63325316)', 'pro': 'Wi-Fi,礼品卡', 'provinceName': '陕西省', 'cityName': '西安市'}, {'rownum': 8, 'storeName': '西安明德门', 'addressDetail': '朱雀大街58号金水大厦一、二层', 'pro': 'Wi-Fi,店内参观,礼品卡', 'provinceName': '陕西省', 'cityName': '西安市'}, {'rownum': 9, 'storeName': '西安幸福', 'addressDetail': '长乐东路华润万家超一二层', 'pro': '24小时,Wi-Fi,点唱机,店内参观,礼品卡,生日餐会', 'provinceName': '陕西省', 'cityName': '西安市'}, {'rownum': 10, 'storeName': '西安兴庆', 'addressDetail': '兴庆路28号华润万家超一二层肯德基', 'pro': 'Wi-Fi,店内参观,礼品卡,生日餐会', 'provinceName': '陕西省', 'cityName': '西安市'}]}\n",
      "{'Table': [{'rowcount': 33}], 'Table1': [{'rownum': 11, 'storeName': '西安莲湖', 'addressDetail': '莲湖路25#汉庭酒店一二层', 'pro': '24小时,Wi-Fi,店内参观,礼品卡,生日餐会', 'provinceName': '陕西省', 'cityName': '西安市'}, {'rownum': 12, 'storeName': '西安文景', 'addressDetail': '凤城五路与文景路十字东南角人人乐超一楼', 'pro': '24小时,Wi-Fi,点唱机,店内参观,礼品卡,生日餐会', 'provinceName': '陕西省', 'cityName': '西安市'}, {'rownum': 13, 'storeName': '西安龙首', 'addressDetail': '龙首北路与未央路十字东南角龙首村宫园壹号一层+负一层', 'pro': 'Wi-Fi,店内参观,礼品卡,生日餐会', 'provinceName': '陕西省', 'cityName': '西安市'}, {'rownum': 14, 'storeName': '西安银泰城', 'addressDetail': '曲江新区雁南二路北侧银泰城-1F', 'pro': 'Wi-Fi,点唱机,店内参观,礼品卡,生日餐会', 'provinceName': '陕西省', 'cityName': '西安市'}, {'rownum': 15, 'storeName': '西安机场T3', 'addressDetail': '国际机场3号航站综合交通枢纽1层', 'pro': '机场店,礼品卡', 'provinceName': '陕西省', 'cityName': '咸阳市'}, {'rownum': 16, 'storeName': '西安钟鼓楼', 'addressDetail': '回民街旁国民商城一层', 'pro': 'Wi-Fi,点唱机,店内参观,礼品卡', 'provinceName': '陕西省', 'cityName': '西安市'}, {'rownum': 17, 'storeName': '西安骊山', 'addressDetail': '人民南路全都超市一，二层', 'pro': 'Wi-Fi,店内参观,礼品卡,生日餐会', 'provinceName': '陕西省', 'cityName': '西安市'}, {'rownum': 18, 'storeName': '西安新世界', 'addressDetail': '宏府广场新世界百货负一层', 'pro': 'Wi-Fi,店内参观,礼品卡', 'provinceName': '陕西省', 'cityName': '西安市'}, {'rownum': 19, 'storeName': '西安科创', 'addressDetail': '高新区科创路枫叶大厦B0103.B0203（高新一中对面）', 'pro': 'Wi-Fi,店内参观,礼品卡', 'provinceName': '陕西省', 'cityName': '西安市'}, {'rownum': 20, 'storeName': '百胜餐饮*（西安）有限公司肯德基曲江会展汽车穿梭餐厅', 'addressDetail': '长安南路电视塔以东国际会展中心', 'pro': '24小时,Wi-Fi,点唱机,礼品卡', 'provinceName': '陕西省', 'cityName': '西安市'}]}\n",
      "{'Table': [{'rowcount': 33}], 'Table1': [{'rownum': 21, 'storeName': '西安万科', 'addressDetail': '长安郭杜街办茅坡村西侧万科城西区商业48#楼1+2层', 'pro': 'Wi-Fi,店内参观,礼品卡,生日餐会', 'provinceName': '陕西省', 'cityName': '西安市'}, {'rownum': 22, 'storeName': '西安东新街', 'addressDetail': '解放路与东新街十字东南角一、二层肯德基', 'pro': '24小时,Wi-Fi,礼品卡', 'provinceName': '陕西省', 'cityName': '西安市'}, {'rownum': 23, 'storeName': '西安咸宁', 'addressDetail': '咸宁中路122号乐宁会一层二层', 'pro': 'Wi-Fi,店内参观,礼品卡,生日餐会', 'provinceName': '陕西省', 'cityName': '西安市'}, {'rownum': 24, 'storeName': '西安含元', 'addressDetail': '太华路华东茶城一层', 'pro': 'Wi-Fi,店内参观,礼品卡,生日餐会', 'provinceName': '陕西省', 'cityName': '西安市'}, {'rownum': 25, 'storeName': '西安启航', 'addressDetail': '三桥街道启航时代广场一层', 'pro': 'Wi-Fi,点唱机,礼品卡', 'provinceName': '陕西省', 'cityName': '西安市'}, {'rownum': 26, 'storeName': '西安唐兴路', 'addressDetail': '高新区团结南路与唐兴路十字西南角睿中心一层', 'pro': 'Wi-Fi,店内参观', 'provinceName': '陕西省', 'cityName': '西安市'}, {'rownum': 27, 'storeName': '中央大道', 'addressDetail': '西安路107号中央大道4层', 'pro': 'Wi-Fi,点唱机', 'provinceName': '辽宁省', 'cityName': '大连市'}, {'rownum': 28, 'storeName': '西安机场T3外卖', 'addressDetail': '咸阳国际机场T3航站楼到大厅一层', 'pro': '点唱机', 'provinceName': '陕西省', 'cityName': '咸阳市'}, {'rownum': 29, 'storeName': '中央大道甜品站', 'addressDetail': '沙河口区西安路103-1.103-2.103-3号L4-007.L1-009-B商铺', 'pro': None, 'provinceName': '辽宁省', 'cityName': '大连市'}, {'rownum': 30, 'storeName': '西安火车站', 'addressDetail': '环城北路48号西安火车站西广场雨廊', 'pro': '24小时,Wi-Fi', 'provinceName': '陕西省', 'cityName': '西安市'}]}\n",
      "{'Table': [{'rowcount': 33}], 'Table1': [{'rownum': 31, 'storeName': '西安华为园区', 'addressDetail': '锦业路127号华为基地', 'pro': '精选店', 'provinceName': '陕西省', 'cityName': '西安市'}, {'rownum': 32, 'storeName': '西安T11', 'addressDetail': '唐延路11号T11 商场F座一层肯德基餐厅', 'pro': 'Wi-Fi,点唱机,店内参观', 'provinceName': '陕西省', 'cityName': '西安市'}, {'rownum': 33, 'storeName': '罗斯福临时甜品站', 'addressDetail': '西安路139号1号罗斯福广场一层', 'pro': None, 'provinceName': '辽宁省', 'cityName': '大连市'}]}\n"
     ]
    }
   ],
   "source": [
    "#肯德基餐厅查询http://www.kfc.com.cn/kfccda/storelist/index.aspx\n",
    "url = 'http://www.kfc.com.cn/kfccda/ashx/GetStoreList.ashx?op=keyword'\n",
    "for page in range(1,5):\n",
    "    data = {\n",
    "        'cname': '',\n",
    "        'pid': '',\n",
    "        'keyword': '西安',\n",
    "        'pageIndex': str(page),\n",
    "        'pageSize': '10',\n",
    "    }\n",
    "    response = requests.post(url=url,headers=headers,data=data)\n",
    "    print(response.json())"
   ]
  },
  {
   "cell_type": "markdown",
   "metadata": {},
   "source": [
    "- 需求\n",
    "    - 爬取药监总局中相关企业的详情信息http://125.35.6.84:81/xk/\n",
    "- 需求分析"
   ]
  },
  {
   "cell_type": "markdown",
   "metadata": {},
   "source": [
    "- 如何检测页面中是否存在动态加载的数据？\n",
    "    - 基于抓包工具实现\n",
    "        - 先捕获网站请求后所有的数据包\n",
    "        - 在数据包中定位到地址栏所对应请求的数据包，在response选项卡对应的数据中进行局部搜索（页面中的某一组内容）\n",
    "            - 可以搜索到：爬取的数据不是动态加载的\n",
    "            - 没有搜索到：爬取的数据是动态加载的\n",
    "        - 如何定位动态加载的数据在哪个数据包中呢？\n",
    "            - 进行全局搜索"
   ]
  }
 ],
 "metadata": {
  "kernelspec": {
   "display_name": "Python 3",
   "language": "python",
   "name": "python3"
  },
  "language_info": {
   "codemirror_mode": {
    "name": "ipython",
    "version": 3
   },
   "file_extension": ".py",
   "mimetype": "text/x-python",
   "name": "python",
   "nbconvert_exporter": "python",
   "pygments_lexer": "ipython3",
   "version": "3.6.4"
  }
 },
 "nbformat": 4,
 "nbformat_minor": 2
}
