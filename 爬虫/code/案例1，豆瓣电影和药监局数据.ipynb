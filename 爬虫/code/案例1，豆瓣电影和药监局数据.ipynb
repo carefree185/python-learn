{
 "cells": [
  {
   "cell_type": "code",
   "execution_count": 2,
   "outputs": [
    {
     "name": "stdout",
     "output_type": "stream",
     "text": [
      "[{'rating': ['9.3', '50'], 'rank': 41, 'cover_url': 'https://img1.doubanio.com/view/photo/s_ratio_poster/public/p2319879389.jpg', 'is_playable': True, 'id': '1422283', 'types': ['剧情', '战争'], 'regions': ['中国大陆'], 'title': '高山下的花环', 'url': 'https://movie.douban.com/subject/1422283/', 'release_date': '1985-11-07', 'actor_count': 10, 'vote_count': 27690, 'score': '9.3', 'actors': ['唐国强', '吕晓禾', '何伟', '王玉梅', '倪大红', '盖克', '斯琴高娃', '胡宗琪', '管宗祥', '童超'], 'is_watched': False}, {'rating': ['9.3', '50'], 'rank': 42, 'cover_url': 'https://img1.doubanio.com/view/photo/s_ratio_poster/public/p2529714509.jpg', 'is_playable': False, 'id': '2054458', 'types': ['剧情', '喜剧', '动画'], 'regions': ['美国'], 'title': '拽妹黛薇儿要上大学了没', 'url': 'https://movie.douban.com/subject/2054458/', 'release_date': '2002-01-21', 'actor_count': 9, 'vote_count': 2018, 'score': '9.3', 'actors': ['John Lynn', 'Amir Williams', '马克·汤普森', 'Becca Lish', '温迪胡普斯', '莎拉·德鲁', 'Bart Fasbender', '费舍·史蒂芬斯', '吉奥弗瑞·阿伦德'], 'is_watched': False}, {'rating': ['9.2', '50'], 'rank': 43, 'cover_url': 'https://img3.doubanio.com/view/photo/s_ratio_poster/public/p579729551.jpg', 'is_playable': True, 'id': '3793023', 'types': ['剧情', '喜剧', '爱情', '歌舞'], 'regions': ['印度'], 'title': '三傻大闹宝莱坞', 'url': 'https://movie.douban.com/subject/3793023/', 'release_date': '2011-12-08', 'actor_count': 13, 'vote_count': 1528938, 'score': '9.2', 'actors': ['阿米尔·汗', '卡琳娜·卡普尔', '马达范', '沙尔曼·乔希', '奥米·瓦依达', '博曼·伊拉尼', '莫娜·辛格', '拉杰夫·拉宾德拉纳特安', 'Atul Tiwari', '阿里·法扎勒', '帕里卡沙特.萨赫尼', 'Rakesh Sharma', '贾维德·杰弗里'], 'is_watched': False}, {'rating': ['9.2', '50'], 'rank': 44, 'cover_url': 'https://img2.doubanio.com/view/photo/s_ratio_poster/public/p2564556863.jpg', 'is_playable': True, 'id': '1307914', 'types': ['剧情', '犯罪', '悬疑'], 'regions': ['中国香港'], 'title': '无间道', 'url': 'https://movie.douban.com/subject/1307914/', 'release_date': '2003-09-05', 'actor_count': 21, 'vote_count': 1020769, 'score': '9.2', 'actors': ['刘德华', '梁朝伟', '黄秋生', '曾志伟', '郑秀文', '陈慧琳', '陈冠希', '余文乐', '林家栋', '萧亚轩', '林迪安', '利沙华', '姚文基', '叶清', '张艺', '何华超', '吴廷烨', '洪智杰', '尹志强', '李天翔', '苏伟南'], 'is_watched': False}, {'rating': ['9.2', '45'], 'rank': 45, 'cover_url': 'https://img2.doubanio.com/view/photo/s_ratio_poster/public/p462657443.jpg', 'is_playable': True, 'id': '1851857', 'types': ['剧情', '动作', '科幻', '犯罪', '惊悚'], 'regions': ['美国', '英国'], 'title': '蝙蝠侠：黑暗骑士', 'url': 'https://movie.douban.com/subject/1851857/', 'release_date': '2008-07-14', 'actor_count': 39, 'vote_count': 835310, 'score': '9.2', 'actors': ['克里斯蒂安·贝尔', '希斯·莱杰', '艾伦·艾克哈特', '迈克尔·凯恩', '玛吉·吉伦哈尔', '加里·奥德曼', '摩根·弗里曼', '莫尼克·加布里埃拉·库尔内', '罗恩·迪恩', '基里安·墨菲', '黄经汉', '内斯特·卡博内尔', '埃里克·罗伯茨', '里特奇·科斯特', '安东尼·迈克尔·豪尔', '基斯·斯扎拉巴基克', '柯林·麦克法兰', '约书亚·哈尔托', '美琳达·麦格劳', '内森·甘宝', '迈克尔·维约', '迈克尔·斯托扬诺夫', '威廉·斯米利', '丹尼·高德林', '迈克尔·加·怀特', '马修·奥尼尔', '威廉·菲克纳', '欧鲁米基·欧拉乌米', '格雷格·比姆', '爱利克·赫尔曼', '毕崔斯·罗森', '文森佐·尼克力', '陈冠希', '罗南·萨莫尔斯', '玛丽扎·卡布蕾拉', '大卫·达斯马齐连', '理查德·迪兰', '利萨·麦克阿里斯特', 'Adam Kalesperis'], 'is_watched': False}, {'rating': ['9.2', '50'], 'rank': 46, 'cover_url': 'https://img9.doubanio.com/view/photo/s_ratio_poster/public/p1454261925.jpg', 'is_playable': False, 'id': '6786002', 'types': ['剧情', '喜剧'], 'regions': ['法国'], 'title': '触不可及', 'url': 'https://movie.douban.com/subject/6786002/', 'release_date': '2011-11-02', 'actor_count': 13, 'vote_count': 797834, 'score': '9.2', 'actors': ['弗朗索瓦·克鲁塞', '奥玛·希', '安娜·勒尼', '奥德雷·弗勒罗', '托马·索利韦尔', '萨丽马特·卡马特', '皮埃尔-罗兰·巴纳隆', '多萝特博里埃', '克洛蒂尔德·莫勒', '海迪·布奇纳法', '艾米丽·卡恩', '阿尔芭·贝露吉', '让-弗朗索瓦·凯雷'], 'is_watched': False}, {'rating': ['9.2', '50'], 'rank': 47, 'cover_url': 'https://img2.doubanio.com/view/photo/s_ratio_poster/public/p691932373.jpg', 'is_playable': True, 'id': '1291552', 'types': ['剧情', '动作', '奇幻', '冒险'], 'regions': ['美国', '新西兰'], 'title': '指环王3：王者无敌', 'url': 'https://movie.douban.com/subject/1291552/', 'release_date': '2004-03-12', 'actor_count': 66, 'vote_count': 606895, 'score': '9.2', 'actors': ['伊利亚·伍德', '西恩·奥斯汀', '维果·莫腾森', '奥兰多·布鲁姆', '伊恩·麦克莱恩', '肖恩·宾', '多米尼克·莫纳汉', '丽芙·泰勒', '约翰·贝西', '凯特·布兰切特', '比利·博伊德', '萨德文·布罗菲', '阿利斯泰尔·布朗宁', '马尔顿·索克斯', '伯纳德·希尔', '伊安·霍姆', '布鲁斯·霍普金斯', 'Ian Hughes', '劳伦斯·马克奥雷', 'Noel Appleby', '布雷特·麦肯齐', 'Alexandra Astin', 'Sarah McLeod', 'Maisy McLeod-Riera', '约翰·诺贝尔', 'Paul Norell', '米兰达·奥图', '布鲁斯·菲利普斯', '沙恩·朗吉', '约翰·瑞斯-戴维斯', 'Todd Rippon', '安迪·瑟金斯', 'Harry Sinclair', '乔尔·托贝克', '卡尔·厄本', '史蒂芬·乌瑞', '雨果·维文', '大卫·文翰', '阿兰·霍华德', '萨拉·贝克', 'Robert Pollock', '佩特·史密斯', '杰德·布罗菲', '菲利普·格里夫', '布拉德·道里夫', '克里斯托弗·李', '布鲁斯·斯宾斯', '吉诺·阿赛维多', 'Jarl Benzon', 'Jørn Benzon', 'Robert Catto', 'Michael Elsworth', '彼得·杰克逊', 'Sandro Kopp', '安德鲁·莱斯尼', '约瑟夫·米卡-亨特', '亨利·莫腾森', '克雷格·帕克', '克里斯蒂安·瑞沃斯', '迈克尔·斯曼内科 ', '霍华德·肖', '约翰·斯蒂芬森', '理查德·泰勒', '金永钢', '张磊', '姜广涛'], 'is_watched': False}, {'rating': ['9.2', '45'], 'rank': 48, 'cover_url': 'https://img1.doubanio.com/view/photo/s_ratio_poster/public/p2559577569.jpg', 'is_playable': False, 'id': '1291828', 'types': ['剧情', '爱情'], 'regions': ['意大利', '法国'], 'title': '天堂电影院', 'url': 'https://movie.douban.com/subject/1291828/', 'release_date': '1988-11-17', 'actor_count': 19, 'vote_count': 513114, 'score': '9.2', 'actors': ['菲利普·努瓦雷', '雅克·贝汉', '马克·莱昂纳蒂', '萨瓦特利·卡西欧', '莱奥波多·特里耶斯泰', '安东内拉·阿蒂利', '恩佐·卡拉瓦勒', '艾萨·丹尼埃利', '里奥·故罗塔', '普佩拉·玛奇奥', '阿格妮丝·那诺', '塔诺·希玛罗萨', '尼古拉·迪·平托', '罗伯塔·蕾娜', '尼诺·戴罗佐', '玛丽娜·朱迪切', '比阿特丽斯·帕姆', '布丽吉特·佛西', '朱塞佩·托纳多雷'], 'is_watched': False}, {'rating': ['9.2', '50'], 'rank': 49, 'cover_url': 'https://img9.doubanio.com/view/photo/s_ratio_poster/public/p2158166535.jpg', 'is_playable': False, 'id': '21937445', 'types': ['剧情'], 'regions': ['韩国'], 'title': '辩护人', 'url': 'https://movie.douban.com/subject/21937445/', 'release_date': '2013-12-18', 'actor_count': 31, 'vote_count': 488082, 'score': '9.2', 'actors': ['宋康昊', '金英爱', '吴达洙', '郭度沅', '任时完', '宋永彰', '郑元中', '赵敏基', '李杭娜', '李星民', '车光洙', '韩基重', '沈熙燮', '赵莞基', '李姃垠', '朴成根', '郑俊元', '李真熙 ', '朴修荣', '李率求', '张利雨', '权五镇', '崔正贤', '薛昌熙', '杨明宪', '黄健', '曹善默', '刘河福', '杨道贤', '全光镇', '申承勇'], 'is_watched': False}, {'rating': ['9.2', '45'], 'rank': 50, 'cover_url': 'https://img1.doubanio.com/view/photo/s_ratio_poster/public/p1808872109.jpg', 'is_playable': True, 'id': '1900841', 'types': ['剧情', '悬疑'], 'regions': ['德国'], 'title': '窃听风暴', 'url': 'https://movie.douban.com/subject/1900841/', 'release_date': '2006-03-23', 'actor_count': 23, 'vote_count': 450715, 'score': '9.2', 'actors': ['乌尔里希·穆埃', '马蒂娜·格德克', '塞巴斯蒂安·科赫', '乌尔里希·图库尔', '托马斯·蒂梅', '汉斯-尤韦·鲍尔', '沃克马·克莱纳特', '马提亚斯·布伦纳', '查理·哈纳', '赫伯特·克瑙普', '巴斯蒂安·特罗斯特', '玛丽·格鲁伯', '维尔纳·德恩', '马丁·布拉姆马赫', '托马斯·阿诺德', '辛纳克·勋纳曼', '路德韦格·布洛克伯格', '迈克尔·格伯', '吉塔·施维赫夫', '希尔德加德·斯罗德', '伊嘉·比肯费尔德', '凯·伊沃·保利兹', '克劳斯·芒斯特'], 'is_watched': False}, {'rating': ['9.2', '50'], 'rank': 51, 'cover_url': 'https://img2.doubanio.com/view/photo/s_ratio_poster/public/p792376093.jpg', 'is_playable': True, 'id': '1296736', 'types': ['剧情', '传记', '战争', '音乐'], 'regions': ['英国', '法国', '波兰', '德国', '美国'], 'title': '钢琴家', 'url': 'https://movie.douban.com/subject/1296736/', 'release_date': '2002-05-24', 'actor_count': 19, 'vote_count': 437328, 'score': '9.2', 'actors': ['艾德里安·布洛迪', '托马斯·克莱舒曼', '艾米莉娅·福克斯', '米哈乌·热布罗夫斯基', '埃德·斯托帕德', '穆琳·利普曼', '弗兰克·芬莱', '茱莉亚·蕾娜', '杰西卡·凯特·梅耶尔', '理查德·赖丁斯', '泽比纽·扎马洲斯基', '安德鲁·蒂曼', '丹尼尔·卡尔塔吉罗内', '约翰·基奥', '露丝·普拉特', '雅努什·奥莱伊尼恰克', '帕韦尔·伯克齐克', '索菲娅·切尔文斯卡', 'Emilio Fernandez'], 'is_watched': False}, {'rating': ['9.2', '50'], 'rank': 52, 'cover_url': 'https://img1.doubanio.com/view/photo/s_ratio_poster/public/p2194138787.jpg', 'is_playable': True, 'id': '1299131', 'types': ['剧情', '犯罪'], 'regions': ['美国'], 'title': '教父2', 'url': 'https://movie.douban.com/subject/1299131/', 'release_date': '1974-12-12', 'actor_count': 63, 'vote_count': 420502, 'score': '9.2', 'actors': ['阿尔·帕西诺', '罗伯特·杜瓦尔', '黛安·基顿', '罗伯特·德尼罗', '约翰·凯泽尔', '塔莉娅·夏尔', '李·斯特拉斯伯格', '迈克尔·V·格佐', 'G·D·斯普拉德林', '理查德·布赖特', '加斯通·莫辛', '汤姆·罗斯奎', '布鲁诺·柯比', '弗兰克·西维罗', '弗朗西丝卡·德·萨维奥', '摩甘娜金', '玛丽亚娜·希尔', '莱奥波多·特里耶斯泰', '多米尼克·查尼斯', 'Amerigo Tot', '特洛伊·多纳胡', '约翰·阿普雷亚', '乔·斯皮内尔', '阿贝·维高达', '吉亚尼·罗素', 'Maria Carta', '菲伊·斯潘', '哈利·戴恩·斯坦通', '卡明·卡里迪', '丹尼·爱罗', '威廉·鲍尔斯', '约瑟夫·德拉·索尔特', '卡门·阿尔根齐亚诺', '乔·罗·格里普', 'Ezio Flagello', '凯瑟琳·贝勒', 'Saveria Mazzola', 'Tito Alba', '彼得·多纳特', '汤姆·达尔格伦', 'Phil Feldman', '罗杰·科曼', '伊凡·科尔', '艾丽卡·约恩', 'Teresa Tirelli', '詹姆斯·肯恩', 'Italia Coppola', '罗曼·科波拉', '索菲亚·科波拉', '朱莉·格雷格', 'George Holmes', 'Buck Houghton', 'Shep Houghton', '小杉正一', '加里·库尔茨', 'Laura Lyons', '理查德·麦瑟森', '约翰·梅根纳', 'Harrison Ressler', 'Al Roberts', 'Hank Robinson', 'Filomena Spagnuolo', '朱利安·沃洛辛'], 'is_watched': False}, {'rating': ['9.2', '50'], 'rank': 53, 'cover_url': 'https://img9.doubanio.com/view/photo/s_ratio_poster/public/p2554525534.jpg', 'is_playable': True, 'id': '25958717', 'types': ['剧情', '冒险', '家庭'], 'regions': ['德国', '瑞士', '南非'], 'title': '海蒂和爷爷', 'url': 'https://movie.douban.com/subject/25958717/', 'release_date': '2019-05-16', 'actor_count': 20, 'vote_count': 353953, 'score': '9.2', 'actors': ['阿努克·斯特芬', '布鲁诺·冈茨', '昆林·艾格匹', '安娜·申茨', '伊莎贝尔·奥特曼', '莉莲·奈福', '彼得·杰克林', '克里斯托夫·高格勒', '丽贝卡·因德穆', '莫妮卡·古布瑟', '阿瑟·比勒', '玛丽埃塔·耶米', '彼得·洛迈尔', '卡塔琳娜·舒特勒', '杰拉·哈斯', '迈克尔·克兰茨', '劳拉·帕克', '马库斯·赫林', '马克西姆·梅米特', '汉内洛勒·霍格'], 'is_watched': False}, {'rating': ['9.2', '45'], 'rank': 54, 'cover_url': 'https://img1.doubanio.com/view/photo/s_ratio_poster/public/p477229647.jpg', 'is_playable': True, 'id': '1292262', 'types': ['犯罪', '剧情'], 'regions': ['美国', '意大利'], 'title': '美国往事', 'url': 'https://movie.douban.com/subject/1292262/', 'release_date': '1984-02-17', 'actor_count': 32, 'vote_count': 331909, 'score': '9.2', 'actors': ['罗伯特·德尼罗', '詹姆斯·伍兹', '伊丽莎白·麦戈文', '乔·佩西', '波特·杨', '塔斯黛·韦尔德', '特里特·威廉斯', '丹尼·爱罗', '理查德·布赖特', '詹姆斯·海登', '威廉·弗西斯', '达兰妮·弗鲁格', '拉里·拉普', '理查德·弗让吉', '罗伯特·哈珀', '詹妮弗·康纳利', '赛尔乔·莱昂内', '斯科特·提勒', '詹姆斯·拉索', '布莱恩·布鲁姆', '鲁斯蒂·雅各布斯', '奥丽娃·维拉索布罗斯', '玛西娅·让·库尔茨', '阿诺恩·米尔坎', '马里奥·布雷加', '保罗·赫尔曼', '迈克·莫内蒂', '朱莉·科恩', '诺亚·莫扎兹', '布鲁斯·巴伦堡', '阿德里安·柯兰', '艾米·莱德'], 'is_watched': False}, {'rating': ['9.2', '50'], 'rank': 55, 'cover_url': 'https://img9.doubanio.com/view/photo/s_ratio_poster/public/p2165511465.jpg', 'is_playable': True, 'id': '1303021', 'types': ['剧情', '儿童', '家庭'], 'regions': ['伊朗'], 'title': '小鞋子', 'url': 'https://movie.douban.com/subject/1303021/', 'release_date': '1999-01-22', 'actor_count': 8, 'vote_count': 323277, 'score': '9.2', 'actors': ['法拉赫阿米尔·哈什米安', '默罕默德·阿米尔·纳吉', '巴哈丽·西迪奇', '纳菲丝·贾法-穆罕默迪', '费雷什特·萨拉班迪', 'Dariush Mokhtari', '克里斯托弗·马利基', '少爷占'], 'is_watched': False}, {'rating': ['9.2', '45'], 'rank': 56, 'cover_url': 'https://img2.doubanio.com/view/photo/s_ratio_poster/public/p1576418852.jpg', 'is_playable': True, 'id': '1959195', 'types': ['剧情'], 'regions': ['日本'], 'title': '忠犬八公物语', 'url': 'https://movie.douban.com/subject/1959195/', 'release_date': '1987-08-01', 'actor_count': 31, 'vote_count': 151406, 'score': '9.2', 'actors': ['山本圭', '井川比佐志', '片桐入', '仲代达矢', '春川真澄', '八千草薰', '石野真子', '殿山泰司', '加藤嘉', '石仓三郎', '泉谷茂', '柳叶敏郎', '田村高广', '长门裕之', 'Ryûji Takasaki', '平林尚三', '黑田亚瑟', '川上夏代', '加藤登纪子', '谷津勋', '山城新伍', '樋浦勉', '中村美代子', '原知佐子', '岸部四郎', '浦边粂子', '野口文惠', '菅井琴', '尾美利德', '高桥长英', '三木纪平'], 'is_watched': False}, {'rating': ['9.2', '45'], 'rank': 57, 'cover_url': 'https://img9.doubanio.com/view/photo/s_ratio_poster/public/p1925331564.jpg', 'is_playable': True, 'id': '1291568', 'types': ['剧情', '家庭'], 'regions': ['日本'], 'title': '东京物语', 'url': 'https://movie.douban.com/subject/1291568/', 'release_date': '1953-11-03', 'actor_count': 15, 'vote_count': 105289, 'score': '9.2', 'actors': ['笠智众', '原节子', '杉村春子', '东山千荣子', '山村聪', '香川京子', '三谷幸子', '高桥丰子', '安部徹', '樱睦子', '长冈辉子', '十朱久雄', '大坂志郎', '中村伸郎', '东野英治郎'], 'is_watched': False}, {'rating': ['9.2', '45'], 'rank': 58, 'cover_url': 'https://img9.doubanio.com/view/photo/s_ratio_poster/public/p2174804034.jpg', 'is_playable': True, 'id': '1297880', 'types': ['剧情', '爱情'], 'regions': ['中国大陆'], 'title': '芙蓉镇', 'url': 'https://movie.douban.com/subject/1297880/', 'release_date': '1987-03-05', 'actor_count': 10, 'vote_count': 89117, 'score': '9.2', 'actors': ['刘晓庆', '姜文', '郑在石', '张光北', '徐松子', '祝士彬', '刘利年', '姜友石', '徐宁', '麦文燕'], 'is_watched': False}, {'rating': ['9.2', '45'], 'rank': 59, 'cover_url': 'https://img1.doubanio.com/view/photo/s_ratio_poster/public/p541622159.jpg', 'is_playable': False, 'id': '1769507', 'types': ['剧情', '爱情', '战争'], 'regions': ['法国', '比利时'], 'title': '沉静如海', 'url': 'https://movie.douban.com/subject/1769507/', 'release_date': '2004-10-25', 'actor_count': 6, 'vote_count': 57312, 'score': '9.2', 'actors': ['朱莉·德拉姆', '米歇尔·加拉布吕', '托马斯·儒阿特', '玛丽·布奈尔', '刘明珠', '商虹'], 'is_watched': False}, {'rating': ['9.2', '45'], 'rank': 60, 'cover_url': 'https://img3.doubanio.com/view/photo/s_ratio_poster/public/p2520264840.jpg', 'is_playable': False, 'id': '27040774', 'types': ['剧情', '科幻', '同性'], 'regions': ['美国'], 'title': '超感猎杀：完结特别篇', 'url': 'https://movie.douban.com/subject/27040774/', 'release_date': '2018-06-08', 'actor_count': 29, 'vote_count': 44198, 'score': '9.2', 'actors': ['裴斗娜', '杰米·克莱顿', '蒂娜·德赛', '塔彭丝·米德尔顿', '马克思·雷迈特', '米格尔·安赫尔·西尔维斯特', '布莱恩·J·史密斯', '托比·奥伍梅尔', '弗莉玛·阿吉曼', '帕鲁布·科里', '阿方索·埃雷拉', '泰伦斯·曼', '达丽尔·汉纳', '纳威恩·安德利维斯', '奈斯鲍提斯塔', '斯蒂芬·鲍克思', '阿米拉·加扎拉', '约书亚·格罗斯', '埃伦迪拉·伊瓦拉', '雅丽·乔维尔', '西尔维斯特·迈可伊', 'Annie Munch', '埃文特·斯特朗', '马克斯·毛夫', '朴秀珠', '瓦莱丽亚·比莱洛', '孙锡久', 'Vincent Bouillon', '拉娜·沃卓斯基'], 'is_watched': False}]\n"
     ]
    }
   ],
   "source": [
    "# 豆瓣电影分类排行榜\n",
    "import requests  # 导入requests模块\n",
    "\n",
    "url = 'https://movie.douban.com/j/chart/top_list'\n",
    "params = {\n",
    "    'type': '11',\n",
    "    'interval_id': '100:90',\n",
    "    'action': '',\n",
    "    'start': '40',\n",
    "    'limit': '20'\n",
    "}\n",
    "headers = {\n",
    "    \"User-Agent\": \"Mozilla/5.0 (Windows NT 10.0; Win64; x64) AppleWebKit/537.36 (KHTML, like Gecko) Chrome/89.0.4389.72 Safari/537.36\"\n",
    "}\n",
    "response = requests.get(url, params=params, headers=headers)  # 发送请求，返回一个response对象\n",
    "\n",
    "print(response.json())\n"
   ],
   "metadata": {
    "collapsed": false,
    "pycharm": {
     "name": "#%%\n"
    }
   }
  },
  {
   "cell_type": "code",
   "execution_count": 15,
   "outputs": [
    {
     "name": "stdout",
     "output_type": "stream",
     "text": [
      "当前获取页数为：1\n",
      "当前获取页数为：2\n",
      "当前获取页数为：3\n",
      "当前获取页数为：4\n",
      "当前获取页数为：5\n",
      "当前获取页数为：6\n",
      "当前获取页数为：7\n",
      "当前获取页数为：8\n",
      "当前获取页数为：9\n",
      "当前获取页数为：10\n",
      "当前获取页数为：11\n",
      "当前获取页数为：12\n",
      "当前获取页数为：13\n",
      "当前获取页数为：14\n",
      "当前获取页数为：15\n",
      "当前获取页数为：16\n",
      "当前获取页数为：17\n",
      "当前获取页数为：18\n",
      "当前获取页数为：19\n",
      "当前获取页数为：20\n",
      "当前获取页数为：21\n",
      "当前获取页数为：22\n",
      "当前获取页数为：23\n",
      "当前获取页数为：24\n",
      "当前获取页数为：25\n",
      "当前获取页数为：26\n",
      "当前获取页数为：27\n",
      "当前获取页数为：28\n",
      "当前获取页数为：29\n",
      "当前获取页数为：30\n",
      "当前获取页数为：31\n",
      "当前获取页数为：32\n",
      "当前获取页数为：33\n",
      "当前获取页数为：34\n",
      "当前获取页数为：35\n",
      "当前获取页数为：36\n",
      "当前获取页数为：37\n",
      "当前获取页数为：38\n",
      "当前获取页数为：39\n",
      "当前获取页数为：40\n",
      "当前获取页数为：41\n",
      "当前获取页数为：42\n",
      "当前获取页数为：43\n",
      "当前获取页数为：44\n",
      "当前获取页数为：45\n",
      "当前获取页数为：46\n",
      "当前获取页数为：47\n",
      "当前获取页数为：48\n",
      "当前获取页数为：49\n",
      "当前获取页数为：50\n",
      "当前获取页数为：51\n"
     ]
    },
    {
     "ename": "JSONDecodeError",
     "evalue": "Expecting value: line 1 column 1 (char 0)",
     "output_type": "error",
     "traceback": [
      "\u001B[1;31m---------------------------------------------------------------------------\u001B[0m",
      "\u001B[1;31mJSONDecodeError\u001B[0m                           Traceback (most recent call last)",
      "\u001B[1;32m<ipython-input-15-9164cc1d3401>\u001B[0m in \u001B[0;36m<module>\u001B[1;34m\u001B[0m\n\u001B[0;32m     30\u001B[0m         \u001B[1;32mcontinue\u001B[0m\u001B[1;33m\u001B[0m\u001B[1;33m\u001B[0m\u001B[0m\n\u001B[0;32m     31\u001B[0m \u001B[1;33m\u001B[0m\u001B[0m\n\u001B[1;32m---> 32\u001B[1;33m     \u001B[0mid_list\u001B[0m \u001B[1;33m=\u001B[0m \u001B[0mresponse\u001B[0m\u001B[1;33m.\u001B[0m\u001B[0mjson\u001B[0m\u001B[1;33m(\u001B[0m\u001B[1;33m)\u001B[0m\u001B[1;33m.\u001B[0m\u001B[0mget\u001B[0m\u001B[1;33m(\u001B[0m\u001B[1;34m\"list\"\u001B[0m\u001B[1;33m)\u001B[0m\u001B[1;33m\u001B[0m\u001B[1;33m\u001B[0m\u001B[0m\n\u001B[0m\u001B[0;32m     33\u001B[0m \u001B[1;33m\u001B[0m\u001B[0m\n\u001B[0;32m     34\u001B[0m     \u001B[0mid_list\u001B[0m \u001B[1;33m=\u001B[0m \u001B[1;33m[\u001B[0m\u001B[0mitem\u001B[0m\u001B[1;33m.\u001B[0m\u001B[0mpop\u001B[0m\u001B[1;33m(\u001B[0m\u001B[1;34m\"ID\"\u001B[0m\u001B[1;33m)\u001B[0m \u001B[1;32mfor\u001B[0m \u001B[0mitem\u001B[0m \u001B[1;32min\u001B[0m \u001B[0mid_list\u001B[0m\u001B[1;33m]\u001B[0m\u001B[1;33m\u001B[0m\u001B[1;33m\u001B[0m\u001B[0m\n",
      "\u001B[1;32mc:\\programdata\\anaconda3\\envs\\3.6\\lib\\site-packages\\requests\\models.py\u001B[0m in \u001B[0;36mjson\u001B[1;34m(self, **kwargs)\u001B[0m\n\u001B[0;32m    898\u001B[0m                     \u001B[1;31m# used.\u001B[0m\u001B[1;33m\u001B[0m\u001B[1;33m\u001B[0m\u001B[1;33m\u001B[0m\u001B[0m\n\u001B[0;32m    899\u001B[0m                     \u001B[1;32mpass\u001B[0m\u001B[1;33m\u001B[0m\u001B[1;33m\u001B[0m\u001B[0m\n\u001B[1;32m--> 900\u001B[1;33m         \u001B[1;32mreturn\u001B[0m \u001B[0mcomplexjson\u001B[0m\u001B[1;33m.\u001B[0m\u001B[0mloads\u001B[0m\u001B[1;33m(\u001B[0m\u001B[0mself\u001B[0m\u001B[1;33m.\u001B[0m\u001B[0mtext\u001B[0m\u001B[1;33m,\u001B[0m \u001B[1;33m**\u001B[0m\u001B[0mkwargs\u001B[0m\u001B[1;33m)\u001B[0m\u001B[1;33m\u001B[0m\u001B[1;33m\u001B[0m\u001B[0m\n\u001B[0m\u001B[0;32m    901\u001B[0m \u001B[1;33m\u001B[0m\u001B[0m\n\u001B[0;32m    902\u001B[0m     \u001B[1;33m@\u001B[0m\u001B[0mproperty\u001B[0m\u001B[1;33m\u001B[0m\u001B[1;33m\u001B[0m\u001B[0m\n",
      "\u001B[1;32mc:\\programdata\\anaconda3\\envs\\3.6\\lib\\json\\__init__.py\u001B[0m in \u001B[0;36mloads\u001B[1;34m(s, encoding, cls, object_hook, parse_float, parse_int, parse_constant, object_pairs_hook, **kw)\u001B[0m\n\u001B[0;32m    352\u001B[0m             \u001B[0mparse_int\u001B[0m \u001B[1;32mis\u001B[0m \u001B[1;32mNone\u001B[0m \u001B[1;32mand\u001B[0m \u001B[0mparse_float\u001B[0m \u001B[1;32mis\u001B[0m \u001B[1;32mNone\u001B[0m \u001B[1;32mand\u001B[0m\u001B[1;33m\u001B[0m\u001B[1;33m\u001B[0m\u001B[0m\n\u001B[0;32m    353\u001B[0m             parse_constant is None and object_pairs_hook is None and not kw):\n\u001B[1;32m--> 354\u001B[1;33m         \u001B[1;32mreturn\u001B[0m \u001B[0m_default_decoder\u001B[0m\u001B[1;33m.\u001B[0m\u001B[0mdecode\u001B[0m\u001B[1;33m(\u001B[0m\u001B[0ms\u001B[0m\u001B[1;33m)\u001B[0m\u001B[1;33m\u001B[0m\u001B[1;33m\u001B[0m\u001B[0m\n\u001B[0m\u001B[0;32m    355\u001B[0m     \u001B[1;32mif\u001B[0m \u001B[0mcls\u001B[0m \u001B[1;32mis\u001B[0m \u001B[1;32mNone\u001B[0m\u001B[1;33m:\u001B[0m\u001B[1;33m\u001B[0m\u001B[1;33m\u001B[0m\u001B[0m\n\u001B[0;32m    356\u001B[0m         \u001B[0mcls\u001B[0m \u001B[1;33m=\u001B[0m \u001B[0mJSONDecoder\u001B[0m\u001B[1;33m\u001B[0m\u001B[1;33m\u001B[0m\u001B[0m\n",
      "\u001B[1;32mc:\\programdata\\anaconda3\\envs\\3.6\\lib\\json\\decoder.py\u001B[0m in \u001B[0;36mdecode\u001B[1;34m(self, s, _w)\u001B[0m\n\u001B[0;32m    337\u001B[0m \u001B[1;33m\u001B[0m\u001B[0m\n\u001B[0;32m    338\u001B[0m         \"\"\"\n\u001B[1;32m--> 339\u001B[1;33m         \u001B[0mobj\u001B[0m\u001B[1;33m,\u001B[0m \u001B[0mend\u001B[0m \u001B[1;33m=\u001B[0m \u001B[0mself\u001B[0m\u001B[1;33m.\u001B[0m\u001B[0mraw_decode\u001B[0m\u001B[1;33m(\u001B[0m\u001B[0ms\u001B[0m\u001B[1;33m,\u001B[0m \u001B[0midx\u001B[0m\u001B[1;33m=\u001B[0m\u001B[0m_w\u001B[0m\u001B[1;33m(\u001B[0m\u001B[0ms\u001B[0m\u001B[1;33m,\u001B[0m \u001B[1;36m0\u001B[0m\u001B[1;33m)\u001B[0m\u001B[1;33m.\u001B[0m\u001B[0mend\u001B[0m\u001B[1;33m(\u001B[0m\u001B[1;33m)\u001B[0m\u001B[1;33m)\u001B[0m\u001B[1;33m\u001B[0m\u001B[1;33m\u001B[0m\u001B[0m\n\u001B[0m\u001B[0;32m    340\u001B[0m         \u001B[0mend\u001B[0m \u001B[1;33m=\u001B[0m \u001B[0m_w\u001B[0m\u001B[1;33m(\u001B[0m\u001B[0ms\u001B[0m\u001B[1;33m,\u001B[0m \u001B[0mend\u001B[0m\u001B[1;33m)\u001B[0m\u001B[1;33m.\u001B[0m\u001B[0mend\u001B[0m\u001B[1;33m(\u001B[0m\u001B[1;33m)\u001B[0m\u001B[1;33m\u001B[0m\u001B[1;33m\u001B[0m\u001B[0m\n\u001B[0;32m    341\u001B[0m         \u001B[1;32mif\u001B[0m \u001B[0mend\u001B[0m \u001B[1;33m!=\u001B[0m \u001B[0mlen\u001B[0m\u001B[1;33m(\u001B[0m\u001B[0ms\u001B[0m\u001B[1;33m)\u001B[0m\u001B[1;33m:\u001B[0m\u001B[1;33m\u001B[0m\u001B[1;33m\u001B[0m\u001B[0m\n",
      "\u001B[1;32mc:\\programdata\\anaconda3\\envs\\3.6\\lib\\json\\decoder.py\u001B[0m in \u001B[0;36mraw_decode\u001B[1;34m(self, s, idx)\u001B[0m\n\u001B[0;32m    355\u001B[0m             \u001B[0mobj\u001B[0m\u001B[1;33m,\u001B[0m \u001B[0mend\u001B[0m \u001B[1;33m=\u001B[0m \u001B[0mself\u001B[0m\u001B[1;33m.\u001B[0m\u001B[0mscan_once\u001B[0m\u001B[1;33m(\u001B[0m\u001B[0ms\u001B[0m\u001B[1;33m,\u001B[0m \u001B[0midx\u001B[0m\u001B[1;33m)\u001B[0m\u001B[1;33m\u001B[0m\u001B[1;33m\u001B[0m\u001B[0m\n\u001B[0;32m    356\u001B[0m         \u001B[1;32mexcept\u001B[0m \u001B[0mStopIteration\u001B[0m \u001B[1;32mas\u001B[0m \u001B[0merr\u001B[0m\u001B[1;33m:\u001B[0m\u001B[1;33m\u001B[0m\u001B[1;33m\u001B[0m\u001B[0m\n\u001B[1;32m--> 357\u001B[1;33m             \u001B[1;32mraise\u001B[0m \u001B[0mJSONDecodeError\u001B[0m\u001B[1;33m(\u001B[0m\u001B[1;34m\"Expecting value\"\u001B[0m\u001B[1;33m,\u001B[0m \u001B[0ms\u001B[0m\u001B[1;33m,\u001B[0m \u001B[0merr\u001B[0m\u001B[1;33m.\u001B[0m\u001B[0mvalue\u001B[0m\u001B[1;33m)\u001B[0m \u001B[1;32mfrom\u001B[0m \u001B[1;32mNone\u001B[0m\u001B[1;33m\u001B[0m\u001B[1;33m\u001B[0m\u001B[0m\n\u001B[0m\u001B[0;32m    358\u001B[0m         \u001B[1;32mreturn\u001B[0m \u001B[0mobj\u001B[0m\u001B[1;33m,\u001B[0m \u001B[0mend\u001B[0m\u001B[1;33m\u001B[0m\u001B[1;33m\u001B[0m\u001B[0m\n",
      "\u001B[1;31mJSONDecodeError\u001B[0m: Expecting value: line 1 column 1 (char 0)"
     ]
    }
   ],
   "source": [
    "# 国家药品监督管理局，化妆平生产许可信息管理平台\n",
    "import requests\n",
    "import json\n",
    "import time\n",
    "\n",
    "url = \"http://scxk.nmpa.gov.cn:81/xk/itownet/portalAction.do?method=getXkzsList\"\n",
    "headers = {\n",
    "    \"User-Agent\": \"Mozilla/5.0 (Windows NT 10.0; Win64; x64) AppleWebKit/537.36 (KHTML, like Gecko) Chrome/89.0.4389.72 Safari/537.36\"\n",
    "}\n",
    "\n",
    "data = {\n",
    "    'on': 'true',\n",
    "    'page': 1,\n",
    "    'pageSize': '15',\n",
    "    'productName': '',\n",
    "    'conditionType': '1',\n",
    "    'applyname': '',\n",
    "    'applysn': '',\n",
    "}\n",
    "detail_list = []\n",
    "detail = {}\n",
    "\n",
    "while data['page'] <= 50:\n",
    "    print('当前获取页数为：%s' % data['page'])\n",
    "    try:\n",
    "        time.sleep(1)\n",
    "        response = requests.post(url=url, headers=headers, data=data)\n",
    "    except Exception as e:\n",
    "        print('获取页数为 %s 出错 : 错误为: %s ' % (data['page'], str(e)))\n",
    "        continue\n",
    "\n",
    "    id_list = response.json().get(\"list\")\n",
    "\n",
    "    id_list = [item.pop(\"ID\") for item in id_list]\n",
    "\n",
    "    detail_url = 'http://scxk.nmpa.gov.cn:81/xk/itownet/portalAction.do?method=getXkzsById'\n",
    "\n",
    "    for ID in id_list:\n",
    "        detail_response = requests.post(url=detail_url, data={\"id\": ID}, headers=headers)\n",
    "        detail_dict = detail_response.json()\n",
    "        detail['企业名称'] = detail_dict['epsName']\n",
    "        detail['许可证编号'] = detail_dict['productSn']\n",
    "        detail['许可项目'] = detail_dict['certStr']\n",
    "        detail['许可项目'] = detail_dict['certStr']\n",
    "        detail['企业住所'] = detail_dict['epsAddress']\n",
    "        detail['生产地址'] = detail_dict['epsProductAddress']\n",
    "        detail['社会信用代码'] = detail_dict['businessLicenseNumber']\n",
    "        detail['法定代表人'] = detail_dict['businessPerson']\n",
    "        detail['企业负责人'] = detail_dict['legalPerson']\n",
    "        detail['质量负责人'] = detail_dict['qualityPerson']\n",
    "        detail['发证机关'] = detail_dict['rcManagerDepartName']\n",
    "        detail['签发人'] = detail_dict['xkName']\n",
    "        detail['日常监督管理机构'] = detail_dict['rcManagerDepartName']\n",
    "        detail['日常监督管理人员'] = detail_dict['rcManagerUser']\n",
    "        detail['有效期至'] = detail_dict['xkDate']\n",
    "        detail['发证日期'] = detail_dict['xkDateStr']\n",
    "        detail['状态'] = '正常' if detail_dict['isimport'] == 'Y' else '异常'\n",
    "\n",
    "        detail_list.append(detail)\n",
    "\n",
    "\n",
    "\n",
    "\n",
    "    with open('./药监局/' + str(data['page']) + '.json', 'w', encoding='utf-8') as f:\n",
    "        json.dump(detail_list, f, ensure_ascii=False)\n",
    "\n",
    "    data['page'] += 1\n",
    "    detail_list = []\n",
    "\n"
   ],
   "metadata": {
    "collapsed": false,
    "pycharm": {
     "name": "#%%\n"
    }
   }
  }
 ],
 "metadata": {
  "kernelspec": {
   "display_name": "Python 3",
   "language": "python",
   "name": "python3"
  },
  "language_info": {
   "codemirror_mode": {
    "name": "ipython",
    "version": 2
   },
   "file_extension": ".py",
   "mimetype": "text/x-python",
   "name": "python",
   "nbconvert_exporter": "python",
   "pygments_lexer": "ipython2",
   "version": "2.7.6"
  }
 },
 "nbformat": 4,
 "nbformat_minor": 0
}