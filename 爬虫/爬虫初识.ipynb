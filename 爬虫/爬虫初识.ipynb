{
 "cells": [
  {
   "cell_type": "markdown",
   "metadata": {
    "pycharm": {
     "name": "#%% md\n"
    }
   },
   "source": [
    "- 什么是爬虫？\n",
    "    - 就是通过编写程序模拟浏览器上网，然后让其去互联网上爬取数据的过程\n",
    "- 爬虫的分类：\n",
    "    - 通用爬虫：\n",
    "        - 抓取互联网中的一整张页面数据\n",
    "    - 聚焦爬虫：\n",
    "        - 抓取页面中的局部数据\n",
    "    - 增量式爬虫：\n",
    "        - 用来监测网站数据更新的情况，以便爬取到网站最新更新出来的数据\n",
    "- 反爬机制\n",
    "- 反反爬策略\n",
    "- 爬虫合法吗？\n",
    "    - 爬取数据的行为风险的体现：\n",
    "       -  爬虫干扰了被访问网站的正常运营；\n",
    "       -  爬虫抓取了受到法律保护的特定类型的数据或信息。\n",
    "    - 规避风险：\n",
    "        - 严格遵守网站设置的robots协议；\n",
    "\n",
    "        - 在规避反爬虫措施的同时，需要优化自己的代码，避免干扰被访问网站的正常运行；\n",
    "\n",
    "        - 在使用、传播抓取到的信息时，应审查所抓取的内容，如发现属于用户的个人信息、隐私或者他人的商业秘密的，应及时停止并删除。\n",
    "- robots协议：文本协议\n",
    "    - 特性：防君子不防小人的文本协议"
   ]
  }
 ],
 "metadata": {
  "kernelspec": {
   "display_name": "Python 3",
   "language": "python",
   "name": "python3"
  },
  "language_info": {
   "codemirror_mode": {
    "name": "ipython",
    "version": 3
   },
   "file_extension": ".py",
   "mimetype": "text/x-python",
   "name": "python",
   "nbconvert_exporter": "python",
   "pygments_lexer": "ipython3",
   "version": "3.6.4"
  }
 },
 "nbformat": 4,
 "nbformat_minor": 2
}