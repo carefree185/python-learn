{
 "cells": [
  {
   "cell_type": "markdown",
   "metadata": {},
   "source": [
    "- HttpConnectinPool:\n",
    "    - 原因：\n",
    "        - 1.短时间内发起了高频的请求导致ip被禁\n",
    "        - 2.http连接池中的连接资源被耗尽\n",
    "    - 解决：\n",
    "        - 1.代理\n",
    "        - 2.headers中加入Conection：“close”"
   ]
  },
  {
   "cell_type": "markdown",
   "metadata": {},
   "source": [
    "- 代理：代理服务器，可以接受请求然后将其转发。\n",
    "- 匿名度\n",
    "    - 高匿：啥也不知道\n",
    "    - 匿名：知道你使用了代理，但是不知道你的真实ip\n",
    "    - 透明：知道你使用了代理并且知道你的真实ip\n",
    "- 类型：\n",
    "    - http\n",
    "    - https\n",
    "- 免费代理：\n",
    "    - www.goubanjia.com\n",
    "    - 快代理\n",
    "    - 西祠代理\n",
    "    - http://http.zhiliandaili.cn/\n",
    "    \n",
    "- cookie的处理"
   ]
  },
  {
   "cell_type": "code",
   "execution_count": 2,
   "metadata": {},
   "outputs": [],
   "source": [
    "import requests\n",
    "headers = {\n",
    "    'User-Agent':'Mozilla/5.0 (Windows NT 10.0; Win64; x64) AppleWebKit/537.36 (KHTML, like Gecko) Chrome/76.0.3809.132 Safari/537.36'\n",
    "}"
   ]
  },
  {
   "cell_type": "code",
   "execution_count": 4,
   "metadata": {},
   "outputs": [],
   "source": [
    "url = 'https://www.baidu.com/s?wd=ip'\n",
    "page_text = requests.get(url,headers=headers,proxies={'https':'111.231.94.44:8888'}).text\n",
    "with open('ip.html','w',encoding='utf-8') as fp:\n",
    "    fp.write(page_text)"
   ]
  },
  {
   "cell_type": "code",
   "execution_count": null,
   "metadata": {},
   "outputs": [],
   "source": [
    "#代理池：列表\n",
    "import random\n",
    "proxy_list = [\n",
    "    {'https':'121.231.94.44:8888'},\n",
    "    {'https':'131.231.94.44:8888'},\n",
    "    {'https':'141.231.94.44:8888'}\n",
    "]\n",
    "url = 'https://www.baidu.com/s?wd=ip'\n",
    "page_text = requests.get(url,headers=headers,proxies=random.choice(proxy_list)).text\n",
    "with open('ip.html','w',encoding='utf-8') as fp:\n",
    "    fp.write(page_text)"
   ]
  },
  {
   "cell_type": "code",
   "execution_count": 5,
   "metadata": {},
   "outputs": [],
   "source": [
    "from lxml import etree"
   ]
  },
  {
   "cell_type": "code",
   "execution_count": 28,
   "metadata": {},
   "outputs": [
    {
     "name": "stdout",
     "output_type": "stream",
     "text": [
      "['407 Proxy Authentication Required', 'IP:<123.112.23.183> 不在白名单内或者IP已经过了有效期失效不能访问，请添加白名单或者提取更长时效性的IP,在官网登录后在用户中心添加']\n"
     ]
    }
   ],
   "source": [
    "#从代理精灵中提取代理ip\n",
    "ip_url = 'http://t.11jsq.com/index.php/api/entry?method=proxyServer.generate_api_url&packid=1&fa=0&fetch_key=&groupid=0&qty=4&time=1&pro=&city=&port=1&format=html&ss=5&css=&dt=1&specialTxt=3&specialJson=&usertype=2'\n",
    "page_text = requests.get(ip_url,headers=headers).text\n",
    "tree = etree.HTML(page_text)\n",
    "ip_list = tree.xpath('//body//text()')\n",
    "print(ip_list)"
   ]
  },
  {
   "cell_type": "code",
   "execution_count": 21,
   "metadata": {},
   "outputs": [],
   "source": [
    "import random"
   ]
  },
  {
   "cell_type": "code",
   "execution_count": 22,
   "metadata": {
    "collapsed": true
   },
   "outputs": [
    {
     "ename": "ProxyError",
     "evalue": "HTTPSConnectionPool(host='www.xicidaili.com', port=443): Max retries exceeded with url: /nn/12 (Caused by ProxyError('Cannot connect to proxy.', NewConnectionError('<urllib3.connection.VerifiedHTTPSConnection object at 0x00000269A840DCC0>: Failed to establish a new connection: [WinError 10060] 由于连接方在一段时间后没有正确答复或连接的主机没有反应，连接尝试失败。',)))",
     "output_type": "error",
     "traceback": [
      "\u001b[1;31m---------------------------------------------------------------------------\u001b[0m",
      "\u001b[1;31mTimeoutError\u001b[0m                              Traceback (most recent call last)",
      "\u001b[1;32mC:\\Anaconda_bobo\\lib\\site-packages\\urllib3\\connection.py\u001b[0m in \u001b[0;36m_new_conn\u001b[1;34m(self)\u001b[0m\n\u001b[0;32m    140\u001b[0m             conn = connection.create_connection(\n\u001b[1;32m--> 141\u001b[1;33m                 (self.host, self.port), self.timeout, **extra_kw)\n\u001b[0m\u001b[0;32m    142\u001b[0m \u001b[1;33m\u001b[0m\u001b[0m\n",
      "\u001b[1;32mC:\\Anaconda_bobo\\lib\\site-packages\\urllib3\\util\\connection.py\u001b[0m in \u001b[0;36mcreate_connection\u001b[1;34m(address, timeout, source_address, socket_options)\u001b[0m\n\u001b[0;32m     82\u001b[0m     \u001b[1;32mif\u001b[0m \u001b[0merr\u001b[0m \u001b[1;32mis\u001b[0m \u001b[1;32mnot\u001b[0m \u001b[1;32mNone\u001b[0m\u001b[1;33m:\u001b[0m\u001b[1;33m\u001b[0m\u001b[0m\n\u001b[1;32m---> 83\u001b[1;33m         \u001b[1;32mraise\u001b[0m \u001b[0merr\u001b[0m\u001b[1;33m\u001b[0m\u001b[0m\n\u001b[0m\u001b[0;32m     84\u001b[0m \u001b[1;33m\u001b[0m\u001b[0m\n",
      "\u001b[1;32mC:\\Anaconda_bobo\\lib\\site-packages\\urllib3\\util\\connection.py\u001b[0m in \u001b[0;36mcreate_connection\u001b[1;34m(address, timeout, source_address, socket_options)\u001b[0m\n\u001b[0;32m     72\u001b[0m                 \u001b[0msock\u001b[0m\u001b[1;33m.\u001b[0m\u001b[0mbind\u001b[0m\u001b[1;33m(\u001b[0m\u001b[0msource_address\u001b[0m\u001b[1;33m)\u001b[0m\u001b[1;33m\u001b[0m\u001b[0m\n\u001b[1;32m---> 73\u001b[1;33m             \u001b[0msock\u001b[0m\u001b[1;33m.\u001b[0m\u001b[0mconnect\u001b[0m\u001b[1;33m(\u001b[0m\u001b[0msa\u001b[0m\u001b[1;33m)\u001b[0m\u001b[1;33m\u001b[0m\u001b[0m\n\u001b[0m\u001b[0;32m     74\u001b[0m             \u001b[1;32mreturn\u001b[0m \u001b[0msock\u001b[0m\u001b[1;33m\u001b[0m\u001b[0m\n",
      "\u001b[1;31mTimeoutError\u001b[0m: [WinError 10060] 由于连接方在一段时间后没有正确答复或连接的主机没有反应，连接尝试失败。",
      "\nDuring handling of the above exception, another exception occurred:\n",
      "\u001b[1;31mNewConnectionError\u001b[0m                        Traceback (most recent call last)",
      "\u001b[1;32mC:\\Anaconda_bobo\\lib\\site-packages\\urllib3\\connectionpool.py\u001b[0m in \u001b[0;36murlopen\u001b[1;34m(self, method, url, body, headers, retries, redirect, assert_same_host, timeout, pool_timeout, release_conn, chunked, body_pos, **response_kw)\u001b[0m\n\u001b[0;32m    594\u001b[0m             \u001b[1;32mif\u001b[0m \u001b[0mis_new_proxy_conn\u001b[0m\u001b[1;33m:\u001b[0m\u001b[1;33m\u001b[0m\u001b[0m\n\u001b[1;32m--> 595\u001b[1;33m                 \u001b[0mself\u001b[0m\u001b[1;33m.\u001b[0m\u001b[0m_prepare_proxy\u001b[0m\u001b[1;33m(\u001b[0m\u001b[0mconn\u001b[0m\u001b[1;33m)\u001b[0m\u001b[1;33m\u001b[0m\u001b[0m\n\u001b[0m\u001b[0;32m    596\u001b[0m \u001b[1;33m\u001b[0m\u001b[0m\n",
      "\u001b[1;32mC:\\Anaconda_bobo\\lib\\site-packages\\urllib3\\connectionpool.py\u001b[0m in \u001b[0;36m_prepare_proxy\u001b[1;34m(self, conn)\u001b[0m\n\u001b[0;32m    815\u001b[0m \u001b[1;33m\u001b[0m\u001b[0m\n\u001b[1;32m--> 816\u001b[1;33m         \u001b[0mconn\u001b[0m\u001b[1;33m.\u001b[0m\u001b[0mconnect\u001b[0m\u001b[1;33m(\u001b[0m\u001b[1;33m)\u001b[0m\u001b[1;33m\u001b[0m\u001b[0m\n\u001b[0m\u001b[0;32m    817\u001b[0m \u001b[1;33m\u001b[0m\u001b[0m\n",
      "\u001b[1;32mC:\\Anaconda_bobo\\lib\\site-packages\\urllib3\\connection.py\u001b[0m in \u001b[0;36mconnect\u001b[1;34m(self)\u001b[0m\n\u001b[0;32m    283\u001b[0m         \u001b[1;31m# Add certificate verification\u001b[0m\u001b[1;33m\u001b[0m\u001b[1;33m\u001b[0m\u001b[0m\n\u001b[1;32m--> 284\u001b[1;33m         \u001b[0mconn\u001b[0m \u001b[1;33m=\u001b[0m \u001b[0mself\u001b[0m\u001b[1;33m.\u001b[0m\u001b[0m_new_conn\u001b[0m\u001b[1;33m(\u001b[0m\u001b[1;33m)\u001b[0m\u001b[1;33m\u001b[0m\u001b[0m\n\u001b[0m\u001b[0;32m    285\u001b[0m \u001b[1;33m\u001b[0m\u001b[0m\n",
      "\u001b[1;32mC:\\Anaconda_bobo\\lib\\site-packages\\urllib3\\connection.py\u001b[0m in \u001b[0;36m_new_conn\u001b[1;34m(self)\u001b[0m\n\u001b[0;32m    149\u001b[0m             raise NewConnectionError(\n\u001b[1;32m--> 150\u001b[1;33m                 self, \"Failed to establish a new connection: %s\" % e)\n\u001b[0m\u001b[0;32m    151\u001b[0m \u001b[1;33m\u001b[0m\u001b[0m\n",
      "\u001b[1;31mNewConnectionError\u001b[0m: <urllib3.connection.VerifiedHTTPSConnection object at 0x00000269A840DCC0>: Failed to establish a new connection: [WinError 10060] 由于连接方在一段时间后没有正确答复或连接的主机没有反应，连接尝试失败。",
      "\nDuring handling of the above exception, another exception occurred:\n",
      "\u001b[1;31mMaxRetryError\u001b[0m                             Traceback (most recent call last)",
      "\u001b[1;32mC:\\Anaconda_bobo\\lib\\site-packages\\requests\\adapters.py\u001b[0m in \u001b[0;36msend\u001b[1;34m(self, request, stream, timeout, verify, cert, proxies)\u001b[0m\n\u001b[0;32m    439\u001b[0m                     \u001b[0mretries\u001b[0m\u001b[1;33m=\u001b[0m\u001b[0mself\u001b[0m\u001b[1;33m.\u001b[0m\u001b[0mmax_retries\u001b[0m\u001b[1;33m,\u001b[0m\u001b[1;33m\u001b[0m\u001b[0m\n\u001b[1;32m--> 440\u001b[1;33m                     \u001b[0mtimeout\u001b[0m\u001b[1;33m=\u001b[0m\u001b[0mtimeout\u001b[0m\u001b[1;33m\u001b[0m\u001b[0m\n\u001b[0m\u001b[0;32m    441\u001b[0m                 )\n",
      "\u001b[1;32mC:\\Anaconda_bobo\\lib\\site-packages\\urllib3\\connectionpool.py\u001b[0m in \u001b[0;36murlopen\u001b[1;34m(self, method, url, body, headers, retries, redirect, assert_same_host, timeout, pool_timeout, release_conn, chunked, body_pos, **response_kw)\u001b[0m\n\u001b[0;32m    638\u001b[0m             retries = retries.increment(method, url, error=e, _pool=self,\n\u001b[1;32m--> 639\u001b[1;33m                                         _stacktrace=sys.exc_info()[2])\n\u001b[0m\u001b[0;32m    640\u001b[0m             \u001b[0mretries\u001b[0m\u001b[1;33m.\u001b[0m\u001b[0msleep\u001b[0m\u001b[1;33m(\u001b[0m\u001b[1;33m)\u001b[0m\u001b[1;33m\u001b[0m\u001b[0m\n",
      "\u001b[1;32mC:\\Anaconda_bobo\\lib\\site-packages\\urllib3\\util\\retry.py\u001b[0m in \u001b[0;36mincrement\u001b[1;34m(self, method, url, response, error, _pool, _stacktrace)\u001b[0m\n\u001b[0;32m    387\u001b[0m         \u001b[1;32mif\u001b[0m \u001b[0mnew_retry\u001b[0m\u001b[1;33m.\u001b[0m\u001b[0mis_exhausted\u001b[0m\u001b[1;33m(\u001b[0m\u001b[1;33m)\u001b[0m\u001b[1;33m:\u001b[0m\u001b[1;33m\u001b[0m\u001b[0m\n\u001b[1;32m--> 388\u001b[1;33m             \u001b[1;32mraise\u001b[0m \u001b[0mMaxRetryError\u001b[0m\u001b[1;33m(\u001b[0m\u001b[0m_pool\u001b[0m\u001b[1;33m,\u001b[0m \u001b[0murl\u001b[0m\u001b[1;33m,\u001b[0m \u001b[0merror\u001b[0m \u001b[1;32mor\u001b[0m \u001b[0mResponseError\u001b[0m\u001b[1;33m(\u001b[0m\u001b[0mcause\u001b[0m\u001b[1;33m)\u001b[0m\u001b[1;33m)\u001b[0m\u001b[1;33m\u001b[0m\u001b[0m\n\u001b[0m\u001b[0;32m    389\u001b[0m \u001b[1;33m\u001b[0m\u001b[0m\n",
      "\u001b[1;31mMaxRetryError\u001b[0m: HTTPSConnectionPool(host='www.xicidaili.com', port=443): Max retries exceeded with url: /nn/12 (Caused by ProxyError('Cannot connect to proxy.', NewConnectionError('<urllib3.connection.VerifiedHTTPSConnection object at 0x00000269A840DCC0>: Failed to establish a new connection: [WinError 10060] 由于连接方在一段时间后没有正确答复或连接的主机没有反应，连接尝试失败。',)))",
      "\nDuring handling of the above exception, another exception occurred:\n",
      "\u001b[1;31mProxyError\u001b[0m                                Traceback (most recent call last)",
      "\u001b[1;32m<ipython-input-22-34259f1b13f9>\u001b[0m in \u001b[0;36m<module>\u001b[1;34m()\u001b[0m\n\u001b[0;32m     10\u001b[0m     \u001b[0mnew_url\u001b[0m \u001b[1;33m=\u001b[0m \u001b[0mformat\u001b[0m\u001b[1;33m(\u001b[0m\u001b[0murl\u001b[0m\u001b[1;33m%\u001b[0m\u001b[0mpage\u001b[0m\u001b[1;33m)\u001b[0m\u001b[1;33m\u001b[0m\u001b[0m\n\u001b[0;32m     11\u001b[0m     \u001b[0mip_port\u001b[0m \u001b[1;33m=\u001b[0m \u001b[0mrandom\u001b[0m\u001b[1;33m.\u001b[0m\u001b[0mchoice\u001b[0m\u001b[1;33m(\u001b[0m\u001b[0mip_list\u001b[0m\u001b[1;33m)\u001b[0m\u001b[1;33m\u001b[0m\u001b[0m\n\u001b[1;32m---> 12\u001b[1;33m     \u001b[0mpage_text\u001b[0m \u001b[1;33m=\u001b[0m \u001b[0mrequests\u001b[0m\u001b[1;33m.\u001b[0m\u001b[0mget\u001b[0m\u001b[1;33m(\u001b[0m\u001b[0mnew_url\u001b[0m\u001b[1;33m,\u001b[0m\u001b[0mheaders\u001b[0m\u001b[1;33m=\u001b[0m\u001b[0mheaders\u001b[0m\u001b[1;33m,\u001b[0m\u001b[0mproxies\u001b[0m\u001b[1;33m=\u001b[0m\u001b[1;33m{\u001b[0m\u001b[1;34m'https'\u001b[0m\u001b[1;33m:\u001b[0m\u001b[0mip_port\u001b[0m\u001b[1;33m}\u001b[0m\u001b[1;33m)\u001b[0m\u001b[1;33m.\u001b[0m\u001b[0mtext\u001b[0m\u001b[1;33m\u001b[0m\u001b[0m\n\u001b[0m\u001b[0;32m     13\u001b[0m     \u001b[0mtree\u001b[0m \u001b[1;33m=\u001b[0m \u001b[0metree\u001b[0m\u001b[1;33m.\u001b[0m\u001b[0mHTML\u001b[0m\u001b[1;33m(\u001b[0m\u001b[0mpage_text\u001b[0m\u001b[1;33m)\u001b[0m\u001b[1;33m\u001b[0m\u001b[0m\n\u001b[0;32m     14\u001b[0m     \u001b[1;31m#tbody不可以出现在xpath表达式中\u001b[0m\u001b[1;33m\u001b[0m\u001b[1;33m\u001b[0m\u001b[0m\n",
      "\u001b[1;32mC:\\Anaconda_bobo\\lib\\site-packages\\requests\\api.py\u001b[0m in \u001b[0;36mget\u001b[1;34m(url, params, **kwargs)\u001b[0m\n\u001b[0;32m     70\u001b[0m \u001b[1;33m\u001b[0m\u001b[0m\n\u001b[0;32m     71\u001b[0m     \u001b[0mkwargs\u001b[0m\u001b[1;33m.\u001b[0m\u001b[0msetdefault\u001b[0m\u001b[1;33m(\u001b[0m\u001b[1;34m'allow_redirects'\u001b[0m\u001b[1;33m,\u001b[0m \u001b[1;32mTrue\u001b[0m\u001b[1;33m)\u001b[0m\u001b[1;33m\u001b[0m\u001b[0m\n\u001b[1;32m---> 72\u001b[1;33m     \u001b[1;32mreturn\u001b[0m \u001b[0mrequest\u001b[0m\u001b[1;33m(\u001b[0m\u001b[1;34m'get'\u001b[0m\u001b[1;33m,\u001b[0m \u001b[0murl\u001b[0m\u001b[1;33m,\u001b[0m \u001b[0mparams\u001b[0m\u001b[1;33m=\u001b[0m\u001b[0mparams\u001b[0m\u001b[1;33m,\u001b[0m \u001b[1;33m**\u001b[0m\u001b[0mkwargs\u001b[0m\u001b[1;33m)\u001b[0m\u001b[1;33m\u001b[0m\u001b[0m\n\u001b[0m\u001b[0;32m     73\u001b[0m \u001b[1;33m\u001b[0m\u001b[0m\n\u001b[0;32m     74\u001b[0m \u001b[1;33m\u001b[0m\u001b[0m\n",
      "\u001b[1;32mC:\\Anaconda_bobo\\lib\\site-packages\\requests\\api.py\u001b[0m in \u001b[0;36mrequest\u001b[1;34m(method, url, **kwargs)\u001b[0m\n\u001b[0;32m     56\u001b[0m     \u001b[1;31m# cases, and look like a memory leak in others.\u001b[0m\u001b[1;33m\u001b[0m\u001b[1;33m\u001b[0m\u001b[0m\n\u001b[0;32m     57\u001b[0m     \u001b[1;32mwith\u001b[0m \u001b[0msessions\u001b[0m\u001b[1;33m.\u001b[0m\u001b[0mSession\u001b[0m\u001b[1;33m(\u001b[0m\u001b[1;33m)\u001b[0m \u001b[1;32mas\u001b[0m \u001b[0msession\u001b[0m\u001b[1;33m:\u001b[0m\u001b[1;33m\u001b[0m\u001b[0m\n\u001b[1;32m---> 58\u001b[1;33m         \u001b[1;32mreturn\u001b[0m \u001b[0msession\u001b[0m\u001b[1;33m.\u001b[0m\u001b[0mrequest\u001b[0m\u001b[1;33m(\u001b[0m\u001b[0mmethod\u001b[0m\u001b[1;33m=\u001b[0m\u001b[0mmethod\u001b[0m\u001b[1;33m,\u001b[0m \u001b[0murl\u001b[0m\u001b[1;33m=\u001b[0m\u001b[0murl\u001b[0m\u001b[1;33m,\u001b[0m \u001b[1;33m**\u001b[0m\u001b[0mkwargs\u001b[0m\u001b[1;33m)\u001b[0m\u001b[1;33m\u001b[0m\u001b[0m\n\u001b[0m\u001b[0;32m     59\u001b[0m \u001b[1;33m\u001b[0m\u001b[0m\n\u001b[0;32m     60\u001b[0m \u001b[1;33m\u001b[0m\u001b[0m\n",
      "\u001b[1;32mC:\\Anaconda_bobo\\lib\\site-packages\\requests\\sessions.py\u001b[0m in \u001b[0;36mrequest\u001b[1;34m(self, method, url, params, data, headers, cookies, files, auth, timeout, allow_redirects, proxies, hooks, stream, verify, cert, json)\u001b[0m\n\u001b[0;32m    506\u001b[0m         }\n\u001b[0;32m    507\u001b[0m         \u001b[0msend_kwargs\u001b[0m\u001b[1;33m.\u001b[0m\u001b[0mupdate\u001b[0m\u001b[1;33m(\u001b[0m\u001b[0msettings\u001b[0m\u001b[1;33m)\u001b[0m\u001b[1;33m\u001b[0m\u001b[0m\n\u001b[1;32m--> 508\u001b[1;33m         \u001b[0mresp\u001b[0m \u001b[1;33m=\u001b[0m \u001b[0mself\u001b[0m\u001b[1;33m.\u001b[0m\u001b[0msend\u001b[0m\u001b[1;33m(\u001b[0m\u001b[0mprep\u001b[0m\u001b[1;33m,\u001b[0m \u001b[1;33m**\u001b[0m\u001b[0msend_kwargs\u001b[0m\u001b[1;33m)\u001b[0m\u001b[1;33m\u001b[0m\u001b[0m\n\u001b[0m\u001b[0;32m    509\u001b[0m \u001b[1;33m\u001b[0m\u001b[0m\n\u001b[0;32m    510\u001b[0m         \u001b[1;32mreturn\u001b[0m \u001b[0mresp\u001b[0m\u001b[1;33m\u001b[0m\u001b[0m\n",
      "\u001b[1;32mC:\\Anaconda_bobo\\lib\\site-packages\\requests\\sessions.py\u001b[0m in \u001b[0;36msend\u001b[1;34m(self, request, **kwargs)\u001b[0m\n\u001b[0;32m    616\u001b[0m \u001b[1;33m\u001b[0m\u001b[0m\n\u001b[0;32m    617\u001b[0m         \u001b[1;31m# Send the request\u001b[0m\u001b[1;33m\u001b[0m\u001b[1;33m\u001b[0m\u001b[0m\n\u001b[1;32m--> 618\u001b[1;33m         \u001b[0mr\u001b[0m \u001b[1;33m=\u001b[0m \u001b[0madapter\u001b[0m\u001b[1;33m.\u001b[0m\u001b[0msend\u001b[0m\u001b[1;33m(\u001b[0m\u001b[0mrequest\u001b[0m\u001b[1;33m,\u001b[0m \u001b[1;33m**\u001b[0m\u001b[0mkwargs\u001b[0m\u001b[1;33m)\u001b[0m\u001b[1;33m\u001b[0m\u001b[0m\n\u001b[0m\u001b[0;32m    619\u001b[0m \u001b[1;33m\u001b[0m\u001b[0m\n\u001b[0;32m    620\u001b[0m         \u001b[1;31m# Total elapsed time of the request (approximately)\u001b[0m\u001b[1;33m\u001b[0m\u001b[1;33m\u001b[0m\u001b[0m\n",
      "\u001b[1;32mC:\\Anaconda_bobo\\lib\\site-packages\\requests\\adapters.py\u001b[0m in \u001b[0;36msend\u001b[1;34m(self, request, stream, timeout, verify, cert, proxies)\u001b[0m\n\u001b[0;32m    500\u001b[0m \u001b[1;33m\u001b[0m\u001b[0m\n\u001b[0;32m    501\u001b[0m             \u001b[1;32mif\u001b[0m \u001b[0misinstance\u001b[0m\u001b[1;33m(\u001b[0m\u001b[0me\u001b[0m\u001b[1;33m.\u001b[0m\u001b[0mreason\u001b[0m\u001b[1;33m,\u001b[0m \u001b[0m_ProxyError\u001b[0m\u001b[1;33m)\u001b[0m\u001b[1;33m:\u001b[0m\u001b[1;33m\u001b[0m\u001b[0m\n\u001b[1;32m--> 502\u001b[1;33m                 \u001b[1;32mraise\u001b[0m \u001b[0mProxyError\u001b[0m\u001b[1;33m(\u001b[0m\u001b[0me\u001b[0m\u001b[1;33m,\u001b[0m \u001b[0mrequest\u001b[0m\u001b[1;33m=\u001b[0m\u001b[0mrequest\u001b[0m\u001b[1;33m)\u001b[0m\u001b[1;33m\u001b[0m\u001b[0m\n\u001b[0m\u001b[0;32m    503\u001b[0m \u001b[1;33m\u001b[0m\u001b[0m\n\u001b[0;32m    504\u001b[0m             \u001b[1;32mif\u001b[0m \u001b[0misinstance\u001b[0m\u001b[1;33m(\u001b[0m\u001b[0me\u001b[0m\u001b[1;33m.\u001b[0m\u001b[0mreason\u001b[0m\u001b[1;33m,\u001b[0m \u001b[0m_SSLError\u001b[0m\u001b[1;33m)\u001b[0m\u001b[1;33m:\u001b[0m\u001b[1;33m\u001b[0m\u001b[0m\n",
      "\u001b[1;31mProxyError\u001b[0m: HTTPSConnectionPool(host='www.xicidaili.com', port=443): Max retries exceeded with url: /nn/12 (Caused by ProxyError('Cannot connect to proxy.', NewConnectionError('<urllib3.connection.VerifiedHTTPSConnection object at 0x00000269A840DCC0>: Failed to establish a new connection: [WinError 10060] 由于连接方在一段时间后没有正确答复或连接的主机没有反应，连接尝试失败。',)))"
     ]
    }
   ],
   "source": [
    "#爬取西祠代理\n",
    "headers = {\n",
    "    'User-Agent':'Mozilla/5.0 (Windows NT 10.0; Win64; x64) AppleWebKit/537.36 (KHTML, like Gecko) Chrome/76.0.3809.132 Safari/537.36',\n",
    "    'Connection':\"close\"\n",
    "}\n",
    "url = 'https://www.xicidaili.com/nn/%d'\n",
    "proxy_list_http = []\n",
    "proxy_list_https = []\n",
    "for page in range(1,20):\n",
    "    new_url = format(url%page)\n",
    "    ip_port = random.choice(ip_list)\n",
    "    page_text = requests.get(new_url,headers=headers,proxies={'https':ip_port}).text\n",
    "    tree = etree.HTML(page_text)\n",
    "    #tbody不可以出现在xpath表达式中\n",
    "    tr_list = tree.xpath('//*[@id=\"ip_list\"]//tr')[1:]\n",
    "    for tr in tr_list:\n",
    "        ip = tr.xpath('./td[2]/text()')[0]\n",
    "        port = tr.xpath('./td[3]/text()')[0]\n",
    "        t_type = tr.xpath('./td[6]/text()')[0]\n",
    "        ips = ip+':'+port\n",
    "        if t_type == 'HTTP':\n",
    "            dic = {\n",
    "                t_type: ips\n",
    "            }\n",
    "            proxy_list_http.append(dic)\n",
    "        else:\n",
    "            dic = {\n",
    "                t_type:ips\n",
    "            }\n",
    "            proxy_list_https.append(dic)\n",
    "print(len(proxy_list_http),len(proxy_list_https))"
   ]
  },
  {
   "cell_type": "code",
   "execution_count": null,
   "metadata": {},
   "outputs": [],
   "source": [
    "#检测\n",
    "for ip in proxy_list_http:\n",
    "    response = requests.get('https://www/sogou.com',headers=headers,proxies={'https':ip})\n",
    "    if response.status_code == '200':\n",
    "        print('检测到了可用ip')"
   ]
  },
  {
   "cell_type": "markdown",
   "metadata": {},
   "source": [
    "- cookie的处理\n",
    "    - 手动处理：将cookie封装到headers中\n",
    "    - 自动处理：session对象。可以创建一个session对象，改对象可以像requests一样进行请求发送。不同之处在于如果在使用session进行请求发送的过程中产生了cookie，则cookie会被自动存储在session对象中。"
   ]
  },
  {
   "cell_type": "code",
   "execution_count": 32,
   "metadata": {
    "collapsed": true
   },
   "outputs": [
    {
     "data": {
      "text/plain": [
       "{'error_code': '400016',\n",
       " 'error_data': None,\n",
       " 'error_description': '遇到错误，请刷新页面或者重新登录帐号后再试',\n",
       " 'error_uri': '/v4/statuses/public_timeline_by_category.json'}"
      ]
     },
     "execution_count": 32,
     "metadata": {},
     "output_type": "execute_result"
    }
   ],
   "source": [
    "#对雪球网中的新闻数据进行爬取https://xueqiu.com/\n",
    "headers = {\n",
    "    'User-Agent':'Mozilla/5.0 (Windows NT 10.0; Win64; x64) AppleWebKit/537.36 (KHTML, like Gecko) Chrome/76.0.3809.132 Safari/537.36',\n",
    "#     'Cookie':'aliyungf_tc=AQAAAAl2aA+kKgkAtxdwe3JmsY226Y+n; acw_tc=2760822915681668126047128e605abf3a5518432dc7f074b2c9cb26d0aa94; xq_a_token=75661393f1556aa7f900df4dc91059df49b83145; xq_r_token=29fe5e93ec0b24974bdd382ffb61d026d8350d7d; u=121568166816578; device_id=24700f9f1986800ab4fcc880530dd0ed'\n",
    "}\n",
    "url = 'https://xueqiu.com/v4/statuses/public_timeline_by_category.json?since_id=-1&max_id=20349203&count=15&category=-1'\n",
    "page_text = requests.get(url=url,headers=headers).json()\n",
    "page_text"
   ]
  },
  {
   "cell_type": "code",
   "execution_count": 35,
   "metadata": {
    "collapsed": true
   },
   "outputs": [
    {
     "data": {
      "text/plain": [
       "{'addition': [],\n",
       " 'list': [{'category': 0,\n",
       "   'column': '沪深',\n",
       "   'data': '{\"id\":132614531,\"title\":\"狼来了！今天，中囯电信行业打响第一枪！流量费用要降价了！\",\"description\":\"狼，终究来了！ 刚刚传来大消息，中国工信部正式宣布：英国电信（BT）获得了在中国全国性经营通信的牌照。 随后，英国电信也在第一时间证实这一消息！他们兴高采烈地表示：取得牌照，意味着英国电信在中国迈出重要的一步！ 是的，你没有看错：英国电信！这是英国最大的电信公司，也是一家有着超过...\",\"target\":\"/3583653389/132614531\",\"reply_count\":61,\"retweet_count\":7,\"topic_title\":\"狼来了！今天，中囯电信行业打响第一枪！流量费用要降价了！\",\"topic_desc\":\"狼，终究来了！ 刚刚传来大消息， 中国工信部正式宣布：英...\",\"topic_symbol\":null,\"topic_pic\":null,\"topic_pic_hd\":null,\"pic_type\":0,\"first_pic\":\"https://xqimg.imedao.com/16d1a039553293dc3fb51093.jpg!186x186.jpg\",\"pic_size\":{\"width\":2,\"height\":1},\"pic\":\"https://xqimg.imedao.com/16d1a039553293dc3fb51093.jpg!345x210.webp,https://xqimg.imedao.com/16d1a039557293dd3fc67b4c.jpg!345x210.webp\",\"pic_sizes\":[{\"width\":1080,\"height\":675},{\"width\":854,\"height\":522}],\"cover_pic\":null,\"user\":{\"id\":3583653389,\"profile\":\"/3583653389\",\"description\":\"\",\"following\":false,\"screen_name\":\"自由如风B\",\"profile_image_url\":\"community/20196/1563270567236-1563270572069.jpg,community/20196/1563270567236-1563270572069.jpg!180x180.png,community/20196/1563270567236-1563270572069.jpg!50x50.png,community/20196/1563270567236-1563270572069.jpg!30x30.png\",\"photo_domain\":\"http://xavatar.imedao.com/\",\"verified_infos\":[],\"followers_count\":734},\"promotion\":false,\"answers\":null,\"view_count\":142597,\"created_at\":1568099569000,\"link_stock_desc\":null,\"link_stock_symbol\":null,\"strategy_id\":0,\"feedback\":null,\"tag\":null,\"card\":null,\"quote_cards\":null,\"source\":\"雪球\",\"retweeted_status\":null,\"like_count\":29,\"liked\":false,\"mode\":0,\"symbol_id\":null,\"score\":null,\"reply_user_images\":null,\"reply_user_count\":0,\"offer\":null,\"user_id\":3583653389,\"longTextForIOS\":false}',\n",
       "   'id': 20349202},\n",
       "  {'category': 0,\n",
       "   'column': '沪深',\n",
       "   'data': '{\"id\":132619301,\"title\":\"\",\"description\":\"【李大霄：为什么说2440点永别了？】李大霄今日发文称，在2733点，大多数人都在讨论会不会击破2440，而从2733点到升穿3000点，只用了一个月的时间，大盘的走势总是出乎大多数人的预料之外。很多人受到空头的悲观情绪的影响而踏空了。 踏空者并没有理解这行情的性质，从2440点开始，外资流入改变了...\",\"target\":\"/5124430882/132619301\",\"reply_count\":24,\"retweet_count\":4,\"topic_title\":\"李大霄：为什么说2440点永别了？\",\"topic_desc\":\"【李大霄：为什么说2440点永别了？】李大霄今日发文称，在2...\",\"topic_symbol\":null,\"topic_pic\":null,\"topic_pic_hd\":null,\"pic_type\":0,\"first_pic\":\"https://xqimg.imedao.com/16d1a44a514294e23fb92df0.png!186x186.jpg\",\"pic_size\":{\"width\":2,\"height\":1},\"pic\":\"https://xqimg.imedao.com/16d1a44a514294e23fb92df0.png!345x210.webp\",\"pic_sizes\":[{\"width\":711,\"height\":370}],\"cover_pic\":null,\"user\":{\"id\":5124430882,\"profile\":\"/5124430882\",\"description\":\"直播股市要闻\",\"following\":false,\"screen_name\":\"雪球7x24\",\"profile_image_url\":\"community/201711/1513595963954-1513595964287.png,community/201711/1513595963954-1513595964287.png!180x180.png,community/201711/1513595963954-1513595964287.png!50x50.png,community/201711/1513595963954-1513595964287.png!30x30.png\",\"photo_domain\":\"http://xavatar.imedao.com/\",\"verified_infos\":[],\"followers_count\":208423},\"promotion\":false,\"answers\":null,\"view_count\":48664,\"created_at\":1568103712000,\"link_stock_desc\":null,\"link_stock_symbol\":null,\"strategy_id\":0,\"feedback\":null,\"tag\":null,\"card\":null,\"quote_cards\":null,\"source\":\"雪球\",\"retweeted_status\":null,\"like_count\":8,\"liked\":false,\"mode\":0,\"symbol_id\":null,\"score\":null,\"reply_user_images\":null,\"reply_user_count\":0,\"offer\":null,\"user_id\":5124430882,\"longTextForIOS\":false}',\n",
       "   'id': 20349201},\n",
       "  {'category': 0,\n",
       "   'column': '沪深',\n",
       "   'data': '{\"id\":132622123,\"title\":\"\",\"description\":\"【国办：银行业金融机构要积极支持生猪产业发展 不得盲目限贷、抽贷、断贷】国办发布关于稳定生猪生产促进转型升级的意见。意见提出，继续实施种猪场和规模养猪场（户）贷款贴息政策，期限延长至2020年12月31日，并将建设资金贷款纳入贴息范围。对2020年底前新建、改扩建种猪场、规模养猪场（户）...\",\"target\":\"/5124430882/132622123\",\"reply_count\":18,\"retweet_count\":4,\"topic_title\":\"国办：银行业金融机构要积极支持生猪产业发展\",\"topic_desc\":\"【国办：银行业金融机构要积极支持生猪产业发展 不得盲目限...\",\"topic_symbol\":null,\"topic_pic\":null,\"topic_pic_hd\":null,\"pic_type\":0,\"first_pic\":null,\"pic_size\":{\"width\":2,\"height\":1},\"pic\":\"\",\"pic_sizes\":[],\"cover_pic\":null,\"user\":{\"id\":5124430882,\"profile\":\"/5124430882\",\"description\":\"直播股市要闻\",\"following\":false,\"screen_name\":\"雪球7x24\",\"profile_image_url\":\"community/201711/1513595963954-1513595964287.png,community/201711/1513595963954-1513595964287.png!180x180.png,community/201711/1513595963954-1513595964287.png!50x50.png,community/201711/1513595963954-1513595964287.png!30x30.png\",\"photo_domain\":\"http://xavatar.imedao.com/\",\"verified_infos\":[],\"followers_count\":208423},\"promotion\":false,\"answers\":null,\"view_count\":76706,\"created_at\":1568106221000,\"link_stock_desc\":null,\"link_stock_symbol\":null,\"strategy_id\":0,\"feedback\":null,\"tag\":null,\"card\":null,\"quote_cards\":null,\"source\":\"雪球\",\"retweeted_status\":null,\"like_count\":8,\"liked\":false,\"mode\":0,\"symbol_id\":null,\"score\":null,\"reply_user_images\":null,\"reply_user_count\":0,\"offer\":null,\"user_id\":5124430882,\"longTextForIOS\":false}',\n",
       "   'id': 20349200},\n",
       "  {'category': 0,\n",
       "   'column': '沪深',\n",
       "   'data': '{\"id\":132622142,\"title\":\"\",\"description\":\"【外汇局：取消合格境外投资者投资额度限制 扩大金融市场对外开放】国家外汇管理局决定取消合格境外机构投资者（QFII）和人民币合格境外机构投资者（RQFII）投资额度限制。今后，具备相应资格的境外机构投资者，只需进行登记即可自主汇入资金开展符合规定的证券投资，境外投资者参与境内金融市场...\",\"target\":\"/5124430882/132622142\",\"reply_count\":736,\"retweet_count\":268,\"topic_title\":\"【重磅】外汇局：取消合格境外投资者投资额度限制\",\"topic_desc\":\"【外汇局：取消合格境外投资者投资额度限制 扩大金融市场对...\",\"topic_symbol\":null,\"topic_pic\":null,\"topic_pic_hd\":null,\"pic_type\":0,\"first_pic\":null,\"pic_size\":{\"width\":2,\"height\":1},\"pic\":\"\",\"pic_sizes\":[],\"cover_pic\":null,\"user\":{\"id\":5124430882,\"profile\":\"/5124430882\",\"description\":\"直播股市要闻\",\"following\":false,\"screen_name\":\"雪球7x24\",\"profile_image_url\":\"community/201711/1513595963954-1513595964287.png,community/201711/1513595963954-1513595964287.png!180x180.png,community/201711/1513595963954-1513595964287.png!50x50.png,community/201711/1513595963954-1513595964287.png!30x30.png\",\"photo_domain\":\"http://xavatar.imedao.com/\",\"verified_infos\":[],\"followers_count\":208423},\"promotion\":false,\"answers\":null,\"view_count\":878778,\"created_at\":1568106244000,\"link_stock_desc\":null,\"link_stock_symbol\":null,\"strategy_id\":0,\"feedback\":null,\"tag\":null,\"card\":null,\"quote_cards\":null,\"source\":\"雪球\",\"retweeted_status\":null,\"like_count\":261,\"liked\":false,\"mode\":0,\"symbol_id\":null,\"score\":null,\"reply_user_images\":null,\"reply_user_count\":0,\"offer\":null,\"user_id\":5124430882,\"longTextForIOS\":false}',\n",
       "   'id': 20349199},\n",
       "  {'category': 0,\n",
       "   'column': '美股',\n",
       "   'data': '{\"id\":132610713,\"title\":\"大萧条：反思1929\",\"description\":\"我们是幸运的。出生在和平年代的中国且经历长达30年的快速增长，在漫长的历史长河中，其实只有千万分之一的概率。我们又是不幸的。历史的主旋律并非繁荣与发展，而是战争与饥荒交替，动荡与萧条并存。承平日久，人们将上天的眷顾视作稀松平常，噩运便在歌舞升平中悄悄降临，给我们致命一击。萧条...\",\"target\":\"/3583653389/132610713\",\"reply_count\":44,\"retweet_count\":42,\"topic_title\":\"大萧条：反思1929\",\"topic_desc\":\"我们是幸运的。出生在和平年代的中国且经历长达30年的快速...\",\"topic_symbol\":null,\"topic_pic\":null,\"topic_pic_hd\":null,\"pic_type\":0,\"first_pic\":\"https://xqimg.imedao.com/16d19d76c92290083fd12fe4.jpg!186x186.jpg\",\"pic_size\":{\"width\":2,\"height\":1},\"pic\":\"https://xqimg.imedao.com/16d19d76c92290083fd12fe4.jpg!345x210.webp,https://xqimg.imedao.com/16d19d76c6b28fb93fe7e708.jpg!345x210.webp,https://xqimg.imedao.com/16d19d76cfa291ec3fdd0985.jpg!345x210.webp,https://xqimg.imedao.com/16d19d76d97291ed3feb169b.jpg!345x210.webp,https://xqimg.imedao.com/16d19d76c9b28fe93fc91b9c.jpg!345x210.webp,https://xqimg.imedao.com/16d19d76d7528fea3fe3d42e.jpg!345x210.webp,https://xqimg.imedao.com/16d19d76e83291e13fd0c491.jpg!345x210.webp,https://xqimg.imedao.com/16d19d76e0328fad3fd59524.png!345x210.webp,https://xqimg.imedao.com/16d19d76dee28feb3fdae135.jpg!345x210.webp\",\"pic_sizes\":[{\"width\":417,\"height\":295},{\"width\":750,\"height\":427},{\"width\":926,\"height\":722},{\"width\":1080,\"height\":449},{\"width\":1080,\"height\":502},{\"width\":1080,\"height\":700},{\"width\":1080,\"height\":786},{\"width\":850,\"height\":522},{\"width\":810,\"height\":540}],\"cover_pic\":null,\"user\":{\"id\":3583653389,\"profile\":\"/3583653389\",\"description\":\"\",\"following\":false,\"screen_name\":\"自由如风B\",\"profile_image_url\":\"community/20196/1563270567236-1563270572069.jpg,community/20196/1563270567236-1563270572069.jpg!180x180.png,community/20196/1563270567236-1563270572069.jpg!50x50.png,community/20196/1563270567236-1563270572069.jpg!30x30.png\",\"photo_domain\":\"http://xavatar.imedao.com/\",\"verified_infos\":[],\"followers_count\":734},\"promotion\":false,\"answers\":null,\"view_count\":171773,\"created_at\":1568096660000,\"link_stock_desc\":null,\"link_stock_symbol\":null,\"strategy_id\":0,\"feedback\":null,\"tag\":null,\"card\":null,\"quote_cards\":null,\"source\":\"雪球\",\"retweeted_status\":null,\"like_count\":114,\"liked\":false,\"mode\":0,\"symbol_id\":null,\"score\":null,\"reply_user_images\":null,\"reply_user_count\":0,\"offer\":null,\"user_id\":3583653389,\"longTextForIOS\":false}',\n",
       "   'id': 20349198},\n",
       "  {'category': 0,\n",
       "   'column': '沪深',\n",
       "   'data': '{\"id\":132617500,\"title\":\"投资应不应该考虑流动性溢价\",\"description\":\"那天和朋友讨论港股的问题，然后说到港股相比a股的折价问题，如果同一个股票，应该买港股还是a股，应不应该考虑流动性溢价的问题。今天聊聊我对这个事情的看法。 港股是永远折价吗 我们从历史来看，港股并不是永远折价，特别是15年前面两三年，港股可以说是一直溢价交易，这点可以从ah溢价指数看...\",\"target\":\"/6852572880/132617500\",\"reply_count\":6,\"retweet_count\":3,\"topic_title\":\"投资应不应该考虑流动性溢价\",\"topic_desc\":\"那天和朋友讨论港股的问题，然后说到港股相比a股的折价问题...\",\"topic_symbol\":null,\"topic_pic\":null,\"topic_pic_hd\":null,\"pic_type\":0,\"first_pic\":\"https://xqimg.imedao.com/16d1a2897ec2939f3fe9b396.jpg!186x186.jpg\",\"pic_size\":{\"width\":2,\"height\":1},\"pic\":\"https://xqimg.imedao.com/16d1a2897ec2939f3fe9b396.jpg!345x210.webp\",\"pic_sizes\":[{\"width\":1920,\"height\":1080}],\"cover_pic\":null,\"user\":{\"id\":6852572880,\"profile\":\"/jefftz\",\"description\":\"央视财经投资者说嘉宾 公号 尖峰投资 私号 yinfeng19870706\",\"following\":false,\"screen_name\":\"尖峰JEFF\",\"profile_image_url\":\"community/20187/1533656150441-1533656150628.jpeg,community/20187/1533656150441-1533656150628.jpeg!180x180.png,community/20187/1533656150441-1533656150628.jpeg!50x50.png,community/20187/1533656150441-1533656150628.jpeg!30x30.png\",\"photo_domain\":\"http://xavatar.imedao.com/\",\"verified_infos\":[{\"verified_type\":\"1\",\"verified_desc\":\"职业投资人\"},{\"verified_type\":\"5\",\"verified_desc\":\"用户已完成实名身份认证\"}],\"followers_count\":8005},\"promotion\":false,\"answers\":null,\"view_count\":29373,\"created_at\":1568101944000,\"link_stock_desc\":null,\"link_stock_symbol\":null,\"strategy_id\":0,\"feedback\":null,\"tag\":null,\"card\":null,\"quote_cards\":null,\"source\":\"雪球\",\"retweeted_status\":null,\"like_count\":12,\"liked\":false,\"mode\":0,\"symbol_id\":null,\"score\":null,\"reply_user_images\":null,\"reply_user_count\":0,\"offer\":null,\"user_id\":6852572880,\"longTextForIOS\":false}',\n",
       "   'id': 20349197},\n",
       "  {'category': 0,\n",
       "   'column': '沪深',\n",
       "   'data': '{\"id\":132617028,\"title\":\"我投资上的老师，让我少走十年弯路\",\"description\":\"今天教师节，说说我投资上的老师。 第一个老师是<a href=\\\\\"http://xueqiu.com/n/骑行夜幕的统计客\\\\\" target=\\\\\"_blank\\\\\">@骑行夜幕的统计客</a>。 和骑大的相遇是在雪球。 当时是2015年股灾过后，刚入市不到一年的我在雪球上狂刷各种大V的帖子，拼命想从他们的话里抓住任何一点确定性的东西。 然而我发现他们中的很多人其实也没见过这么大阵仗，也不知道如何应对。言语中充...\",\"target\":\"/6943090400/132617028\",\"reply_count\":26,\"retweet_count\":5,\"topic_title\":\"我投资上的老师，让我少走十年弯路\",\"topic_desc\":\"今天教师节，说说我投资上的老师。 第一个老师是 @骑行夜幕...\",\"topic_symbol\":null,\"topic_pic\":null,\"topic_pic_hd\":null,\"pic_type\":0,\"first_pic\":null,\"pic_size\":{\"width\":2,\"height\":1},\"pic\":\"\",\"pic_sizes\":[],\"cover_pic\":null,\"user\":{\"id\":6943090400,\"profile\":\"/6943090400\",\"description\":\"\",\"following\":false,\"screen_name\":\"躺赢君\",\"profile_image_url\":\"community/20194/1557161695147-1557161714117.png,community/20194/1557161695147-1557161714117.png!180x180.png,community/20194/1557161695147-1557161714117.png!50x50.png,community/20194/1557161695147-1557161714117.png!30x30.png\",\"photo_domain\":\"http://xavatar.imedao.com/\",\"verified_infos\":[],\"followers_count\":3360},\"promotion\":false,\"answers\":null,\"view_count\":91911,\"created_at\":1568101533000,\"link_stock_desc\":null,\"link_stock_symbol\":null,\"strategy_id\":0,\"feedback\":null,\"tag\":null,\"card\":null,\"quote_cards\":null,\"source\":\"雪球\",\"retweeted_status\":null,\"like_count\":20,\"liked\":false,\"mode\":0,\"symbol_id\":null,\"score\":null,\"reply_user_images\":null,\"reply_user_count\":0,\"offer\":null,\"user_id\":6943090400,\"longTextForIOS\":false}',\n",
       "   'id': 20349196},\n",
       "  {'category': 0,\n",
       "   'column': '沪深',\n",
       "   'data': '{\"id\":132607800,\"title\":\"\",\"description\":\"有的人说，华侨城在各地动不动就几百亿投资，是到处摊大饼，其实是根本没明白华侨城的模式是什么。我觉得还是很少投资者了解华侨城的模式，华侨城干的事和万科这些纯地产商完全不是一个思路。我早就反复说，了解华侨城，一定要从了解深圳南山华侨城开始。华侨城在深圳南山华侨城从无到有，不但建设...\",\"target\":\"/5971234415/132607800\",\"reply_count\":50,\"retweet_count\":3,\"topic_title\":\"华侨城的大手笔投资并不等于摊大饼\",\"topic_desc\":\"有的人说，华侨城在各地动不动就几百亿投资，是到处摊大饼，...\",\"topic_symbol\":null,\"topic_pic\":null,\"topic_pic_hd\":null,\"pic_type\":0,\"first_pic\":null,\"pic_size\":{\"width\":2,\"height\":1},\"pic\":\"\",\"pic_sizes\":[],\"cover_pic\":null,\"user\":{\"id\":5971234415,\"profile\":\"/5971234415\",\"description\":null,\"following\":false,\"screen_name\":\"挪威的森林0323\",\"profile_image_url\":\"community/20172/1490173815046-1490173818620.jpg,community/20172/1490173815046-1490173818620.jpg!180x180.png,community/20172/1490173815046-1490173818620.jpg!50x50.png,community/20172/1490173815046-1490173818620.jpg!30x30.png\",\"photo_domain\":\"http://xavatar.imedao.com/\",\"verified_infos\":[],\"followers_count\":2606},\"promotion\":false,\"answers\":null,\"view_count\":63294,\"created_at\":1568094680000,\"link_stock_desc\":null,\"link_stock_symbol\":null,\"strategy_id\":0,\"feedback\":null,\"tag\":null,\"card\":null,\"quote_cards\":null,\"source\":\"Android\",\"retweeted_status\":null,\"like_count\":37,\"liked\":false,\"mode\":0,\"symbol_id\":null,\"score\":null,\"reply_user_images\":null,\"reply_user_count\":0,\"offer\":null,\"user_id\":5971234415,\"longTextForIOS\":false}',\n",
       "   'id': 20349195},\n",
       "  {'category': 0,\n",
       "   'column': '美股',\n",
       "   'data': '{\"id\":132619665,\"title\":\"【悬赏】20年前与20年后的当下，哪一个是投资互联网更好的时代？\",\"description\":\"20年前，在那个互联网近乎野蛮生长的年代，马云回应BBC记者关于“公司口号震天响，却不赚钱”的质疑时说，“那就是互联网”。 20年后的今天，互联网格局基本成型，很多公司以创业失败告终，但阿里、京东、美团、腾讯、百度等已经实现了全面盈利，投资者对互联网公司的很多要求也在不断变化。 那么...\",\"target\":\"/8152922548/132619665\",\"reply_count\":70,\"retweet_count\":55,\"topic_title\":\"【悬赏】20年前与20年后的当下，哪一个是投资互联网更好的时代？\",\"topic_desc\":\"20年前，在那个互联网近乎野蛮生长的年代，马云回应BBC记者关于“公司口号震天响，却不赚钱”的质疑时说，“那就是互联网”。 20年后的今天，互联网格局基本成型，很多公司以创业失败告终，但阿里、京东、美团、腾讯、百度等已经实现了全面盈利，投资者对互联网公司的很多要求也在不断变化。 那么...\",\"topic_symbol\":null,\"topic_pic\":null,\"topic_pic_hd\":null,\"pic_type\":0,\"first_pic\":\"https://xqimg.imedao.com/16d1a49e1a9c53feb4a01541.jpg!186x186.jpg\",\"pic_size\":{\"width\":2,\"height\":1},\"pic\":\"https://xqimg.imedao.com/16d1a49e1a9c53feb4a01541.jpg!345x210.webp\",\"pic_sizes\":[{\"width\":1000,\"height\":942}],\"cover_pic\":null,\"user\":{\"id\":8152922548,\"profile\":\"/8152922548\",\"description\":\"好内容请@今日话题，我就是今日话题，专注来钱信息！\",\"following\":false,\"screen_name\":\"今日话题\",\"profile_image_url\":\"community/201711/1513595970764-1513595971052.png,community/201711/1513595970764-1513595971052.png!180x180.png,community/201711/1513595970764-1513595971052.png!50x50.png,community/201711/1513595970764-1513595971052.png!30x30.png\",\"photo_domain\":\"http://xavatar.imedao.com/\",\"verified_infos\":[{\"verified_type\":\"7\",\"verified_desc\":\"今日话题官方帐号\"}],\"followers_count\":15043036},\"promotion\":false,\"answers\":null,\"view_count\":136839,\"created_at\":1568104075000,\"link_stock_desc\":null,\"link_stock_symbol\":null,\"strategy_id\":0,\"feedback\":null,\"tag\":null,\"card\":null,\"quote_cards\":null,\"source\":\"雪球\",\"retweeted_status\":null,\"like_count\":21,\"liked\":false,\"mode\":0,\"symbol_id\":null,\"score\":null,\"reply_user_images\":null,\"reply_user_count\":0,\"offer\":{\"id\":38364,\"type\":\"MANUAL\",\"amount\":1888,\"state\":\"NORMAL\",\"count\":0,\"title\":\"\",\"balance\":1136,\"refundAmount\":0,\"desc\":\"提问者将在悬赏结束前选出最佳答案并分配奖金，截止至09/15 16:27\",\"due_time\":1568536074883},\"user_id\":8152922548,\"longTextForIOS\":false}',\n",
       "   'id': 20349194},\n",
       "  {'category': 0,\n",
       "   'column': '沪深',\n",
       "   'data': '{\"id\":132611596,\"title\":\"分散与集中\",\"description\":\"有观点认为，在同一个板块里面配置多只股票其实意义不大。 我们分散投资，强调的是否定持仓之间的强关联性。 但事实是这样的，有些板块，例如地产和白酒，满屏都是优质公司，你分散配几个，可以获得板块平均收益的同时再获得个别公司的超额收益。 但有些行业板块，满屏都是烂公司，例如，军工，机...\",\"target\":\"/1940531581/132611596\",\"reply_count\":33,\"retweet_count\":7,\"topic_title\":\"分散与集中\",\"topic_desc\":\"有观点认为，在同一个板块里面配置多只股票其实意义不大。 ...\",\"topic_symbol\":null,\"topic_pic\":null,\"topic_pic_hd\":null,\"pic_type\":0,\"first_pic\":null,\"pic_size\":{\"width\":2,\"height\":1},\"pic\":\"\",\"pic_sizes\":[],\"cover_pic\":null,\"user\":{\"id\":1940531581,\"profile\":\"/1940531581\",\"description\":\"专注吃喝玩乐。\",\"following\":false,\"screen_name\":\"魔鬼列车长小高\",\"profile_image_url\":\"community/20192/1553093949870-1553093953694.jpg,community/20192/1553093949870-1553093953694.jpg!180x180.png,community/20192/1553093949870-1553093953694.jpg!50x50.png,community/20192/1553093949870-1553093953694.jpg!30x30.png\",\"photo_domain\":\"http://xavatar.imedao.com/\",\"verified_infos\":[],\"followers_count\":9929},\"promotion\":false,\"answers\":null,\"view_count\":47317,\"created_at\":1568097276000,\"link_stock_desc\":null,\"link_stock_symbol\":null,\"strategy_id\":0,\"feedback\":null,\"tag\":null,\"card\":null,\"quote_cards\":null,\"source\":\"iPhone\",\"retweeted_status\":null,\"like_count\":15,\"liked\":false,\"mode\":0,\"symbol_id\":null,\"score\":null,\"reply_user_images\":null,\"reply_user_count\":0,\"offer\":null,\"user_id\":1940531581,\"longTextForIOS\":false}',\n",
       "   'id': 20349193},\n",
       "  {'category': 0,\n",
       "   'column': '沪深',\n",
       "   'data': '{\"id\":132611343,\"title\":\"几个持股朋友对此次伊利股权激励的看法和财务数据角度看伊利\",\"description\":\"伊利的股权激励事件把这家公司推上了风口浪尖， 不禁引我再次好奇这家公司，这可是我十年前第一只买的股票。当年在大学图书馆商业杂志上看到它三聚氰胺开始恢复起来，想起自己高中前喝牛奶基本就喝它，人生第一只股票就买了它。 身边好几个朋友哥们持有伊利股份多年，关于这次股权激励，他们的看...\",\"target\":\"/8036696479/132611343\",\"reply_count\":3,\"retweet_count\":0,\"topic_title\":\"财务数据看伊利\",\"topic_desc\":\"伊利的股权激励事件把这家公司推上了风口浪尖， 不禁引我再...\",\"topic_symbol\":null,\"topic_pic\":null,\"topic_pic_hd\":null,\"pic_type\":0,\"first_pic\":\"https://xqimg.imedao.com/16d1ba265792a79e3feb7bdf.png!186x186.jpg\",\"pic_size\":{\"width\":2,\"height\":1},\"pic\":\"https://xqimg.imedao.com/16d1ba265792a79e3feb7bdf.png!345x210.webp,https://xqimg.imedao.com/16d0a2b019c229663fec11d4.png!345x210.webp,https://xqimg.imedao.com/16d0a32de74229933fed2e64.png!345x210.webp,https://xqimg.imedao.com/16d0a40fece22c1c3feb6ce8.png!345x210.webp,https://xqimg.imedao.com/16d0a4344d4229c53fe2a4e7.png!345x210.webp,https://xqimg.imedao.com/16d0a4653f122cb63f8537d9.png!345x210.webp,https://xqimg.imedao.com/16d0a35cae1229693fef3c8a.png!345x210.webp,https://xqimg.imedao.com/16d0a4abc0e22c643fd6b7d7.png!345x210.webp,https://xqimg.imedao.com/16d0a53c11f22b793fd24a39.png!345x210.webp,https://xqimg.imedao.com/16d0a5c8291229fb3fe058be.png!345x210.webp,https://xqimg.imedao.com/16d0a63d47322d6d3fe51bf3.png!345x210.webp,https://xqimg.imedao.com/16d0a69d41e22b303fe2ee47.png!345x210.webp,https://xqimg.imedao.com/16d0a6d7f3422e283fe7690b.png!345x210.webp,https://xqimg.imedao.com/16d0a706f7122b693fd20fb2.png!345x210.webp,https://xqimg.imedao.com/16d0a77df1d22b0d3fe9a706.png!345x210.webp,https://xqimg.imedao.com/16d0a72b0f522baf3feddcd3.png!345x210.webp,https://xqimg.imedao.com/16d0a78d84c22e7c3febd9fd.png!345x210.webp,https://xqimg.imedao.com/16d0a73cf5222b843fcb2082.png!345x210.webp,https://xqimg.imedao.com/16d0a7a0df922b193fa52bba.png!345x210.webp,https://xqimg.imedao.com/16d0a744b0822e633fecd2b8.png!345x210.webp,https://xqimg.imedao.com/16d0a7b4fe522cb93fe11510.png!345x210.webp\",\"pic_sizes\":[{\"width\":621,\"height\":684},{\"width\":2588,\"height\":666},{\"width\":2615,\"height\":673},{\"width\":832,\"height\":380},{\"width\":857,\"height\":372},{\"width\":827,\"height\":370},{\"width\":2569,\"height\":659},{\"width\":2570,\"height\":618},{\"width\":2619,\"height\":666},{\"width\":2620,\"height\":841},{\"width\":2573,\"height\":809},{\"width\":1244,\"height\":515},{\"width\":2513,\"height\":1018},{\"width\":2274,\"height\":1015},{\"width\":2424,\"height\":826},{\"width\":955,\"height\":662},{\"width\":2410,\"height\":825},{\"width\":803,\"height\":571},{\"width\":2431,\"height\":794},{\"width\":933,\"height\":662},{\"width\":2425,\"height\":842},{\"width\":955,\"height\":909}],\"cover_pic\":null,\"user\":{\"id\":8036696479,\"profile\":\"/8036696479\",\"description\":\"\",\"following\":false,\"screen_name\":\"Laughing星仔\",\"profile_image_url\":\"community/20176/1499175874848-1499175875054.jpeg,community/20176/1499175874848-1499175875054.jpeg!180x180.png,community/20176/1499175874848-1499175875054.jpeg!50x50.png,community/20176/1499175874848-1499175875054.jpeg!30x30.png\",\"photo_domain\":\"http://xavatar.imedao.com/\",\"verified_infos\":[{\"verified_type\":\"3\",\"verified_desc\":\"消费品行业研究达人\"},{\"verified_type\":\"6\",\"verified_desc\":\"雪球沪深实盘认证用户\"},{\"verified_type\":\"5\",\"verified_desc\":\"用户已完成实名身份认证\"}],\"followers_count\":13857},\"promotion\":false,\"answers\":null,\"view_count\":52588,\"created_at\":1568097105000,\"link_stock_desc\":null,\"link_stock_symbol\":null,\"strategy_id\":0,\"feedback\":null,\"tag\":null,\"card\":null,\"quote_cards\":null,\"source\":\"雪球\",\"retweeted_status\":null,\"like_count\":12,\"liked\":false,\"mode\":0,\"symbol_id\":null,\"score\":null,\"reply_user_images\":null,\"reply_user_count\":0,\"offer\":null,\"user_id\":8036696479,\"longTextForIOS\":false}',\n",
       "   'id': 20349192},\n",
       "  {'category': 0,\n",
       "   'column': '基金',\n",
       "   'data': '{\"id\":132611261,\"title\":\"如果牛市来了，散户应该买什么\",\"description\":\"先回顾一下刚入市时我买过些什么。2007年开户后，我第一笔交易买的是招行权证。原因是刚入市不知道买什么好，同事给我介绍说权证是T+0交易，而且没有涨跌幅限制，非常刺激。我在所有权证中找了一下，就招行权证比较面熟，自己股票账户绑定的就是招行的银行卡，然后就买了招行权证。后来买过振华港...\",\"target\":\"/1884493065/132611261\",\"reply_count\":31,\"retweet_count\":14,\"topic_title\":\"如果牛市来了，散户应该买什么\",\"topic_desc\":\"先回顾一下刚入市时我买过些什么。2007年开户后，我第一笔...\",\"topic_symbol\":null,\"topic_pic\":null,\"topic_pic_hd\":null,\"pic_type\":0,\"first_pic\":null,\"pic_size\":{\"width\":2,\"height\":1},\"pic\":\"\",\"pic_sizes\":[],\"cover_pic\":null,\"user\":{\"id\":1884493065,\"profile\":\"/1884493065\",\"description\":\"【公众号：你也会投资】 量化交易+指数基金+适当分散+机械执行=散户投资之道。你也会投资，专注指数基金量化投资。\",\"following\":false,\"screen_name\":\"宜昌白云飞\",\"profile_image_url\":\"community/20196/1562489436034-1562489436234.jpeg,community/20196/1562489436034-1562489436234.jpeg!180x180.png,community/20196/1562489436034-1562489436234.jpeg!50x50.png,community/20196/1562489436034-1562489436234.jpeg!30x30.png\",\"photo_domain\":\"http://xavatar.imedao.com/\",\"verified_infos\":[{\"verified_type\":\"5\",\"verified_desc\":\"用户已完成实名身份认证\"}],\"followers_count\":3357},\"promotion\":false,\"answers\":null,\"view_count\":137053,\"created_at\":1568097030000,\"link_stock_desc\":null,\"link_stock_symbol\":null,\"strategy_id\":0,\"feedback\":null,\"tag\":null,\"card\":null,\"quote_cards\":null,\"source\":\"雪球\",\"retweeted_status\":null,\"like_count\":17,\"liked\":false,\"mode\":0,\"symbol_id\":null,\"score\":null,\"reply_user_images\":null,\"reply_user_count\":0,\"offer\":null,\"user_id\":1884493065,\"longTextForIOS\":false}',\n",
       "   'id': 20349191},\n",
       "  {'category': 0,\n",
       "   'column': '沪深',\n",
       "   'data': '{\"id\":132610821,\"title\":\"新城目前这个价格值得你激动！\",\"description\":\"新城的双轮驱动模式，也即它的吾悦广场，这个商业模式为何是极其牛逼的极其赚钱的？ 吾悦广场的商业模式，完全复制万达商业，模式很简单，就是在一个城市里，低价拿到一大块土地，其中大部分开发成住宅立即卖掉，回流资金，另一部分，盖成商业广场，这部分资金沉淀了下来。但是这里面的关键是：别...\",\"target\":\"/1239962690/132610821\",\"reply_count\":21,\"retweet_count\":11,\"topic_title\":\"新城目前这个价格值得你激动！\",\"topic_desc\":\"新城的双轮驱动模式，也即它的吾悦广场，这个商业模式为何...\",\"topic_symbol\":null,\"topic_pic\":null,\"topic_pic_hd\":null,\"pic_type\":0,\"first_pic\":\"https://xqimg.imedao.com/16d19c9d56928f323fe509af.jpg!186x186.jpg\",\"pic_size\":{\"width\":2,\"height\":1},\"pic\":\"https://xqimg.imedao.com/16d19c9d56928f323fe509af.jpg!345x210.webp\",\"pic_sizes\":[{\"width\":474,\"height\":315}],\"cover_pic\":null,\"user\":{\"id\":1239962690,\"profile\":\"/1239962690\",\"description\":\"\",\"following\":false,\"screen_name\":\"巴图塔斯\",\"profile_image_url\":\"community/20185/1530073383019-1530073475124.jpg,community/20185/1530073383019-1530073475124.jpg!180x180.png,community/20185/1530073383019-1530073475124.jpg!50x50.png,community/20185/1530073383019-1530073475124.jpg!30x30.png\",\"photo_domain\":\"http://xavatar.imedao.com/\",\"verified_infos\":[],\"followers_count\":328},\"promotion\":false,\"answers\":null,\"view_count\":89077,\"created_at\":1568096717000,\"link_stock_desc\":null,\"link_stock_symbol\":null,\"strategy_id\":0,\"feedback\":null,\"tag\":null,\"card\":null,\"quote_cards\":null,\"source\":\"雪球\",\"retweeted_status\":null,\"like_count\":39,\"liked\":false,\"mode\":0,\"symbol_id\":null,\"score\":null,\"reply_user_images\":null,\"reply_user_count\":0,\"offer\":null,\"user_id\":1239962690,\"longTextForIOS\":false}',\n",
       "   'id': 20349189},\n",
       "  {'category': 0,\n",
       "   'column': '沪深',\n",
       "   'data': '{\"id\":132602025,\"title\":\"用友网络的启示，以及博思软件增值税退税问题研探\",\"description\":\"<a href=\\\\\"http://xueqiu.com/n/今日话题\\\\\" target=\\\\\"_blank\\\\\">@今日话题</a> <a href=\\\\\"http://xueqiu.com/S/SH600588\\\\\" target=\\\\\"_blank\\\\\">$用友网络(SH600588)$</a> <a href=\\\\\"http://xueqiu.com/S/SZ002279\\\\\" target=\\\\\"_blank\\\\\">$久其软件(SZ002279)$</a> <a href=\\\\\"http://xueqiu.com/S/SZ300525\\\\\" target=\\\\\"_blank\\\\\">$博思软件(SZ300525)$</a> 在上一期文章中，我们探讨了用友网络（600588.SH）的估值问题。然而，我们并没有聊尽兴，因为用友网络给我们的启示还有更多。甚至可以这样说，这个启示可能有助于我们更进一步研判软件行业上市公司。欲知详情，请各位...\",\"target\":\"/9329772913/132602025\",\"reply_count\":1,\"retweet_count\":4,\"topic_title\":\"用友网络的启示，以及博思软件增值税退税问题研探\",\"topic_desc\":\"<a href=\\\\\"http://xueqiu.com/n/今日话题\\\\\"  target=\\\\\"_blank\\\\\">@今日话题</a> <a href=\\\\\"http://xueqiu.com/S/SH600588\\\\\"   target=\\\\\"_blank\\\\\">$用友网络(SH600588)$</a> <a href=\\\\\"http://xueqiu.com/S/SZ002279\\\\\"   target=\\\\\"_blank\\\\\">$久其软件(SZ002279)$</a> $博...\",\"topic_symbol\":null,\"topic_pic\":null,\"topic_pic_hd\":null,\"pic_type\":0,\"first_pic\":\"https://xqimg.imedao.com/16d1956798f28c2c3fe23b75.png!186x186.jpg\",\"pic_size\":{\"width\":2,\"height\":1},\"pic\":\"\",\"pic_sizes\":[{\"width\":884,\"height\":117}],\"cover_pic\":null,\"user\":{\"id\":9329772913,\"profile\":\"/9329772913\",\"description\":\"中和明略创始人，微信公众号“资本名侦探”。原《证券市场周刊》、《新京报·上市公司周刊》记者。代表作品：“三聚环保百亿合同之谜”、“和邦生物碳纤维危局”、“众和:中国最大在产锂矿卡壳记”、“我可以赞同代理记账业务是蓝海，但对神州易桥有疑虑”等多篇文章，为交易所等监管层所关注。\",\"following\":false,\"screen_name\":\"孙旭龙\",\"profile_image_url\":\"community/201710/1510491230930-1510491250975.jpg,community/201710/1510491230930-1510491250975.jpg!180x180.png,community/201710/1510491230930-1510491250975.jpg!50x50.png,community/201710/1510491230930-1510491250975.jpg!30x30.png\",\"photo_domain\":\"http://xavatar.imedao.com/\",\"verified_infos\":[{\"verified_type\":\"1\",\"verified_desc\":\"北京中和明略管理咨询有限公司创始人 孙旭龙\"},{\"verified_type\":\"3\",\"verified_desc\":\"资深财务分析达人\"}],\"followers_count\":20068},\"promotion\":false,\"answers\":null,\"view_count\":47602,\"created_at\":1568088260000,\"link_stock_desc\":null,\"link_stock_symbol\":null,\"strategy_id\":0,\"feedback\":null,\"tag\":null,\"card\":null,\"quote_cards\":null,\"source\":\"雪球\",\"retweeted_status\":null,\"like_count\":4,\"liked\":false,\"mode\":0,\"symbol_id\":null,\"score\":null,\"reply_user_images\":null,\"reply_user_count\":0,\"offer\":null,\"user_id\":9329772913,\"longTextForIOS\":false}',\n",
       "   'id': 20349188},\n",
       "  {'category': 0,\n",
       "   'column': '沪深',\n",
       "   'data': '{\"id\":132609748,\"title\":\"列举中国各方面的国际排名，做多中国，我们真的是因为坚信价值！\",\"description\":\"想要获得更多信息，欢迎公众号订阅基本面馆 <a href=\\\\\"http://xueqiu.com/k?q=%23%E5%81%9A%E5%A4%9A%E4%B8%AD%E5%9B%BD%23\\\\\" target=\\\\\"_blank\\\\\">#做多中国#</a> 坚信价值 做多中国！ 眼瞅着新中国70周年的生日就要到了，各种历数祖国发展成就的文章也多了起来。 感慨于身边日新月异的高速发展，做多中国成为市场上普遍的共识。 而且不仅仅是国人看好自己的国家，老外们也对中国表达出极强的投资热情。...\",\"target\":\"/8180476419/132609748\",\"reply_count\":3,\"retweet_count\":1,\"topic_title\":\"列举中国各方面的国际排名，做多中国，我们真的是因为坚信价值！\",\"topic_desc\":\"想要获得更多信息，欢迎公众号订阅基本面馆 <a href=\\\\\"http://xueqiu.com/k?q=%E5%81%9A%E5%A4%9A%E4%B8%AD%E5%9B%BD\\\\\"  target=\\\\\"_blank\\\\\">#做多中国#</a> 坚...\",\"topic_symbol\":null,\"topic_pic\":null,\"topic_pic_hd\":null,\"pic_type\":0,\"first_pic\":\"https://xqimg.imedao.com/16d19bdcbda28ecf3fef48a5.png!186x186.jpg\",\"pic_size\":{\"width\":2,\"height\":1},\"pic\":\"https://xqimg.imedao.com/16d19bdcbda28ecf3fef48a5.png!345x210.webp,https://xqimg.imedao.com/16d19bdcc69291183fd1294f.png!345x210.webp,https://xqimg.imedao.com/16d19bdcbd728f4b3fd471ad.png!345x210.webp,https://xqimg.imedao.com/16d19bdcc1928ede3fe731cd.png!345x210.webp,https://xqimg.imedao.com/16d19bdce6528f4c3fee66ae.png!345x210.webp,https://xqimg.imedao.com/16d19bdcf8a28ee03feb46c4.png!345x210.webp,https://xqimg.imedao.com/16d19bdcfee28f273fc0913f.png!345x210.webp,https://xqimg.imedao.com/16d19bdcf5028edf3fd1d4ae.png!345x210.webp,https://xqimg.imedao.com/16d19bdcfe9291173fea11c4.png!345x210.webp,https://xqimg.imedao.com/16d19bdd12728ed03fe5b49d.png!345x210.webp,https://xqimg.imedao.com/16d19bdd6e228ed23fec10e5.png!345x210.webp,https://xqimg.imedao.com/16d19bdd34628f283fea1238.png!345x210.webp,https://xqimg.imedao.com/16d19bdd39c28f293fec43a5.png!345x210.webp,https://xqimg.imedao.com/16d19bdd38128ee23fe37778.png!345x210.webp,https://xqimg.imedao.com/16d19bdd40c28f4e3fecbd6a.png!345x210.webp,https://xqimg.imedao.com/16d19bdd58928ed13fd45d03.png!345x210.webp,https://xqimg.imedao.com/16d19bdd63228f2a3feff85a.png!345x210.webp,https://xqimg.imedao.com/16d19bdd6a828ee33fd58809.png!345x210.webp,https://xqimg.imedao.com/16d19bdd6bb291193fe12ee6.png!345x210.webp,https://xqimg.imedao.com/16d19bdd89528ee43fbcb2ec.png!345x210.webp,https://xqimg.imedao.com/16d19bddab5291183fe7087a.png!345x210.webp,https://xqimg.imedao.com/16d19bdd9022911a3fe85e38.png!345x210.webp,https://xqimg.imedao.com/16d19bdd91928ed33fd5aef9.png!345x210.webp,https://xqimg.imedao.com/16d19bdd9a528f2b3fb8da09.png!345x210.webp,https://xqimg.imedao.com/16d19bddb3b28f2c3fda7412.png!345x210.webp\",\"pic_sizes\":[{\"width\":554,\"height\":298},{\"width\":554,\"height\":315},{\"width\":554,\"height\":512},{\"width\":554,\"height\":574},{\"width\":554,\"height\":336},{\"width\":554,\"height\":530},{\"width\":528,\"height\":526},{\"width\":554,\"height\":267},{\"width\":554,\"height\":457},{\"width\":554,\"height\":326},{\"width\":554,\"height\":186},{\"width\":314,\"height\":411},{\"width\":369,\"height\":843},{\"width\":554,\"height\":393},{\"width\":521,\"height\":386},{\"width\":554,\"height\":383},{\"width\":356,\"height\":423},{\"width\":360,\"height\":427},{\"width\":382,\"height\":454},{\"width\":379,\"height\":449},{\"width\":554,\"height\":427},{\"width\":554,\"height\":496},{\"width\":554,\"height\":517},{\"width\":554,\"height\":506},{\"width\":554,\"height\":543}],\"cover_pic\":null,\"user\":{\"id\":8180476419,\"profile\":\"/jibenmianguan\",\"description\":\"投资不看基本面，不如关灯吃泡面！\\\\n关注同名公众号，谨防走丢！\",\"following\":false,\"screen_name\":\"基本面馆\",\"profile_image_url\":\"community/20196/1563523862779-1563523866230.png,community/20196/1563523862779-1563523866230.png!180x180.png,community/20196/1563523862779-1563523866230.png!50x50.png,community/20196/1563523862779-1563523866230.png!30x30.png\",\"photo_domain\":\"http://xavatar.imedao.com/\",\"verified_infos\":[{\"verified_type\":\"5\",\"verified_desc\":\"用户已完成实名身份认证\"}],\"followers_count\":271},\"promotion\":false,\"answers\":null,\"view_count\":50241,\"created_at\":1568095980000,\"link_stock_desc\":null,\"link_stock_symbol\":null,\"strategy_id\":0,\"feedback\":null,\"tag\":null,\"card\":null,\"quote_cards\":null,\"source\":\"雪球\",\"retweeted_status\":null,\"like_count\":1,\"liked\":false,\"mode\":0,\"symbol_id\":null,\"score\":null,\"reply_user_images\":null,\"reply_user_count\":0,\"offer\":null,\"user_id\":8180476419,\"longTextForIOS\":false}',\n",
       "   'id': 20349187}],\n",
       " 'next_id': 20349186,\n",
       " 'next_max_id': 20349187,\n",
       " 'tip': None}"
      ]
     },
     "execution_count": 35,
     "metadata": {},
     "output_type": "execute_result"
    }
   ],
   "source": [
    "#创建session对象\n",
    "session = requests.Session()\n",
    "session.get('https://xueqiu.com',headers=headers)\n",
    "\n",
    "url = 'https://xueqiu.com/v4/statuses/public_timeline_by_category.json?since_id=-1&max_id=20349203&count=15&category=-1'\n",
    "page_text = session.get(url=url,headers=headers).json()\n",
    "page_text"
   ]
  },
  {
   "cell_type": "markdown",
   "metadata": {},
   "source": [
    "- 验证码的识别\n",
    "    - 超级鹰：http://www.chaojiying.com/about.html\n",
    "        - 注册：（用户中心身份）\n",
    "        - 登陆：\n",
    "            - 创建一个软件：899370\n",
    "            - 下载示例代码\n",
    "    - 打码兔\n",
    "    - 云打码"
   ]
  },
  {
   "cell_type": "code",
   "execution_count": 39,
   "metadata": {},
   "outputs": [],
   "source": [
    "import requests\n",
    "from hashlib import md5\n",
    "\n",
    "class Chaojiying_Client(object):\n",
    "\n",
    "    def __init__(self, username, password, soft_id):\n",
    "        self.username = username\n",
    "        password =  password.encode('utf8')\n",
    "        self.password = md5(password).hexdigest()\n",
    "        self.soft_id = soft_id\n",
    "        self.base_params = {\n",
    "            'user': self.username,\n",
    "            'pass2': self.password,\n",
    "            'softid': self.soft_id,\n",
    "        }\n",
    "        self.headers = {\n",
    "            'Connection': 'Keep-Alive',\n",
    "            'User-Agent': 'Mozilla/4.0 (compatible; MSIE 8.0; Windows NT 5.1; Trident/4.0)',\n",
    "        }\n",
    "\n",
    "    def PostPic(self, im, codetype):\n",
    "        \"\"\"\n",
    "        im: 图片字节\n",
    "        codetype: 题目类型 参考 http://www.chaojiying.com/price.html\n",
    "        \"\"\"\n",
    "        params = {\n",
    "            'codetype': codetype,\n",
    "        }\n",
    "        params.update(self.base_params)\n",
    "        files = {'userfile': ('ccc.jpg', im)}\n",
    "        r = requests.post('http://upload.chaojiying.net/Upload/Processing.php', data=params, files=files, headers=self.headers)\n",
    "        return r.json()\n",
    "\n",
    "    def ReportError(self, im_id):\n",
    "        \"\"\"\n",
    "        im_id:报错题目的图片ID\n",
    "        \"\"\"\n",
    "        params = {\n",
    "            'id': im_id,\n",
    "        }\n",
    "        params.update(self.base_params)\n",
    "        r = requests.post('http://upload.chaojiying.net/Upload/ReportError.php', data=params, headers=self.headers)\n",
    "        return r.json()"
   ]
  },
  {
   "cell_type": "code",
   "execution_count": 41,
   "metadata": {},
   "outputs": [
    {
     "data": {
      "text/plain": [
       "'qh39'"
      ]
     },
     "execution_count": 41,
     "metadata": {},
     "output_type": "execute_result"
    }
   ],
   "source": [
    "#识别古诗文网中的验证码\n",
    "def tranformImgData(imgPath,t_type):\n",
    "    chaojiying = Chaojiying_Client('bobo328410948', 'bobo328410948', '899370')\n",
    "    im = open(imgPath, 'rb').read()\n",
    "    return chaojiying.PostPic(im, t_type)['pic_str']\n",
    "\n",
    "url = 'https://so.gushiwen.org/user/login.aspx?from=http://so.gushiwen.org/user/collect.aspx'\n",
    "page_text = requests.get(url,headers=headers).text\n",
    "tree = etree.HTML(page_text)\n",
    "img_src = 'https://so.gushiwen.org'+tree.xpath('//*[@id=\"imgCode\"]/@src')[0]\n",
    "img_data = requests.get(img_src,headers=headers).content\n",
    "with open('./code.jpg','wb') as fp:\n",
    "    fp.write(img_data)\n",
    "    \n",
    "tranformImgData('./code.jpg',1004)"
   ]
  },
  {
   "cell_type": "code",
   "execution_count": 45,
   "metadata": {},
   "outputs": [
    {
     "name": "stdout",
     "output_type": "stream",
     "text": [
      "hhsl\n"
     ]
    }
   ],
   "source": [
    "#模拟登陆\n",
    "s = requests.Session()\n",
    "url = 'https://so.gushiwen.org/user/login.aspx?from=http://so.gushiwen.org/user/collect.aspx'\n",
    "page_text = s.get(url,headers=headers).text\n",
    "tree = etree.HTML(page_text)\n",
    "img_src = 'https://so.gushiwen.org'+tree.xpath('//*[@id=\"imgCode\"]/@src')[0]\n",
    "img_data = s.get(img_src,headers=headers).content\n",
    "with open('./code.jpg','wb') as fp:\n",
    "    fp.write(img_data)\n",
    "    \n",
    "#动态获取变化的请求参数\n",
    "__VIEWSTATE = tree.xpath('//*[@id=\"__VIEWSTATE\"]/@value')[0]\n",
    "__VIEWSTATEGENERATOR = tree.xpath('//*[@id=\"__VIEWSTATEGENERATOR\"]/@value')[0]\n",
    "    \n",
    "code_text = tranformImgData('./code.jpg',1004)\n",
    "print(code_text)\n",
    "login_url = 'https://so.gushiwen.org/user/login.aspx?from=http%3a%2f%2fso.gushiwen.org%2fuser%2fcollect.aspx'\n",
    "data = {\n",
    "    '__VIEWSTATE': __VIEWSTATE,\n",
    "    '__VIEWSTATEGENERATOR': __VIEWSTATEGENERATOR,\n",
    "    'from':'http://so.gushiwen.org/user/collect.aspx',\n",
    "    'email': 'www.zhangbowudi@qq.com',\n",
    "    'pwd': 'bobo328410948',\n",
    "    'code': code_text,\n",
    "    'denglu': '登录',\n",
    "}\n",
    "page_text = s.post(url=login_url,headers=headers,data=data).text\n",
    "with open('login.html','w',encoding='utf-8') as fp:\n",
    "    fp.write(page_text)"
   ]
  },
  {
   "cell_type": "markdown",
   "metadata": {},
   "source": [
    "- 动态变化的请求参数\n",
    "    - 通常情况下动态变化的请求参数都会被隐藏在前台页面源码中"
   ]
  },
  {
   "cell_type": "code",
   "execution_count": 6,
   "metadata": {},
   "outputs": [],
   "source": [
    "from time import sleep\n",
    "import time"
   ]
  },
  {
   "cell_type": "code",
   "execution_count": 7,
   "metadata": {},
   "outputs": [
    {
     "name": "stdout",
     "output_type": "stream",
     "text": [
      "Hello jayHello bobo\n",
      "\n",
      "总耗时： 2.0196006298065186\n"
     ]
    }
   ],
   "source": [
    "from multiprocessing.dummy import Pool\n",
    "start = time.time()\n",
    "urls = [\n",
    "    'http://127.0.0.1:5000/bobo',\n",
    "    'http://127.0.0.1:5000/jay'\n",
    "]\n",
    "def get_request(url):\n",
    "    page_text = requests.get(url).text\n",
    "    print(page_text)\n",
    "pool = Pool(3)\n",
    "pool.map(get_request,urls)\n",
    "\n",
    "print('总耗时：',time.time()-start)"
   ]
  },
  {
   "cell_type": "code",
   "execution_count": 5,
   "metadata": {},
   "outputs": [
    {
     "name": "stderr",
     "output_type": "stream",
     "text": [
      " * Running on http://127.0.0.1:5000/ (Press CTRL+C to quit)\n",
      "127.0.0.1 - - [11/Sep/2019 11:35:03] \"GET /index HTTP/1.1\" 200 -\n",
      "127.0.0.1 - - [11/Sep/2019 11:35:05] \"GET /index1 HTTP/1.1\" 200 -\n",
      "127.0.0.1 - - [11/Sep/2019 12:07:02] \"GET /index HTTP/1.1\" 200 -\n",
      "127.0.0.1 - - [11/Sep/2019 12:07:02] \"GET / HTTP/1.1\" 404 -\n",
      "127.0.0.1 - - [11/Sep/2019 12:11:18] \"GET /index HTTP/1.1\" 200 -\n",
      "127.0.0.1 - - [11/Sep/2019 12:11:20] \"GET /index1 HTTP/1.1\" 200 -\n",
      "127.0.0.1 - - [11/Sep/2019 12:21:46] \"GET /index HTTP/1.1\" 200 -\n",
      "127.0.0.1 - - [11/Sep/2019 12:21:48] \"GET /index1 HTTP/1.1\" 200 -\n"
     ]
    }
   ],
   "source": [
    "from flask import Flask\n",
    "from time import sleep\n",
    "app = Flask(__name__)\n",
    "@app.route('/index')\n",
    "def index():\n",
    "    sleep(2)\n",
    "    return 'hello'\n",
    "@app.route('/index1')\n",
    "def index1():\n",
    "    sleep(2)\n",
    "    return 'hello1'\n",
    "if __name__ == '__main__':\n",
    "    app.run()"
   ]
  },
  {
   "cell_type": "code",
   "execution_count": 3,
   "metadata": {},
   "outputs": [],
   "source": [
    "import requests"
   ]
  },
  {
   "cell_type": "code",
   "execution_count": null,
   "metadata": {},
   "outputs": [],
   "source": [
    "from multiprocessing.dummy import Pool\n",
    "start = time.time()\n",
    "urls = [\n",
    "    'http://localhost:5000/index',\n",
    "     'http://localhost:5000/index',\n",
    "     'http://localhost:5000/index',\n",
    "    \n",
    "]\n",
    "def get_request(url):\n",
    "    \n",
    "pool = Pool(3)\n",
    "pool.map(get_request,urls)\n",
    "\n",
    "print('总耗时：',time.time()-start)"
   ]
  },
  {
   "cell_type": "code",
   "execution_count": null,
   "metadata": {},
   "outputs": [],
   "source": []
  },
  {
   "cell_type": "code",
   "execution_count": null,
   "metadata": {},
   "outputs": [],
   "source": []
  },
  {
   "cell_type": "markdown",
   "metadata": {},
   "source": [
    "### 单线程+多任务异步协程\n",
    "- 协程\n",
    "    - 在函数（特殊的函数）定义的时候，如果使用了async修饰的话，则改函数调用后会返回一个协程对象，并且函数内部的实现语句不会被立即执行\n",
    "- 任务对象\n",
    "    - 任务对象就是对协程对象的进一步封装。任务对象==高级的协程对象==特殊的函数\n",
    "    - 任务对象时必须要注册到事件循环对象中\n",
    "    - 给任务对象绑定回调：爬虫的数据解析中\n",
    "- 事件循环\n",
    "    - 当做是一个容器，容器中必须存放任务对象。\n",
    "    - 当启动事件循环对象后，则事件循环对象会对其内部存储任务对象进行异步的执行。\n",
    "- aiohttp:支持异步网络请求的模块"
   ]
  },
  {
   "cell_type": "code",
   "execution_count": null,
   "metadata": {},
   "outputs": [],
   "source": []
  }
 ],
 "metadata": {
  "kernelspec": {
   "display_name": "Python 3",
   "language": "python",
   "name": "python3"
  },
  "language_info": {
   "codemirror_mode": {
    "name": "ipython",
    "version": 3
   },
   "file_extension": ".py",
   "mimetype": "text/x-python",
   "name": "python",
   "nbconvert_exporter": "python",
   "pygments_lexer": "ipython3",
   "version": "3.6.4"
  }
 },
 "nbformat": 4,
 "nbformat_minor": 2
}
