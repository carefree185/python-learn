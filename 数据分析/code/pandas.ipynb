{
 "cells": [
  {
   "cell_type": "code",
   "execution_count": 3,
   "metadata": {
    "collapsed": true
   },
   "outputs": [
    {
     "name": "stdout",
     "output_type": "stream",
     "text": [
      "0    1\n",
      "1    2\n",
      "2    3\n",
      "3    4\n",
      "4    5\n",
      "dtype: int64\n"
     ]
    },
    {
     "ename": "Exception",
     "evalue": "Data must be 1-dimensional",
     "output_type": "error",
     "traceback": [
      "\u001B[1;31m---------------------------------------------------------------------------\u001B[0m",
      "\u001B[1;31mException\u001B[0m                                 Traceback (most recent call last)",
      "\u001B[1;32m<ipython-input-3-0153613b9a19>\u001B[0m in \u001B[0;36m<module>\u001B[1;34m\u001B[0m\n\u001B[0;32m      5\u001B[0m \u001B[0mprint\u001B[0m\u001B[1;33m(\u001B[0m\u001B[0ms\u001B[0m\u001B[1;33m)\u001B[0m\u001B[1;33m\u001B[0m\u001B[1;33m\u001B[0m\u001B[0m\n\u001B[0;32m      6\u001B[0m \u001B[1;33m\u001B[0m\u001B[0m\n\u001B[1;32m----> 7\u001B[1;33m \u001B[0ms\u001B[0m \u001B[1;33m=\u001B[0m \u001B[0mpd\u001B[0m\u001B[1;33m.\u001B[0m\u001B[0mSeries\u001B[0m\u001B[1;33m(\u001B[0m\u001B[0mdata\u001B[0m\u001B[1;33m=\u001B[0m\u001B[0mnp\u001B[0m\u001B[1;33m.\u001B[0m\u001B[0marange\u001B[0m\u001B[1;33m(\u001B[0m\u001B[1;36m0\u001B[0m\u001B[1;33m,\u001B[0m\u001B[1;36m10\u001B[0m\u001B[1;33m)\u001B[0m\u001B[1;33m.\u001B[0m\u001B[0mreshape\u001B[0m\u001B[1;33m(\u001B[0m\u001B[1;33m(\u001B[0m\u001B[1;36m2\u001B[0m\u001B[1;33m,\u001B[0m\u001B[1;36m5\u001B[0m\u001B[1;33m)\u001B[0m\u001B[1;33m)\u001B[0m\u001B[1;33m)\u001B[0m\u001B[1;33m\u001B[0m\u001B[1;33m\u001B[0m\u001B[0m\n\u001B[0m\u001B[0;32m      8\u001B[0m \u001B[0mprint\u001B[0m\u001B[1;33m(\u001B[0m\u001B[0ms\u001B[0m\u001B[1;33m)\u001B[0m\u001B[1;33m\u001B[0m\u001B[1;33m\u001B[0m\u001B[0m\n",
      "\u001B[1;32mc:\\programdata\\anaconda3\\envs\\3.6\\lib\\site-packages\\pandas\\core\\series.py\u001B[0m in \u001B[0;36m__init__\u001B[1;34m(self, data, index, dtype, name, copy, fastpath)\u001B[0m\n\u001B[0;32m    325\u001B[0m                     \u001B[0mdata\u001B[0m \u001B[1;33m=\u001B[0m \u001B[0mdata\u001B[0m\u001B[1;33m.\u001B[0m\u001B[0mcopy\u001B[0m\u001B[1;33m(\u001B[0m\u001B[1;33m)\u001B[0m\u001B[1;33m\u001B[0m\u001B[1;33m\u001B[0m\u001B[0m\n\u001B[0;32m    326\u001B[0m             \u001B[1;32melse\u001B[0m\u001B[1;33m:\u001B[0m\u001B[1;33m\u001B[0m\u001B[1;33m\u001B[0m\u001B[0m\n\u001B[1;32m--> 327\u001B[1;33m                 \u001B[0mdata\u001B[0m \u001B[1;33m=\u001B[0m \u001B[0msanitize_array\u001B[0m\u001B[1;33m(\u001B[0m\u001B[0mdata\u001B[0m\u001B[1;33m,\u001B[0m \u001B[0mindex\u001B[0m\u001B[1;33m,\u001B[0m \u001B[0mdtype\u001B[0m\u001B[1;33m,\u001B[0m \u001B[0mcopy\u001B[0m\u001B[1;33m,\u001B[0m \u001B[0mraise_cast_failure\u001B[0m\u001B[1;33m=\u001B[0m\u001B[1;32mTrue\u001B[0m\u001B[1;33m)\u001B[0m\u001B[1;33m\u001B[0m\u001B[1;33m\u001B[0m\u001B[0m\n\u001B[0m\u001B[0;32m    328\u001B[0m \u001B[1;33m\u001B[0m\u001B[0m\n\u001B[0;32m    329\u001B[0m                 \u001B[0mdata\u001B[0m \u001B[1;33m=\u001B[0m \u001B[0mSingleBlockManager\u001B[0m\u001B[1;33m.\u001B[0m\u001B[0mfrom_array\u001B[0m\u001B[1;33m(\u001B[0m\u001B[0mdata\u001B[0m\u001B[1;33m,\u001B[0m \u001B[0mindex\u001B[0m\u001B[1;33m)\u001B[0m\u001B[1;33m\u001B[0m\u001B[1;33m\u001B[0m\u001B[0m\n",
      "\u001B[1;32mc:\\programdata\\anaconda3\\envs\\3.6\\lib\\site-packages\\pandas\\core\\construction.py\u001B[0m in \u001B[0;36msanitize_array\u001B[1;34m(data, index, dtype, copy, raise_cast_failure)\u001B[0m\n\u001B[0;32m    494\u001B[0m     \u001B[1;32melif\u001B[0m \u001B[0msubarr\u001B[0m\u001B[1;33m.\u001B[0m\u001B[0mndim\u001B[0m \u001B[1;33m>\u001B[0m \u001B[1;36m1\u001B[0m\u001B[1;33m:\u001B[0m\u001B[1;33m\u001B[0m\u001B[1;33m\u001B[0m\u001B[0m\n\u001B[0;32m    495\u001B[0m         \u001B[1;32mif\u001B[0m \u001B[0misinstance\u001B[0m\u001B[1;33m(\u001B[0m\u001B[0mdata\u001B[0m\u001B[1;33m,\u001B[0m \u001B[0mnp\u001B[0m\u001B[1;33m.\u001B[0m\u001B[0mndarray\u001B[0m\u001B[1;33m)\u001B[0m\u001B[1;33m:\u001B[0m\u001B[1;33m\u001B[0m\u001B[1;33m\u001B[0m\u001B[0m\n\u001B[1;32m--> 496\u001B[1;33m             \u001B[1;32mraise\u001B[0m \u001B[0mException\u001B[0m\u001B[1;33m(\u001B[0m\u001B[1;34m\"Data must be 1-dimensional\"\u001B[0m\u001B[1;33m)\u001B[0m\u001B[1;33m\u001B[0m\u001B[1;33m\u001B[0m\u001B[0m\n\u001B[0m\u001B[0;32m    497\u001B[0m         \u001B[1;32melse\u001B[0m\u001B[1;33m:\u001B[0m\u001B[1;33m\u001B[0m\u001B[1;33m\u001B[0m\u001B[0m\n\u001B[0;32m    498\u001B[0m             \u001B[0msubarr\u001B[0m \u001B[1;33m=\u001B[0m \u001B[0mcom\u001B[0m\u001B[1;33m.\u001B[0m\u001B[0masarray_tuplesafe\u001B[0m\u001B[1;33m(\u001B[0m\u001B[0mdata\u001B[0m\u001B[1;33m,\u001B[0m \u001B[0mdtype\u001B[0m\u001B[1;33m=\u001B[0m\u001B[0mdtype\u001B[0m\u001B[1;33m)\u001B[0m\u001B[1;33m\u001B[0m\u001B[1;33m\u001B[0m\u001B[0m\n",
      "\u001B[1;31mException\u001B[0m: Data must be 1-dimensional"
     ]
    }
   ],
   "source": [
    "import pandas as pd\n",
    "import numpy as np\n",
    "\n",
    "s = pd.Series(data=[1,2,3,4,5])\n",
    "print(s)\n",
    "\n",
    "# s = pd.Series(data=np.arange(0,10).reshape((2,5)))  # Series只能保存一维数组\n",
    "# print(s)"
   ]
  },
  {
   "cell_type": "code",
   "execution_count": 4,
   "outputs": [
    {
     "name": "stdout",
     "output_type": "stream",
     "text": [
      "a    1\n",
      "b    2\n",
      "c    3\n",
      "dtype: int64\n"
     ]
    }
   ],
   "source": [
    "import pandas as pd\n",
    "import numpy as np\n",
    "\n",
    "s = pd.Series(data=[1,2,3], index=[\"a\", \"b\", \"c\"])\n",
    "print(s)"
   ],
   "metadata": {
    "collapsed": false,
    "pycharm": {
     "name": "#%%\n"
    }
   }
  },
  {
   "cell_type": "code",
   "execution_count": 7,
   "outputs": [
    {
     "name": "stdout",
     "output_type": "stream",
     "text": [
      "2\n",
      "1\n",
      "a    1\n",
      "b    2\n",
      "c    3\n",
      "dtype: int64\n",
      "a    1\n",
      "b    2\n",
      "c    3\n",
      "d    4\n",
      "dtype: int64\n"
     ]
    }
   ],
   "source": [
    "import pandas as pd\n",
    "import numpy as np\n",
    "\n",
    "s = pd.Series(data=[1,2,3,4,5], index=[\"a\", \"b\", \"c\", \"d\", \"e\"])\n",
    "print(s[1])  # 隐式索引取值\n",
    "print(s.loc[\"a\"])  #显示索引取值\n",
    "\n",
    "print(s[0:3])\n",
    "print(s['a':'d'])"
   ],
   "metadata": {
    "collapsed": false,
    "pycharm": {
     "name": "#%%\n"
    }
   }
  },
  {
   "cell_type": "code",
   "execution_count": 8,
   "outputs": [
    {
     "name": "stdout",
     "output_type": "stream",
     "text": [
      "a    1\n",
      "b    2\n",
      "c    3\n",
      "dtype: int64\n",
      "d    4\n",
      "e    5\n",
      "dtype: int64\n"
     ]
    }
   ],
   "source": [
    "import pandas as pd\n",
    "import numpy as np\n",
    "\n",
    "s = pd.Series(data=[1,2,3,4,5], index=[\"a\", \"b\", \"c\", \"d\", \"e\"])\n",
    "\n",
    "print(s.head(3))\n",
    "print(s.tail(2))"
   ],
   "metadata": {
    "collapsed": false,
    "pycharm": {
     "name": "#%%\n"
    }
   }
  },
  {
   "cell_type": "code",
   "execution_count": 9,
   "outputs": [
    {
     "data": {
      "text/plain": "array([ 1,  2,  3,  4,  5,  8,  9, 10], dtype=int64)"
     },
     "execution_count": 9,
     "metadata": {},
     "output_type": "execute_result"
    }
   ],
   "source": [
    "import pandas as pd\n",
    "import numpy as np\n",
    "\n",
    "s = pd.Series(data=[1,1,2,2,3,4,5,8, 8, 9,10,2])\n",
    "s.unique()  # 去重"
   ],
   "metadata": {
    "collapsed": false,
    "pycharm": {
     "name": "#%%\n"
    }
   }
  },
  {
   "cell_type": "code",
   "execution_count": 13,
   "outputs": [
    {
     "data": {
      "text/plain": "a     2.0\nb     4.0\nd     8.0\ne    10.0\ndtype: float64"
     },
     "execution_count": 13,
     "metadata": {},
     "output_type": "execute_result"
    }
   ],
   "source": [
    "import pandas as pd\n",
    "import numpy as np\n",
    "\n",
    "s1 = pd.Series(data=[1,2,3,4,5], index=[\"a\", \"b\", \"c\", \"d\", \"e\"])\n",
    "s2 = pd.Series(data=[1,2,3,4,5], index=[\"a\", \"b\", \"f\", \"d\", \"e\"])\n",
    "\n",
    "s = s1+s2\n",
    "# series支持掩码取值，取出索引位置对应为True值\n",
    "s[s.notna()]"
   ],
   "metadata": {
    "collapsed": false,
    "pycharm": {
     "name": "#%%\n"
    }
   }
  },
  {
   "cell_type": "code",
   "execution_count": 14,
   "outputs": [
    {
     "data": {
      "text/plain": "    A   B   C   D\na  73  86  79  75\nb  86  99  31  63\nc   2  73  61  98",
      "text/html": "<div>\n<style scoped>\n    .dataframe tbody tr th:only-of-type {\n        vertical-align: middle;\n    }\n\n    .dataframe tbody tr th {\n        vertical-align: top;\n    }\n\n    .dataframe thead th {\n        text-align: right;\n    }\n</style>\n<table border=\"1\" class=\"dataframe\">\n  <thead>\n    <tr style=\"text-align: right;\">\n      <th></th>\n      <th>A</th>\n      <th>B</th>\n      <th>C</th>\n      <th>D</th>\n    </tr>\n  </thead>\n  <tbody>\n    <tr>\n      <th>a</th>\n      <td>73</td>\n      <td>86</td>\n      <td>79</td>\n      <td>75</td>\n    </tr>\n    <tr>\n      <th>b</th>\n      <td>86</td>\n      <td>99</td>\n      <td>31</td>\n      <td>63</td>\n    </tr>\n    <tr>\n      <th>c</th>\n      <td>2</td>\n      <td>73</td>\n      <td>61</td>\n      <td>98</td>\n    </tr>\n  </tbody>\n</table>\n</div>"
     },
     "execution_count": 14,
     "metadata": {},
     "output_type": "execute_result"
    }
   ],
   "source": [
    "import pandas as pd\n",
    "import numpy as np\n",
    "\n",
    "df = pd.DataFrame(data=np.random.randint(0, 100, size=(3,4)), index=['a', 'b', 'c'], columns=['A','B','C','D'])\n",
    "df"
   ],
   "metadata": {
    "collapsed": false,
    "pycharm": {
     "name": "#%%\n"
    }
   }
  },
  {
   "cell_type": "code",
   "execution_count": 16,
   "outputs": [
    {
     "name": "stdout",
     "output_type": "stream",
     "text": [
      "[[1 2 3 4]\n",
      " [2 3 4 5]\n",
      " [3 4 5 6]\n",
      " [4 5 6 7]]\n",
      "Index(['A', 'B', 'C', 'D'], dtype='object')\n",
      "Index(['a', 'b', 'c', 'd'], dtype='object')\n",
      "(4, 4)\n",
      "16\n"
     ]
    }
   ],
   "source": [
    "import pandas as pd\n",
    "\n",
    "dic = {\"A\": [1,2,3,4],\n",
    "       \"B\": [2,3,4,5],\n",
    "       \"C\": [3,4,5,6],\n",
    "       \"D\": [4,5,6,7]\n",
    "       }\n",
    "\n",
    "df = pd.DataFrame(data=dic, index=['a', 'b', 'c', 'd'])\n",
    "print(df.values)\n",
    "print(df.columns)\n",
    "print(df.index)\n",
    "print(df.shape)\n",
    "print(df.size)"
   ],
   "metadata": {
    "collapsed": false,
    "pycharm": {
     "name": "#%%\n"
    }
   }
  },
  {
   "cell_type": "code",
   "execution_count": 29,
   "outputs": [
    {
     "data": {
      "text/plain": "   A\na  1\nb  2\nc  3\nd  4",
      "text/html": "<div>\n<style scoped>\n    .dataframe tbody tr th:only-of-type {\n        vertical-align: middle;\n    }\n\n    .dataframe tbody tr th {\n        vertical-align: top;\n    }\n\n    .dataframe thead th {\n        text-align: right;\n    }\n</style>\n<table border=\"1\" class=\"dataframe\">\n  <thead>\n    <tr style=\"text-align: right;\">\n      <th></th>\n      <th>A</th>\n    </tr>\n  </thead>\n  <tbody>\n    <tr>\n      <th>a</th>\n      <td>1</td>\n    </tr>\n    <tr>\n      <th>b</th>\n      <td>2</td>\n    </tr>\n    <tr>\n      <th>c</th>\n      <td>3</td>\n    </tr>\n    <tr>\n      <th>d</th>\n      <td>4</td>\n    </tr>\n  </tbody>\n</table>\n</div>"
     },
     "execution_count": 29,
     "metadata": {},
     "output_type": "execute_result"
    }
   ],
   "source": [
    "import pandas as pd\n",
    "\n",
    "dic = {\"A\": [1,2,3,4],\n",
    "       \"B\": [2,3,4,5],\n",
    "       \"C\": [3,4,5,6],\n",
    "       \"D\": [4,5,6,7]\n",
    "       }\n",
    "\n",
    "df = pd.DataFrame(data=dic, index=['a', 'b', 'c', 'd'])\n",
    "\n",
    "# print(df['A'])  # 取一列\n",
    "# print(df[['A', 'B']])  # 取两列\n",
    "# print(\"====\")\n",
    "# print(df.loc[\"a\"]) # 取一行，只能指定显示索引\n",
    "# # print(df.loc[0]) # 不能指定显示索引\n",
    "# print(df.iloc[0])  # 取一行，只能指定隐式索引\n",
    "# print(df.iloc[[0, 1]])  # 取两行\n",
    "#\n",
    "# print(df['A']['a'])  # 取(a,A)对应的元素\n",
    "# print(df.loc['a','A'])  # 取(a,A)对应的元素\n",
    "# print(df.loc[['a','b'],'A'])  # 取(a,A),(b,A)对应的元素\n",
    "\n",
    "\n",
    "df[0:2]  # 切取前两行\n",
    "df.iloc[:,0:1]  # 切取第一列，与ndarray相同"
   ],
   "metadata": {
    "collapsed": false,
    "pycharm": {
     "name": "#%%\n"
    }
   }
  },
  {
   "cell_type": "markdown",
   "source": [
    "- 使用tushare包获取某股票的历史行情数据。\n",
    "- 输出该股票所有收盘比开盘上涨3%以上的日期。\n",
    "- 输出该股票所有开盘比前日收盘跌幅超过2%的日期。\n",
    "- 假如我从2010年1月1日开始，每月第一个交易日买入1手股票，每年最后一个交易日卖出所有股票，到今天为止，我的收益如何？\n"
   ],
   "metadata": {
    "collapsed": false,
    "pycharm": {
     "name": "#%% md\n"
    }
   }
  },
  {
   "cell_type": "code",
   "execution_count": 31,
   "outputs": [
    {
     "name": "stdout",
     "output_type": "stream",
     "text": [
      "本接口即将停止更新，请尽快使用Pro版接口：https://waditu.com/document/2\n"
     ]
    }
   ],
   "source": [
    "# 获取数据并保存\n",
    "import tushare as ts\n",
    "df = ts.get_k_data('600519',start='1900-01-01')\n",
    "df.to_csv('./maotai.csv')"
   ],
   "metadata": {
    "collapsed": false,
    "pycharm": {
     "name": "#%%\n"
    }
   }
  },
  {
   "cell_type": "code",
   "execution_count": 32,
   "outputs": [
    {
     "data": {
      "text/plain": "             open  close   high    low     volume    code\ndate                                                     \n2001-08-27  5.392  5.554  5.902  5.132  406318.00  600519\n2001-08-28  5.467  5.759  5.781  5.407  129647.79  600519",
      "text/html": "<div>\n<style scoped>\n    .dataframe tbody tr th:only-of-type {\n        vertical-align: middle;\n    }\n\n    .dataframe tbody tr th {\n        vertical-align: top;\n    }\n\n    .dataframe thead th {\n        text-align: right;\n    }\n</style>\n<table border=\"1\" class=\"dataframe\">\n  <thead>\n    <tr style=\"text-align: right;\">\n      <th></th>\n      <th>open</th>\n      <th>close</th>\n      <th>high</th>\n      <th>low</th>\n      <th>volume</th>\n      <th>code</th>\n    </tr>\n    <tr>\n      <th>date</th>\n      <th></th>\n      <th></th>\n      <th></th>\n      <th></th>\n      <th></th>\n      <th></th>\n    </tr>\n  </thead>\n  <tbody>\n    <tr>\n      <th>2001-08-27</th>\n      <td>5.392</td>\n      <td>5.554</td>\n      <td>5.902</td>\n      <td>5.132</td>\n      <td>406318.00</td>\n      <td>600519</td>\n    </tr>\n    <tr>\n      <th>2001-08-28</th>\n      <td>5.467</td>\n      <td>5.759</td>\n      <td>5.781</td>\n      <td>5.407</td>\n      <td>129647.79</td>\n      <td>600519</td>\n    </tr>\n  </tbody>\n</table>\n</div>"
     },
     "execution_count": 32,
     "metadata": {},
     "output_type": "execute_result"
    }
   ],
   "source": [
    "# 读取数据,将并date列转为行索引\n",
    "df = pd.read_csv('./maotai.csv', index_col='date', parse_dates=['date'])\n",
    "df.drop(labels='Unnamed: 0',axis=1,inplace=True)"
   ],
   "metadata": {
    "collapsed": false,
    "pycharm": {
     "name": "#%%\n"
    }
   }
  },
  {
   "cell_type": "code",
   "execution_count": 36,
   "outputs": [
    {
     "data": {
      "text/plain": "DatetimeIndex(['2001-08-27', '2001-08-28', '2001-09-10', '2001-12-21',\n               '2002-01-18', '2002-01-31', '2003-01-14', '2003-10-29',\n               '2004-01-05', '2004-01-14',\n               ...\n               '2021-01-05', '2021-01-12', '2021-01-25', '2021-02-04',\n               '2021-02-09', '2021-02-10', '2021-03-03', '2021-03-05',\n               '2021-03-11', '2021-04-02'],\n              dtype='datetime64[ns]', name='date', length=326, freq=None)"
     },
     "execution_count": 36,
     "metadata": {},
     "output_type": "execute_result"
    }
   ],
   "source": [
    "# 输出该股票所有收盘比开盘上涨3%以上的日期。\n",
    "is_true = (df['close'] - df['open'])/df['open'] > 0.03\n",
    "df.loc[is_true].index  # 返回满足需求的数据"
   ],
   "metadata": {
    "collapsed": false,
    "pycharm": {
     "name": "#%%\n"
    }
   }
  },
  {
   "cell_type": "code",
   "execution_count": 41,
   "outputs": [
    {
     "data": {
      "text/plain": "DatetimeIndex(['2001-09-12', '2002-06-26', '2002-12-13', '2004-07-01',\n               '2004-10-29', '2006-08-21', '2006-08-23', '2007-01-25',\n               '2007-02-01', '2007-02-06', '2007-03-19', '2007-05-21',\n               '2007-05-30', '2007-06-05', '2007-07-27', '2007-09-05',\n               '2007-09-10', '2008-03-13', '2008-03-17', '2008-03-25',\n               '2008-03-27', '2008-04-22', '2008-04-23', '2008-04-29',\n               '2008-05-13', '2008-06-10', '2008-06-13', '2008-06-24',\n               '2008-06-27', '2008-08-11', '2008-08-19', '2008-09-23',\n               '2008-10-10', '2008-10-15', '2008-10-16', '2008-10-20',\n               '2008-10-23', '2008-10-27', '2008-11-06', '2008-11-12',\n               '2008-11-20', '2008-11-21', '2008-12-02', '2009-02-27',\n               '2009-03-25', '2009-08-13', '2010-04-26', '2010-04-30',\n               '2011-08-05', '2012-03-27', '2012-08-10', '2012-11-22',\n               '2012-12-04', '2012-12-24', '2013-01-16', '2013-01-25',\n               '2013-09-02', '2014-04-25', '2015-01-19', '2015-05-25',\n               '2015-07-03', '2015-07-08', '2015-07-13', '2015-08-24',\n               '2015-09-02', '2015-09-15', '2017-11-17', '2018-02-06',\n               '2018-02-09', '2018-03-23', '2018-03-28', '2018-07-11',\n               '2018-10-11', '2018-10-24', '2018-10-25', '2018-10-29',\n               '2018-10-30', '2019-05-06', '2019-05-08', '2019-10-16',\n               '2020-01-02', '2020-02-03', '2020-03-13', '2020-03-23',\n               '2020-10-26', '2021-02-26', '2021-03-04'],\n              dtype='datetime64[ns]', name='date', freq=None)"
     },
     "execution_count": 41,
     "metadata": {},
     "output_type": "execute_result"
    }
   ],
   "source": [
    "# 输出该股票所有开盘比前日收盘跌幅超过2%的日期\n",
    "(df['open']-df['close'].shift(1))/df['close'].shift(1) < -0.02\n",
    "df.loc[(df['open']-df['close'].shift(1))/df['close'].shift(1) < -0.02].index\n",
    "# shift(n)数据整体移动"
   ],
   "metadata": {
    "collapsed": false,
    "pycharm": {
     "name": "#%%\n"
    }
   }
  },
  {
   "cell_type": "markdown",
   "source": [
    "- 假如我从2010年1月1日开始，每月第一个交易日买入1手股票，每年最后一个交易日卖出所有股票，到今天为止，我的收益如何？\n",
    "- 分析：\n",
    "    - 规则：基于开盘价股票的买卖\n",
    "    - 买：一个完整的年需要买12次股票，一次买入100只，一个完整的年需要买入1200只（单价：当天开盘价）\n",
    "    - 卖：一个完整的年需要卖一次股票，一次卖出1200只\n",
    "    - 备注：19年不是一个完整的年，该年只可以买入900只，并且卖不出去"
   ],
   "metadata": {
    "collapsed": false,
    "pycharm": {
     "name": "#%% md\n"
    }
   }
  },
  {
   "cell_type": "code",
   "execution_count": 54,
   "outputs": [
    {
     "data": {
      "text/plain": "0.16103447089395448"
     },
     "execution_count": 54,
     "metadata": {},
     "output_type": "execute_result"
    }
   ],
   "source": [
    "df_new = df['2010':'2021']  # 按年切片\n",
    "#数据的重新取样的机制(resample):根据指定好的规则进行指定数据的提取\n",
    "df_monthly = df_new.resample('M').first()\n",
    "# 买股票\n",
    "a = df_monthly['open'].sum()*100\n",
    "\n",
    "# 卖股票\n",
    "df_yearly = df_new.resample('A').last()\n",
    "df_yearly = df_yearly[:-1]\n",
    "\n",
    "b = df_yearly['open'].sum()*1200\n",
    "# 剩余的计算到b中\n",
    "b += df.iloc[-1]['close']*300\n",
    "(b - a)/a  # 收益率"
   ],
   "metadata": {
    "collapsed": false,
    "pycharm": {
     "name": "#%%\n"
    }
   }
  }
 ],
 "metadata": {
  "kernelspec": {
   "display_name": "Python 3",
   "language": "python",
   "name": "python3"
  },
  "language_info": {
   "codemirror_mode": {
    "name": "ipython",
    "version": 2
   },
   "file_extension": ".py",
   "mimetype": "text/x-python",
   "name": "python",
   "nbconvert_exporter": "python",
   "pygments_lexer": "ipython2",
   "version": "2.7.6"
  }
 },
 "nbformat": 4,
 "nbformat_minor": 0
}