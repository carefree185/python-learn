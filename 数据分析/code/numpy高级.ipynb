{
 "cells": [
  {
   "cell_type": "code",
   "execution_count": 42,
   "metadata": {
    "collapsed": true
   },
   "outputs": [
    {
     "data": {
      "text/plain": "<Figure size 432x288 with 1 Axes>",
      "image/png": "[encoded data removed]"
     },
     "metadata": {},
     "output_type": "display_data"
    }
   ],
   "source": [
    "import numpy as np\n",
    "from datetime import datetime\n",
    "import matplotlib.pyplot as plt\n",
    "import matplotlib.dates as md\n",
    "# 日期转换函数\n",
    "def dmy2ymd(dmy):\n",
    "    # 将日-月-年 转为 年-月-日\n",
    "\tdmy = str(dmy, encoding='utf-8')\n",
    "\ttime = datetime.strptime(dmy, '%d-%m-%Y').date()\n",
    "\tt = time.strftime('%Y-%m-%d')\n",
    "\treturn t\n",
    "\n",
    "dates, opening_prices,highest_prices, \\\n",
    "\tlowest_prices, closeing_prices  = np.loadtxt('./data/aapl.csv',  # 读取文件\n",
    "                  delimiter=',',  # 分隔符\n",
    "                  usecols=(1, 3, 4, 5, 6),  # 要读取的列\n",
    "                  dtype='M8[D], f8, f8, f8, f8',  # 每个维度的数据类型\n",
    "                  unpack=True,  # 拆包\n",
    "                  converters={1: dmy2ymd}  # 自定第几列使用的转换函数\n",
    "                  )\n",
    "# print(data)\n",
    "plt.figure('APPL K', facecolor='lightgray')\n",
    "plt.title('APPL K')\n",
    "plt.xlabel('Day', fontsize=12)\n",
    "plt.ylabel('Price', fontsize=12)\n",
    "plt.grid(linestyle=':')\n",
    "\n",
    "#拿到坐标轴\n",
    "ax = plt.gca()\n",
    "#设置主刻度定位器为周定位器（每周一显示主刻度文本）\n",
    "ax.xaxis.set_major_locator( md.WeekdayLocator(byweekday=md.MO) )\n",
    "ax.xaxis.set_major_formatter(md.DateFormatter('%d-%b-%Y'))\n",
    "#设置次刻度定位器为日定位器\n",
    "ax.xaxis.set_minor_locator(md.DayLocator())\n",
    "plt.tick_params(labelsize=8)\n",
    "dates = dates.astype(md.datetime.datetime)  # numpy数据类型转换\n",
    "\n",
    "plt.plot(dates, closeing_prices, color='blue', linestyle='-.', alpha=0.2)\n",
    "plt.gcf().autofmt_xdate()  # 自动格式话x轴日期\n",
    "\n",
    "#绘制每一天的蜡烛图\n",
    "#填充色：涨为白色，跌为绿色\n",
    "rise = closeing_prices >= opening_prices\n",
    "color = np.array(['white' if x else 'limegreen' for x in rise])\n",
    "\n",
    "#边框色：涨为红色，跌为绿色\n",
    "edgecolor = np.array(['red' if x else 'limegreen' for x in rise])\n",
    "\n",
    "#绘制线条\n",
    "plt.vlines(dates, lowest_prices, highest_prices, color=edgecolor, zorder=0)\n",
    "#绘制方块\n",
    "plt.bar(dates, closeing_prices - opening_prices, 0.8,\n",
    "\topening_prices, color=color, edgecolor=edgecolor)\n",
    "\n",
    "plt.show()"
   ]
  },
  {
   "cell_type": "code",
   "execution_count": 43,
   "outputs": [
    {
     "data": {
      "text/plain": "9.826075856066856"
     },
     "execution_count": 43,
     "metadata": {},
     "output_type": "execute_result"
    }
   ],
   "source": [
    "import numpy as np\n",
    "array = np.random.normal(10, 2, 100)\n",
    "np.mean(array)  # 计算array的均值"
   ],
   "metadata": {
    "collapsed": false,
    "pycharm": {
     "name": "#%%\n"
    }
   }
  },
  {
   "cell_type": "code",
   "execution_count": 47,
   "outputs": [
    {
     "name": "stdout",
     "output_type": "stream",
     "text": [
      "351.03766666666667\n",
      "351.0376666666667\n"
     ]
    }
   ],
   "source": [
    "import numpy as np\n",
    "from datetime import datetime\n",
    "\n",
    "\n",
    "# 日期转换函数\n",
    "def dmy2ymd(dmy):\n",
    "    # 将日-月-年 转为 年-月-日\n",
    "    dmy = str(dmy, encoding='utf-8')\n",
    "    time = datetime.strptime(dmy, '%d-%m-%Y').date()\n",
    "    t = time.strftime('%Y-%m-%d')\n",
    "    return t\n",
    "\n",
    "\n",
    "closeing_prices = np.loadtxt('./data/aapl.csv',  # 读取文件\n",
    "                             delimiter=',',  # 分隔符\n",
    "                             usecols=(6,),  # 要读取的列\n",
    "                             dtype='f8',\n",
    "                             # 每个维度的数据类型\n",
    "                             unpack=True,  # 拆包\n",
    "                             # converters={1: dmy2ymd}\n",
    "                             # 自定第几列使用的转换函数\n",
    "                             )\n",
    "\n",
    "mean = 0\n",
    "for closing_price in closeing_prices:\n",
    "    mean += closing_price\n",
    "mean /= closeing_prices.size\n",
    "print(mean)\n",
    "mean = np.mean(closeing_prices)\n",
    "print(mean)"
   ],
   "metadata": {
    "collapsed": false,
    "pycharm": {
     "name": "#%%\n"
    }
   }
  },
  {
   "cell_type": "code",
   "execution_count": 48,
   "outputs": [
    {
     "data": {
      "text/plain": "10.30972364390164"
     },
     "execution_count": 48,
     "metadata": {},
     "output_type": "execute_result"
    }
   ],
   "source": [
    "import numpy as np\n",
    "array = np.random.normal(10, 2, 100)\n",
    "weights = np.random.random(100)\n",
    "np.average(array, weights=weights)"
   ],
   "metadata": {
    "collapsed": false,
    "pycharm": {
     "name": "#%%\n"
    }
   }
  },
  {
   "cell_type": "code",
   "execution_count": 49,
   "outputs": [
    {
     "name": "stdout",
     "output_type": "stream",
     "text": [
      "350.5895493532009\n",
      "350.5895493532009\n"
     ]
    }
   ],
   "source": [
    "import numpy as np\n",
    "closing_prices, volumes = np.loadtxt(\n",
    "    './data/aapl.csv', delimiter=',',\n",
    "    usecols=(6, 7), unpack=True)\n",
    "vwap, wsum = 0, 0\n",
    "for closing_price, volume in zip(\n",
    "        closing_prices, volumes):\n",
    "    vwap += closing_price * volume\n",
    "    wsum += volume\n",
    "vwap /= wsum\n",
    "print(vwap)\n",
    "vwap = np.average(closing_prices, weights=volumes)\n",
    "print(vwap)"
   ],
   "metadata": {
    "collapsed": false,
    "pycharm": {
     "name": "#%%\n"
    }
   }
  }
 ],
 "metadata": {
  "kernelspec": {
   "display_name": "Python 3",
   "language": "python",
   "name": "python3"
  },
  "language_info": {
   "codemirror_mode": {
    "name": "ipython",
    "version": 2
   },
   "file_extension": ".py",
   "mimetype": "text/x-python",
   "name": "python",
   "nbconvert_exporter": "python",
   "pygments_lexer": "ipython2",
   "version": "2.7.6"
  }
 },
 "nbformat": 4,
 "nbformat_minor": 0
}