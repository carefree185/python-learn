{
 "cells": [
  {
   "cell_type": "markdown",
   "metadata": {
    "collapsed": true
   },
   "source": [
    "# 柱状图"
   ]
  },
  {
   "cell_type": "raw",
   "metadata": {},
   "source": [
    "matplotlib.pyplot. bar (*args, **kwargs)\n",
    "bar(x, height, width, bottom, *, align='center', **kwargs)\n",
    "参数：\n",
    "    x:数据标量\n",
    "    height：高\n",
    "    width:宽\n",
    "    bottom：底端对应Y轴\n",
    "    align:对齐  center居中 \n",
    "    如果为 \"居中\", 则将x参数解释为条形中心的坐标。如果 \"边缘\", 将条形按其左边缘对齐要对齐右边缘的条形图, 可传递负的宽度和对align='edge'"
   ]
  },
  {
   "cell_type": "code",
   "execution_count": 23,
   "metadata": {},
   "outputs": [],
   "source": [
    "import matplotlib.pyplot as plt\n",
    "import matplotlib as mpl\n",
    "import numpy as np\n",
    "# 设置在jupyter中matplotlib的显示情况\n",
    "%matplotlib tk\n",
    "\n",
    "# 解决中文显示问题\n",
    "mpl.rcParams['font.sans-serif'] = ['SimHei']\n",
    "mpl.rcParams['axes.unicode_minus'] = False\n",
    "\n",
    "plt.figure(figsize=(8,6))\n",
    "plt.bar([1,3,5,7,9,11],[5,2,7,8,2,6],align = 'center',label=\"Example one\",color = 'y',edgecolor = 'r')\n",
    "\n",
    "plt.bar([2,4,6,8,10,12],[8,6,2,5,6,3], label=\"Example two\", color='g')\n",
    "plt.legend()\n",
    "plt.xlabel('bar number')\n",
    "plt.ylabel('bar height')\n",
    "\n",
    "#设置x轴刻度标签\n",
    "plt.xticks(np.arange(1,13),[str(i)+'月' for i in range(1,13)])\n",
    "\n",
    "plt.title('')\n",
    "\n",
    "plt.show()"
   ]
  },
  {
   "cell_type": "markdown",
   "metadata": {
    "collapsed": true
   },
   "source": [
    "# 练习"
   ]
  },
  {
   "cell_type": "raw",
   "metadata": {},
   "source": [
    "用柱状图表示第一季度的进出口数据\n",
    "进口数据：\n",
    "    1月份  600亿美元\n",
    "    2月份  700亿美元\n",
    "    3月份  800亿美元\n",
    "出口数据：\n",
    "    1月份  500亿美元\n",
    "    2月份  900亿美元\n",
    "    3月份  1000亿美元\n",
    "    "
   ]
  },
  {
   "cell_type": "code",
   "execution_count": 59,
   "metadata": {},
   "outputs": [],
   "source": [
    "import matplotlib.pyplot as plt\n",
    "import matplotlib as mpl\n",
    "import numpy as np\n",
    "# 设置在jupyter中matplotlib的显示情况\n",
    "%matplotlib tk\n",
    "\n",
    "# 解决中文显示问题\n",
    "mpl.rcParams['font.sans-serif'] = ['SimHei']\n",
    "mpl.rcParams['axes.unicode_minus'] = False\n",
    "\n",
    "x = [1,2,3]\n",
    "y1 = [600,700,800]\n",
    "y2 = [500,900,1000]\n",
    "plt.figure(figsize=(8,5))\n",
    "plt.bar(x,y1,0.1,align = 'edge',label=\"进口 单位/美元\",color = 'y')\n",
    "plt.bar(x,y2,-0.1,align = 'edge' ,label=\"出口 单位/美元\", color='r')\n",
    "\n",
    "for m,n in zip(x,y1):\n",
    "    plt.text(m+0.08, n+10, '%.2f' %n, ha='center', va= 'bottom')\n",
    "\n",
    "for m,n in zip(x,y2):\n",
    "    plt.text(m-0.08, n+10, '%.2f' %n, ha='center', va= 'bottom')\n",
    "    \n",
    "plt.legend()\n",
    "plt.xlabel('第一季度/月')\n",
    "plt.ylabel('进出口额/美元')\n",
    "\n",
    "#设置x轴刻度标签\n",
    "plt.xticks(np.arange(1,4),[str(i)+'月' for i in range(1,4)])\n",
    "\n",
    "plt.title('第一季度进出口数据')\n",
    "\n",
    "plt.show()"
   ]
  },
  {
   "cell_type": "code",
   "execution_count": null,
   "metadata": {
    "collapsed": true
   },
   "outputs": [],
   "source": []
  },
  {
   "cell_type": "code",
   "execution_count": null,
   "metadata": {
    "collapsed": true
   },
   "outputs": [],
   "source": []
  }
 ],
 "metadata": {
  "kernelspec": {
   "display_name": "Python 3",
   "language": "python",
   "name": "python3"
  },
  "language_info": {
   "codemirror_mode": {
    "name": "ipython",
    "version": 3
   },
   "file_extension": ".py",
   "mimetype": "text/x-python",
   "name": "python",
   "nbconvert_exporter": "python",
   "pygments_lexer": "ipython3",
   "version": "3.6.2"
  }
 },
 "nbformat": 4,
 "nbformat_minor": 2
}
