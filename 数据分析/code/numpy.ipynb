{
 "cells": [
  {
   "cell_type": "code",
   "execution_count": 5,
   "metadata": {
    "collapsed": true
   },
   "outputs": [
    {
     "name": "stdout",
     "output_type": "stream",
     "text": [
      "[1 2 3 4 5 6] <class 'numpy.ndarray'>\n"
     ]
    },
    {
     "data": {
      "text/plain": "array([3, 4, 5, 6, 7, 8])"
     },
     "execution_count": 5,
     "metadata": {},
     "output_type": "execute_result"
    }
   ],
   "source": [
    "# 构造ndarray数组\n",
    "import numpy as np\n",
    "\n",
    "ary = np.array([1, 2, 3, 4, 5, 6])\n",
    "print(ary, type(ary))"
   ]
  },
  {
   "cell_type": "code",
   "execution_count": 15,
   "outputs": [
    {
     "name": "stdout",
     "output_type": "stream",
     "text": [
      "原始数据     [1 2 3 4 5 6]\n",
      "原始数据 + 2 [3 4 5 6 7 8]\n",
      "原始数据 - 2 [-1  0  1  2  3  4]\n",
      "原始数据 * 2 [ 2  4  6  8 10 12]\n",
      "原始数据 / 2 [0.5 1.  1.5 2.  2.5 3. ]\n",
      "原始数据 ** 2 [ 1  4  9 16 25 36]\n",
      "原始数据 % 2 [1 0 1 0 1 0]\n",
      "原始数据 > 3 [False False False  True  True  True]\n",
      "原始数据 < 3 [ True  True False False False False]\n",
      "原始数据 == 3 [False False  True False False False]\n",
      "原始数据 != 3 [ True  True False  True  True  True]\n",
      "ary1 + ary2 [ 8 10 12 14 16 18]\n",
      "ary1 - ary2 [-6 -6 -6 -6 -6 -6]\n",
      "ary1 * ary2 [ 7 16 27 40 55 72]\n",
      "ary1 / ary2 [0.14285714 0.25       0.33333333 0.4        0.45454545 0.5       ]\n",
      "ary1 % ary2 [1 2 3 4 5 6]\n",
      "ary1 ** ary2 [          1         256       19683     1048576    48828125 -2118184960]\n",
      "ary1 > ary2 [False False False False False False]\n",
      "ary1 < ary2 [ True  True  True  True  True  True]\n"
     ]
    }
   ],
   "source": [
    "# 数组与数的运算\n",
    "\n",
    "import numpy as np\n",
    "\n",
    "ary = np.array([1, 2, 3, 4, 5, 6])\n",
    "# 原始数据\n",
    "print(\"原始数据    \", ary)\n",
    "# 加法\n",
    "print(\"原始数据 + 2\", ary + 2)\n",
    "# 减法\n",
    "print(\"原始数据 - 2\", ary - 2)\n",
    "# 乘法\n",
    "print(\"原始数据 * 2\", ary * 2)\n",
    "# 除法\n",
    "print(\"原始数据 / 2\", ary / 2)\n",
    "# 幂运算\n",
    "print(\"原始数据 ** 2\", ary ** 2)\n",
    "# 取模\n",
    "print(\"原始数据 % 2\", ary % 2)\n",
    "# 比较\n",
    "print(\"原始数据 > 3\", ary > 3)\n",
    "print(\"原始数据 < 3\", ary < 3)\n",
    "print(\"原始数据 == 3\", ary == 3)\n",
    "print(\"原始数据 != 3\", ary != 3)\n",
    "\n",
    "# 数组与数组进行运算\n",
    "ary1 = ary\n",
    "ary2 = np.array([7, 8, 9, 10, 11, 12])\n",
    "\n",
    "print(\"ary1 + ary2\", ary1 + ary2)\n",
    "print(\"ary1 - ary2\", ary1 - ary2)\n",
    "print(\"ary1 * ary2\", ary1 * ary2)\n",
    "print(\"ary1 / ary2\", ary1 / ary2)\n",
    "print(\"ary1 % ary2\", ary1 % ary2)\n",
    "print(\"ary1 ** ary2\", ary1 ** ary2)\n",
    "print(\"ary1 > ary2\", ary1 > ary2)\n",
    "print(\"ary1 < ary2\", ary1 < ary2)"
   ],
   "metadata": {
    "collapsed": false,
    "pycharm": {
     "name": "#%%\n"
    }
   }
  },
  {
   "cell_type": "code",
   "execution_count": 17,
   "outputs": [
    {
     "name": "stdout",
     "output_type": "stream",
     "text": [
      "[0 2 4 6 8]\n"
     ]
    }
   ],
   "source": [
    "import numpy as np\n",
    "ary = np.arange(0, 10, 2)\n",
    "print(ary)\n"
   ],
   "metadata": {
    "collapsed": false,
    "pycharm": {
     "name": "#%%\n"
    }
   }
  },
  {
   "cell_type": "code",
   "execution_count": 36,
   "outputs": [
    {
     "data": {
      "text/plain": "array([1, 1, 1, 1])"
     },
     "execution_count": 36,
     "metadata": {},
     "output_type": "execute_result"
    }
   ],
   "source": [
    "import numpy as np\n",
    "np.zeros(10, dtype=np.int8)\n",
    "\n",
    "np.zeros(10, dtype=np.float16)\n",
    "\n",
    "np.ones(10, dtype=np.int8)\n",
    "np.ones(10, dtype=np.float16)\n",
    "\n",
    "np.zeros_like([1,2,3,4])\n",
    "np.ones_like([1,2,3,4])"
   ],
   "metadata": {
    "collapsed": false,
    "pycharm": {
     "name": "#%%\n"
    }
   }
  },
  {
   "cell_type": "code",
   "execution_count": 38,
   "outputs": [
    {
     "name": "stdout",
     "output_type": "stream",
     "text": [
      "[ 1  2  3  4  5  6  7  8  9 10] (10,)\n",
      "1\n",
      "[[1 2 3]\n",
      " [4 5 6]] (2, 3)\n",
      "2\n"
     ]
    }
   ],
   "source": [
    "import numpy as np\n",
    "\n",
    "ary = np.arange(1, 11)\n",
    "# ary = ary.reshape((5, 2))\n",
    "print(ary, ary.shape)\n",
    "print(ary.ndim)\n",
    "ary = np.array([\n",
    "  [1,2,3],\n",
    "  [4,5,6]\n",
    "])\n",
    "print(ary, ary.shape)\n",
    "\n",
    "print(ary.ndim)"
   ],
   "metadata": {
    "collapsed": false,
    "pycharm": {
     "name": "#%%\n"
    }
   }
  },
  {
   "cell_type": "code",
   "execution_count": 39,
   "outputs": [
    {
     "name": "stdout",
     "output_type": "stream",
     "text": [
      "(2, 4) 8 2\n"
     ]
    }
   ],
   "source": [
    "import numpy as np\n",
    "ary = np.array([\n",
    "    [1,2,3,4],\n",
    "    [5,6,7,8]\n",
    "])\n",
    "# 观察维度，size，len的区别\n",
    "print(ary.shape, ary.size, len(ary))"
   ],
   "metadata": {
    "collapsed": false,
    "pycharm": {
     "name": "#%%\n"
    }
   }
  },
  {
   "cell_type": "code",
   "execution_count": 40,
   "outputs": [
    {
     "name": "stdout",
     "output_type": "stream",
     "text": [
      "<class 'numpy.ndarray'> [1 2 3 4 5 6] int32\n",
      "<class 'numpy.ndarray'> [1. 2. 3. 4. 5. 6.] float64\n",
      "<class 'numpy.ndarray'> ['1' '2' '3' '4' '5' '6'] <U11\n"
     ]
    }
   ],
   "source": [
    "import numpy as np\n",
    "ary = np.array([1, 2, 3, 4, 5, 6])\n",
    "print(type(ary), ary, ary.dtype)\n",
    "# 转换ary元素的类型\n",
    "b = ary.astype(float)\n",
    "print(type(b), b, b.dtype)\n",
    "#转换ary元素的类型\n",
    "c = ary.astype(str)\n",
    "print(type(c), c, c.dtype)"
   ],
   "metadata": {
    "collapsed": false,
    "pycharm": {
     "name": "#%%\n"
    }
   }
  },
  {
   "cell_type": "code",
   "execution_count": 43,
   "outputs": [
    {
     "name": "stdout",
     "output_type": "stream",
     "text": [
      "[[[1 2]\n",
      "  [3 4]]\n",
      "\n",
      " [[5 6]\n",
      "  [7 8]]] (2, 2, 2)\n",
      "[[1 2]\n",
      " [3 4]]\n",
      "[1 2]\n",
      "[1 2]\n",
      "1\n",
      "1\n"
     ]
    }
   ],
   "source": [
    "import numpy as np\n",
    "a = np.array([[[1, 2],\n",
    "               [3, 4]],\n",
    "              [[5, 6],\n",
    "               [7, 8]]])\n",
    "print(a, a.shape)\n",
    "print(a[0])\n",
    "print(a[0][0])\n",
    "print(a[0, 0])\n",
    "print(a[0][0][0])\n",
    "print(a[0,0,0])"
   ],
   "metadata": {
    "collapsed": false,
    "pycharm": {
     "name": "#%%\n"
    }
   }
  },
  {
   "cell_type": "code",
   "execution_count": 59,
   "outputs": [
    {
     "name": "stdout",
     "output_type": "stream",
     "text": [
      "31\n"
     ]
    }
   ],
   "source": [
    "import numpy as np\n",
    "\n",
    "data=[\n",
    "\t('zs', [90, 80, 85], 15),\n",
    "\t('ls', [92, 81, 83], 16),\n",
    "\t('ww', [95, 85, 95], 15)\n",
    "]\n",
    "\n",
    "# a = np.array(data, dtype='U3, 3int32, int32')\n",
    "\n",
    "# b = np.array(data, dtype=[('name', 'str_', 3),\n",
    "#                     ('scores', 'int32', 3),\n",
    "#                     ('ages', 'int32', 1)])\n",
    "\n",
    "# c = np.array(data, dtype={'names': ['name', 'scores', 'ages'],\n",
    "#                     'formats': ['U3', '3int32', 'int32']})\n",
    "\n",
    "# d = np.array(data, dtype={'name': ('U3', 0),\n",
    "#                     'scores': ('3i4', 16),\n",
    "#                     'age': ('i4', 28)})\n",
    "\n",
    "\n",
    "# e = np.array([0x1234, 0x5667],\n",
    "#              dtype=('u2', {'lowc': ('u1', 0),\n",
    "#                            'hignc': ('u1', 1)}))\n",
    "# print('%x' % e[0])\n",
    "# print('%x %x' % (e['lowc'][0], e['hignc'][0]))\n",
    "\n",
    "f = np.array(['2011', '2012-01-01', '2013-01-01 01:01:01',\n",
    "              '2011-02-01'])\n",
    "f = f.astype('M8[D]')\n",
    "f = f.astype('int32')\n",
    "print(f[3]-f[0])\n"
   ],
   "metadata": {
    "collapsed": false,
    "pycharm": {
     "name": "#%%\n"
    }
   }
  },
  {
   "cell_type": "code",
   "execution_count": 63,
   "outputs": [
    {
     "name": "stdout",
     "output_type": "stream",
     "text": [
      "[1 2 3 4 5 6 7 8]\n",
      "[[1 2 3 4]\n",
      " [5 6 7 8]]\n",
      "修改b [[10  2  3  4]\n",
      " [ 5  6  7  8]]\n",
      "修改b后的a [10  2  3  4  5  6  7  8]\n",
      "[[[10  2]\n",
      "  [ 3  4]]\n",
      "\n",
      " [[ 5  6]\n",
      "  [ 7  8]]]\n",
      "[10  2  3  4  5  6  7  8]\n"
     ]
    }
   ],
   "source": [
    "import numpy as np\n",
    "a = np.arange(1, 9)\n",
    "print(a)\t\t# [1 2 3 4 5 6 7 8]\n",
    "\n",
    "b = a.reshape(2, 4)\t#视图变维  : 变为2行4列的二维数组\n",
    "print(b)\n",
    "b[0, 0]=10\n",
    "print(\"修改b\", b)\n",
    "print(\"修改b后的a\", a)\n",
    "\n",
    "c = b.reshape(2, 2, 2) #视图变维    变为2页2行2列的三维数组\n",
    "print(c)\n",
    "\n",
    "d = c.ravel()\t#视图变维\t变为1维数组\n",
    "print(d)\n"
   ],
   "metadata": {
    "collapsed": false,
    "pycharm": {
     "name": "#%%\n"
    }
   }
  },
  {
   "cell_type": "code",
   "execution_count": 64,
   "outputs": [
    {
     "name": "stdout",
     "output_type": "stream",
     "text": [
      "[1 2 3 4 5 6 7 8]\n",
      "[[1 2 3 4]\n",
      " [5 6 7 8]]\n",
      "修改b [[10  2  3  4]\n",
      " [ 5  6  7  8]]\n",
      "修改b后的a [10  2  3  4  5  6  7  8]\n",
      "[[[10  2]\n",
      "  [ 3  4]]\n",
      "\n",
      " [[ 5  6]\n",
      "  [ 7  8]]]\n",
      "[10  2  3  4  5  6  7  8]\n"
     ]
    }
   ],
   "source": [
    "import numpy as np\n",
    "a = np.arange(1, 9)\n",
    "print(a)\t\t# [1 2 3 4 5 6 7 8]\n",
    "\n",
    "b = a.reshape(2, 4)\t#视图变维  : 变为2行4列的二维数组\n",
    "print(b)\n",
    "b[0, 0]=10\n",
    "print(\"修改b\", b)\n",
    "print(\"修改b后的a\", a)\n",
    "\n",
    "c = b.reshape(2, 2, 2) #视图变维    变为2页2行2列的三维数组\n",
    "print(c)\n",
    "\n",
    "d = c.ravel()\t#视图变维\t变为1维数组\n",
    "print(d)"
   ],
   "metadata": {
    "collapsed": false,
    "pycharm": {
     "name": "#%%\n"
    }
   }
  },
  {
   "cell_type": "code",
   "execution_count": 70,
   "outputs": [
    {
     "name": "stdout",
     "output_type": "stream",
     "text": [
      "e [1 2 3 4 5 6 7 8]\n",
      "a [11 12 13 14 15 16 17 18] \n",
      " b [[11 12 13 14]\n",
      " [15 16 17 18]] \n",
      " e [1 2 3 4 5 6 7 8]\n"
     ]
    }
   ],
   "source": [
    "import numpy as np\n",
    "a = np.arange(1, 9)\t\t# [1 2 3 4 5 6 7 8]\n",
    "\n",
    "b = a.reshape(2, 4)\t#视图变维  : 变为2行4列的二维数组\n",
    "\n",
    "e = b.flatten()  # 复制变维\n",
    "print(\"e\", e)\n",
    "a += 10   # a中的每个元素加10\n",
    "print(\"a\", a,\"\\n\",\"b\", b, \"\\n\",\"e\", e)  # a发生变化，b同时发生变化，e不发生变化"
   ],
   "metadata": {
    "collapsed": false,
    "pycharm": {
     "name": "#%%\n"
    }
   }
  },
  {
   "cell_type": "code",
   "execution_count": 83,
   "outputs": [
    {
     "name": "stdout",
     "output_type": "stream",
     "text": [
      "a:              [1 2 3 4 5 6 7 8 9]\n",
      "a[:3]:          [1 2 3]\n",
      "a[3:6]:         [4 5 6]\n",
      "a[6:]:          [7 8 9]\n",
      "a[::-1]:        [9 8 7 6 5 4 3 2 1]\n",
      "a[:-4:-1]:      [9 8 7]\n",
      "a[-4:-7:-1]:    [6 5 4]\n",
      "a[-7::-1]:      [3 2 1]\n",
      "a[::]:          [1 2 3 4 5 6 7 8 9]\n",
      "a[:]:           [1 2 3 4 5 6 7 8 9]\n"
     ]
    }
   ],
   "source": [
    "import numpy as np\n",
    "a = np.arange(1, 10)\n",
    "print(\"{:15}\".format(\"a:\"), a) # 1,2,...,9\n",
    "print(\"{:15}\".format('a[:3]:'), a[:3]) # 1,2,3\n",
    "print(\"{:15}\".format('a[3:6]:'), a[3:6]) # 4,5,6\n",
    "print(\"{:15}\".format('a[6:]:'), a[6:]) # 7, 8, 9\n",
    "print(\"{:15}\".format('a[::-1]:'), a[::-1]) # 反序\n",
    "print(\"{:15}\".format('a[:-4:-1]:'), a[:-4:-1]) # 9, 8, 7\n",
    "print(\"{:15}\".format('a[-4:-7:-1]:'), a[-4:-7:-1]) # 6, 5, 4\n",
    "print(\"{:15}\".format('a[-7::-1]:'), a[-7::-1]) # 3 2 1\n",
    "print(\"{:15}\".format('a[::]:'), a[::]) # 1 2 3 4 5 6 7 8 9\n",
    "print(\"{:15}\".format('a[:]:'), a[:]) # 1 2 3 4 5 6 7 8 9"
   ],
   "metadata": {
    "collapsed": false,
    "pycharm": {
     "name": "#%%\n"
    }
   }
  },
  {
   "cell_type": "code",
   "execution_count": 86,
   "outputs": [
    {
     "name": "stdout",
     "output_type": "stream",
     "text": [
      "[[1 2 3]\n",
      " [4 5 6]\n",
      " [7 8 9]]\n",
      "[[1 2]\n",
      " [4 5]]\n",
      "[[1 2 3]\n",
      " [7 8 9]]\n",
      "[[1 3]\n",
      " [7 9]]\n"
     ]
    }
   ],
   "source": [
    "import numpy as np\n",
    "a = np.arange(1, 10)\n",
    "a.resize((3,3))\n",
    "print(a)\n",
    "\n",
    "print(a[:2,:2])  # 获取3*3二维数组的前两行和前两列\n",
    "print(a[::2,:])  # 获取3*3二维数组的一三两行\n",
    "print(a[::2,::2])  # 获取3*3二维数组的一三两行和一三两列\n",
    "\n"
   ],
   "metadata": {
    "collapsed": false,
    "pycharm": {
     "name": "#%%\n"
    }
   }
  },
  {
   "cell_type": "code",
   "execution_count": 90,
   "outputs": [
    {
     "name": "stdout",
     "output_type": "stream",
     "text": [
      "[21 42 63 84]\n",
      "['MI' 'HuaWei' 'Apple' 'Oppo' 'Vivo']\n"
     ]
    }
   ],
   "source": [
    "import numpy as np\n",
    "\n",
    "a = np.arange(1, 101)\n",
    "mask = (a % 3 == 0) & (a % 7 == 0)\n",
    "print(a[mask])\n",
    "\n",
    "names = np.array(['Apple', 'MI', 'Vivo', 'Oppo', 'HuaWei'])\n",
    "\n",
    "rank = [1,4,0,3,2]\n",
    "print(names[rank])"
   ],
   "metadata": {
    "collapsed": false,
    "pycharm": {
     "name": "#%%\n"
    }
   }
  },
  {
   "cell_type": "code",
   "execution_count": 94,
   "outputs": [
    {
     "name": "stdout",
     "output_type": "stream",
     "text": [
      "[[1 2 3]\n",
      " [4 5 6]]\n",
      "[[ 7  8  9]\n",
      " [10 11 12]]\n",
      "[[ 1  2  3]\n",
      " [ 4  5  6]\n",
      " [ 7  8  9]\n",
      " [10 11 12]]\n",
      "[[1 2 3]\n",
      " [4 5 6]]\n",
      "[[ 7  8  9]\n",
      " [10 11 12]]\n"
     ]
    }
   ],
   "source": [
    "import numpy as np\n",
    "a = np.arange(1, 7).reshape(2, 3)\n",
    "b = np.arange(7, 13).reshape(2, 3)\n",
    "print(a)\n",
    "print(b)\n",
    "# 垂直方向完成组合操作，生成新数组\n",
    "c = np.vstack((a, b))\n",
    "print(c)\n",
    "# 垂直方向完成拆分操作，生成两个数组\n",
    "d, e = np.vsplit(c, 2)\n",
    "print(d)\n",
    "print(e)"
   ],
   "metadata": {
    "collapsed": false,
    "pycharm": {
     "name": "#%%\n"
    }
   }
  },
  {
   "cell_type": "code",
   "execution_count": null,
   "outputs": [],
   "source": [
    "import numpy as np\n",
    "a = np.arange(1, 7).reshape(2, 3)\n",
    "b = np.arange(7, 13).reshape(2, 3)\n",
    "print(a)\n",
    "print(b)\n",
    "# 水平方向完成组合操作，生成新数组\n",
    "c = np.hstack((a, b))\n",
    "print(c)\n",
    "\n",
    "# 水平方向完成拆分操作，生成两个数组\n",
    "d, e = np.hsplit(c, 2)\n",
    "print(d)\n",
    "print(e)"
   ],
   "metadata": {
    "collapsed": false,
    "pycharm": {
     "name": "#%%\n"
    }
   }
  },
  {
   "cell_type": "code",
   "execution_count": 97,
   "outputs": [
    {
     "name": "stdout",
     "output_type": "stream",
     "text": [
      "[[1 2 3]\n",
      " [4 5 6]] -->a\n",
      "[[ 7  8  9]\n",
      " [10 11 12]] -->b\n",
      "[[[ 1  7]\n",
      "  [ 2  8]\n",
      "  [ 3  9]]\n",
      "\n",
      " [[ 4 10]\n",
      "  [ 5 11]\n",
      "  [ 6 12]]] -->i\n",
      "[[[1]\n",
      "  [2]\n",
      "  [3]]\n",
      "\n",
      " [[4]\n",
      "  [5]\n",
      "  [6]]] -->k\n",
      "[[[ 7]\n",
      "  [ 8]\n",
      "  [ 9]]\n",
      "\n",
      " [[10]\n",
      "  [11]\n",
      "  [12]]] -->l\n"
     ]
    }
   ],
   "source": [
    "import numpy as np\n",
    "a = np.arange(1, 7).reshape(2, 3)\n",
    "b = np.arange(7, 13).reshape(2, 3)\n",
    "print(a, '-->a')\n",
    "print(b, '-->b')\n",
    "\n",
    "# 深度方向（3维）完成组合操作，生成新数组\n",
    "i = np.dstack((a, b))\n",
    "print(i, '-->i')\n",
    "# 深度方向（3维）完成拆分操作，生成两个数组\n",
    "k, l = np.dsplit(i, 2)\n",
    "print(k, '-->k')\n",
    "print(l, '-->l')"
   ],
   "metadata": {
    "collapsed": false,
    "pycharm": {
     "name": "#%%\n"
    }
   }
  },
  {
   "cell_type": "code",
   "execution_count": 98,
   "outputs": [
    {
     "name": "stdout",
     "output_type": "stream",
     "text": [
      "[ 1  2  3  4 -1]\n",
      "[[ 1  2  3  4  5]\n",
      " [ 1  2  3  4 -1]]\n"
     ]
    }
   ],
   "source": [
    "import numpy as np\n",
    "a = np.array([1,2,3,4,5])\n",
    "b = np.array([1,2,3,4])\n",
    "# 填充b数组使其长度与a相同,头部添加0个元素，尾部添加1个元素\n",
    "b = np.pad(b, pad_width=(0, 1), mode='constant', constant_values=-1)\n",
    "print(b)\n",
    "# 垂直方向完成组合操作，生成新数组\n",
    "c = np.vstack((a, b))\n",
    "print(c)"
   ],
   "metadata": {
    "collapsed": false,
    "pycharm": {
     "name": "#%%\n"
    }
   }
  },
  {
   "cell_type": "code",
   "execution_count": 100,
   "outputs": [
    {
     "name": "stdout",
     "output_type": "stream",
     "text": [
      "[[ 1  2  3  4  5  6  7  8]\n",
      " [ 9 10 11 12 13 14 15 16]]\n",
      "[[ 1  9]\n",
      " [ 2 10]\n",
      " [ 3 11]\n",
      " [ 4 12]\n",
      " [ 5 13]\n",
      " [ 6 14]\n",
      " [ 7 15]\n",
      " [ 8 16]]\n"
     ]
    }
   ],
   "source": [
    "import numpy as np\n",
    "a = np.arange(1,9)\t\t#[1, 2, 3, 4, 5, 6, 7, 8]\n",
    "b = np.arange(9,17)\t\t#[9,10,11,12,13,14,15,16]\n",
    "#把两个数组摞在一起成两行\n",
    "c = np.row_stack((a, b))\n",
    "print(c)\n",
    "#把两个数组组合在一起成两列\n",
    "d = np.column_stack((a, b))\n",
    "print(d)"
   ],
   "metadata": {
    "collapsed": false,
    "pycharm": {
     "name": "#%%\n"
    }
   }
  },
  {
   "cell_type": "code",
   "execution_count": 101,
   "outputs": [
    {
     "name": "stdout",
     "output_type": "stream",
     "text": [
      "(3, 3)\n",
      "complex128\n",
      "2\n",
      "9\n",
      "16\n",
      "144\n",
      "[[1. 2. 3.]\n",
      " [4. 5. 6.]\n",
      " [7. 8. 9.]]\n",
      "[[1. 4. 7.]\n",
      " [2. 5. 8.]\n",
      " [3. 6. 9.]]\n",
      "[[1.+1.j 4.+2.j 7.+3.j]\n",
      " [2.+4.j 5.+5.j 8.+6.j]\n",
      " [3.+7.j 6.+8.j 9.+9.j]]\n",
      "[(1+1j), (2+4j), (3+7j), (4+2j), (5+5j), (6+8j), (7+3j), (8+6j), (9+9j)]\n",
      "[[(1+1j), (2+4j), (3+7j)], [(4+2j), (5+5j), (6+8j)], [(7+3j), (8+6j), (9+9j)]]\n"
     ]
    }
   ],
   "source": [
    "import numpy as np\n",
    "a = np.array([[1 + 1j, 2 + 4j, 3 + 7j],\n",
    "              [4 + 2j, 5 + 5j, 6 + 8j],\n",
    "              [7 + 3j, 8 + 6j, 9 + 9j]])\n",
    "print(a.shape)\n",
    "print(a.dtype)\n",
    "print(a.ndim)\n",
    "print(a.size)\n",
    "print(a.itemsize)\n",
    "print(a.nbytes)\n",
    "print(a.real, a.imag, sep='\\n')\n",
    "print(a.T)\n",
    "print([elem for elem in a.flat])\n",
    "b = a.tolist()\n",
    "print(b)"
   ],
   "metadata": {
    "collapsed": false,
    "pycharm": {
     "name": "#%%\n"
    }
   }
  }
 ],
 "metadata": {
  "kernelspec": {
   "display_name": "Python 3",
   "language": "python",
   "name": "python3"
  },
  "language_info": {
   "codemirror_mode": {
    "name": "ipython",
    "version": 2
   },
   "file_extension": ".py",
   "mimetype": "text/x-python",
   "name": "python",
   "nbconvert_exporter": "python",
   "pygments_lexer": "ipython2",
   "version": "2.7.6"
  }
 },
 "nbformat": 4,
 "nbformat_minor": 0
}